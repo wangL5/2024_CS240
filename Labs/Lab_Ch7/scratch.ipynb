{
 "cells": [
  {
   "cell_type": "code",
   "execution_count": 34,
   "metadata": {},
   "outputs": [
    {
     "name": "stdout",
     "output_type": "stream",
     "text": [
      "[['Jill', 31, [93, 97, 100]], ['Josh', 30, [92, 96, 99]], ['Jessica', 29, [91, 95, 98]], ['Jake', 28, [90, 94, 97]], ['Jenny', 27, [89, 93, 96]], ['Kyle', 26, [88, 92, 95]], ['Alex', 25, [87, 91, 94]], ['Lee', 24, [86, 90, 93]], ['Kim', 23, [85, 89, 91]], ['Doe', 22, [84, 88, 92]], ['Jane', 21, [82, 86, 89]], ['John', 20, [80, 85, 90]]]\n"
     ]
    }
   ],
   "source": [
    "students = [\n",
    "    [\"John\", 20, [80, 85, 90]],\n",
    "    [\"Jane\", 21, [82, 86, 89]],\n",
    "    [\"Doe\", 22, [84, 88, 92]],\n",
    "    ['Kim', 23, [85, 89, 91]],\n",
    "    ['Lee', 24, [86, 90, 93]],\n",
    "    ['Alex', 25, [87, 91, 94]],\n",
    "    ['Kyle', 26, [88, 92, 95]],\n",
    "    ['Jenny', 27, [89, 93, 96]],\n",
    "    ['Jake', 28, [90, 94, 97]],\n",
    "    ['Jessica', 29, [91, 95, 98]],\n",
    "    ['Josh', 30, [92, 96, 99]],\n",
    "    ['Jill', 31, [93, 97, 100]]]\n",
    "\n",
    "# sorting by total score\n",
    "# students.sort(key = lambda student: sum(student[2]))  # you're using key to iterate over the iterant first, so student is referring to the first level iteration within the list \n",
    "# students.sort(key = lambda student: sum(student[2]), reverse = True) \n",
    "\n",
    "#sorting by the age \n",
    "# students.sort(key = lambda student: student[1])\n",
    "# students.sort(key = lambda student: student[1], reverse = True)\n",
    "\n",
    "# sorting by name\n",
    "\n",
    "print(students)\n",
    "\n",
    "\n",
    "        \n"
   ]
  },
  {
   "cell_type": "markdown",
   "metadata": {},
   "source": [
    "- Key = 1: Sort the students by the total score\n",
    "- Key = 2: Sort the students by the age \n",
    "- Key = 3: Sort the students by the name \n",
    "- Ascending = True: Sort in ascending order\n",
    "- Ascending = False: Sort in descending order"
   ]
  },
  {
   "cell_type": "code",
   "execution_count": null,
   "metadata": {},
   "outputs": [],
   "source": [
    "# def sort_students(students, key, ascending):\n",
    "\n",
    "# sort by key1: sort the students by the total score\n"
   ]
  },
  {
   "cell_type": "code",
   "execution_count": 5,
   "metadata": {},
   "outputs": [],
   "source": [
    "num1 = [1,2,3]\n",
    "num1[0] = 10"
   ]
  },
  {
   "cell_type": "markdown",
   "metadata": {},
   "source": [
    "Input all numbers at once as a string value\n",
    "○ input_str = input( ) # 10 20 30 40 50\n",
    "● Split the string list into the string list ○ numbers = input_str.split()\n",
    "● Convert each element to the integer value ○ for i in range(len(numbers)):\n",
    "■ numbers[i] = int(numbers[i])\n",
    " "
   ]
  },
  {
   "cell_type": "code",
   "execution_count": 16,
   "metadata": {},
   "outputs": [
    {
     "name": "stdout",
     "output_type": "stream",
     "text": [
      "1 2 3 4 5\n",
      "['1', '2', '3', '4', '5']\n",
      "[1, 2, 3, 4, 5]\n"
     ]
    }
   ],
   "source": [
    "input_str = input(\"input a few numbers: \")\n",
    "print(input_str)\n",
    "# split the string list into a string list of numbers?\n",
    "numbers = input_str.split()\n",
    "print(numbers)\n",
    "# conver each element to the integer value\n",
    "for i in range(len(numbers)):\n",
    "    numbers[i] = int(numbers[i])\n",
    "print(numbers)"
   ]
  },
  {
   "cell_type": "code",
   "execution_count": null,
   "metadata": {},
   "outputs": [],
   "source": [
    "uservalues = input( )\n",
    "numbers = list(uservalues.split())"
   ]
  },
  {
   "cell_type": "markdown",
   "metadata": {},
   "source": [
    "syntax for the map() function is map(function, iterable) \n",
    "this allows you to apply the function to every element in the iterable \n"
   ]
  },
  {
   "cell_type": "code",
   "execution_count": 21,
   "metadata": {},
   "outputs": [
    {
     "name": "stdout",
     "output_type": "stream",
     "text": [
      "[10, 20, 30, 40, 50, 60]\n"
     ]
    },
    {
     "ename": "IndexError",
     "evalue": "list index out of range",
     "output_type": "error",
     "traceback": [
      "\u001b[0;31m---------------------------------------------------------------------------\u001b[0m",
      "\u001b[0;31mIndexError\u001b[0m                                Traceback (most recent call last)",
      "Cell \u001b[0;32mIn[21], line 5\u001b[0m\n\u001b[1;32m      3\u001b[0m \u001b[38;5;28mprint\u001b[39m (num_list)\n\u001b[1;32m      4\u001b[0m \u001b[38;5;66;03m# looks like it inserts at the end if you put an out of range index \u001b[39;00m\n\u001b[0;32m----> 5\u001b[0m \u001b[38;5;28mprint\u001b[39m(num_list[\u001b[38;5;241m35556\u001b[39m])\n",
      "\u001b[0;31mIndexError\u001b[0m: list index out of range"
     ]
    }
   ],
   "source": [
    "num_list = [10, 20, 30, 40, 50]\n",
    "num_list.insert(35555, 60)  # do not try with uncertain index \n",
    "print (num_list)\n",
    "# looks like it inserts at the end if you put an out of range index \n",
    "print(num_list[35556])  # error"
   ]
  },
  {
   "cell_type": "code",
   "execution_count": 18,
   "metadata": {},
   "outputs": [
    {
     "name": "stdout",
     "output_type": "stream",
     "text": [
      "15 10 20 30 40 50 "
     ]
    }
   ],
   "source": [
    "num_list = [10, 20, 30, 40, 50]\n",
    "add_val = 15\n",
    "num_list.insert(0, add_val)\n",
    "for v in num_list:\n",
    "    print (v, end=' ')\n",
    "# inserting at index 0, so moves everything to the right\n",
    " "
   ]
  },
  {
   "cell_type": "code",
   "execution_count": null,
   "metadata": {},
   "outputs": [],
   "source": [
    "def reconstruct_list(numbers, rows, cols):\n",
    "    \n",
    "\n",
    "numbers = [ 1, 2, 3, 4, 5, 6, 7, 8, 9, 10, 11, 12, 13, 14, 15, 16, 17, 18, 19, 20, 21, 22, 23, 24] \n",
    "new_numbers = reconstruct_list(numbers, 4, 6)\n",
    "print (new_numbers)\n",
    "\n"
   ]
  }
 ],
 "metadata": {
  "kernelspec": {
   "display_name": "base",
   "language": "python",
   "name": "python3"
  },
  "language_info": {
   "codemirror_mode": {
    "name": "ipython",
    "version": 3
   },
   "file_extension": ".py",
   "mimetype": "text/x-python",
   "name": "python",
   "nbconvert_exporter": "python",
   "pygments_lexer": "ipython3",
   "version": "3.12.4"
  }
 },
 "nbformat": 4,
 "nbformat_minor": 2
}
