{
 "cells": [
  {
   "cell_type": "markdown",
   "metadata": {},
   "source": [
    "<style>\n",
    "\th1 {\n",
    "\t--\tbackground-color: grey;\n",
    "\t\tcolor: yellow\n",
    "\t\tborder: 3px solid grey\n",
    "\n",
    "\t}\n",
    "\tp {\n",
    "\t\tbackground-color: grey;\n",
    "\t\tcolor: white\n",
    "\t\tborder: 3px solid grey\n",
    "\n",
    "\t}\n",
    "</style>\n",
    "<h1> Chapter 9 Dictionary and File Handling: Part 1</h1>"
   ]
  },
  {
   "cell_type": "markdown",
   "metadata": {},
   "source": [
    "<p style=\"margin-left:40px\"> 9.1 Basic Examples of Dictionary</p>\n",
    "\n",
    "<p style=\"margin-left:40px\"> 9.2 File I/O </p>\n",
    "\n",
    "<p style=\"margin-left:40px\"> 9.3 File I/O with Dictionary </p>\n"
   ]
  },
  {
   "cell_type": "markdown",
   "metadata": {},
   "source": [
    "***\n",
    "\n",
    "## <p style=\"background-color: grey; color: white \"> ◼️  Dictionary </p>\n",
    "# <p style=\"font-family: Arial; font-size:1.4em;color:red;\"> 1. Basic Examples of Dictionary</p>\n"
   ]
  },
  {
   "cell_type": "markdown",
   "metadata": {},
   "source": [
    "A `dict` (short for dictionary) is a collection of key-value pairs, where each key is unique and is used to access its associated value. It is an unordered, mutable, and indexed collection that allows for fast data retrieval.\n",
    "\n",
    "### Key Characteristics:\n",
    "- **Mutable**: You can change the values of existing keys or add new key-value pairs.\n",
    "- **Unique Keys**: Keys must be unique, though values can be duplicated.\n",
    "- **Unordered**: Python dictionaries do not maintain the order of items (before Python 3.7), but starting from Python 3.7, they maintain insertion order.\n"
   ]
  },
  {
   "cell_type": "markdown",
   "metadata": {},
   "source": [
    "<style>\n",
    "\th3{\n",
    "\t\tbackground-color: grey\n",
    "\t\tcolor: white\n",
    "\t}\n",
    "</style>\n",
    "\n",
    "<h1> Initialization the Dictionary </h1>\n",
    "<a href=\"https://docs.python.org/3/library/stdtypes.html#mapping-types-dict\"> Python Official Documentation </a>\n",
    "\n",
    "\n"
   ]
  },
  {
   "cell_type": "markdown",
   "metadata": {},
   "source": [
    "<!DOCTYPE html>\n",
    "<html lang=\"en\">\n",
    "<head>\n",
    "    <meta charset=\"UTF-8\">\n",
    "    <meta name=\"viewport\" content=\"width=device-width, initial-scale=1.0\">\n",
    "    <title>Two Rows Three Columns</title>\n",
    "    <style>\n",
    "        table {\n",
    "            width: 50%;\n",
    "            border-collapse: collapse;\n",
    "        }\n",
    "        th, td {\n",
    "            border: 1px solid black;\n",
    "            padding: 10px;\n",
    "            text-align: center;\n",
    "        }\n",
    "    </style>\n",
    "</head>\n",
    "<body>\n",
    "    <h2>Student Information</h2>\n",
    "    <table>\n",
    "        <tr>\n",
    "            <th>ID</th>\n",
    "            <th>Name</th>\n",
    "            <th>Score</th>\n",
    "        </tr>\n",
    "        <tr>\n",
    "            <td>900123456</td>\n",
    "            <td>John Lee</td>\n",
    "            <td>[100, 90, 80]</td>\n",
    "        </tr\n",
    "\n",
    "### Make a dictionary by using the following methods"
   ]
  },
  {
   "cell_type": "code",
   "execution_count": 2,
   "metadata": {},
   "outputs": [
    {
     "data": {
      "text/plain": [
       "{'ID': 900123456, 'Name': 'John Lee', 'Score': [100, 90, 80]}"
      ]
     },
     "execution_count": 2,
     "metadata": {},
     "output_type": "execute_result"
    }
   ],
   "source": [
    "# (1) \n",
    "dict1 = dict(ID=900123456, Name=\"John Lee\", Score=[100, 90, 80])\n",
    "dict1"
   ]
  },
  {
   "cell_type": "code",
   "execution_count": 1,
   "metadata": {},
   "outputs": [
    {
     "data": {
      "text/plain": [
       "{'ID': 900123456, 'Name': 'John Lee', 'Score': [100, 90, 80]}"
      ]
     },
     "execution_count": 1,
     "metadata": {},
     "output_type": "execute_result"
    }
   ],
   "source": [
    "# [2]\n",
    "dict2 = dict({'ID':900123456, 'Name':'John Lee', 'Score':[100, 90, 80]})\n",
    "dict2"
   ]
  },
  {
   "cell_type": "code",
   "execution_count": 3,
   "metadata": {},
   "outputs": [
    {
     "data": {
      "text/plain": [
       "{'ID': 900123456, 'Name': 'John Lee', 'Score': [100, 90, 80]}"
      ]
     },
     "execution_count": 3,
     "metadata": {},
     "output_type": "execute_result"
    }
   ],
   "source": [
    "# [3]\n",
    "dict3 = dict([('ID', 900123456), ('Name', 'John Lee'), ('Score', [100, 90, 80])])\n",
    "dict3"
   ]
  },
  {
   "cell_type": "code",
   "execution_count": 4,
   "metadata": {},
   "outputs": [
    {
     "data": {
      "text/plain": [
       "{'ID': 900123456, 'Name': 'John Lee', 'Score': [100, 90, 80]}"
      ]
     },
     "execution_count": 4,
     "metadata": {},
     "output_type": "execute_result"
    }
   ],
   "source": [
    "dict4 = dict(zip(['ID', 'Name', 'Score'], [900123456, 'John Lee', [100, 90, 80]]))\n",
    "dict4"
   ]
  },
  {
   "cell_type": "markdown",
   "metadata": {},
   "source": [
    "#### <p style=\"font-family: Arial; font-size:1.4em; background-color: yellow; color:black;\"> Problem #1.0 </p>\n",
    "\n",
    "#### Make a dictionary with the following keys and values\n",
    "- keys: {'CRN', 'CourseTitle', 'CourseCredit', 'CourseGrade'}\n",
    "- values: {'COMSC240', 'Advanced PythonProgramming', 3, 'A'}"
   ]
  },
  {
   "cell_type": "markdown",
   "metadata": {},
   "source": [
    "#### Use any of the methods above to make the dictionary\n",
    "#### Code the solution in the cell below"
   ]
  },
  {
   "cell_type": "code",
   "execution_count": 5,
   "metadata": {},
   "outputs": [
    {
     "data": {
      "text/plain": [
       "{'ID': 900123456, 'Name': 'John Lee', 'Score': [100, 90, 80]}"
      ]
     },
     "execution_count": 5,
     "metadata": {},
     "output_type": "execute_result"
    }
   ],
   "source": [
    "keys = ['ID', 'Name', 'Score']\n",
    "values = [900123456, 'John Lee', [100,90,80]]\n",
    "\n",
    "new_dict = dict(zip(keys,values))\n",
    "new_dict\n",
    "\n"
   ]
  },
  {
   "cell_type": "markdown",
   "metadata": {},
   "source": [
    "---\n",
    "<style>\n",
    "\th3{\n",
    "\t\tbackground-color: grey\n",
    "\t\tcolor: white\n",
    "\t}\n",
    "</style>\n",
    "\n",
    "<h1> Accessing Elements in the Dictionary </h1>\n",
    "<a href=\"https://docs.python.org/3/library/stdtypes.html#mapping-types-dict\"> Python Official Documentation </a>\n",
    "\n",
    "\n"
   ]
  },
  {
   "cell_type": "markdown",
   "metadata": {},
   "source": [
    "Accessing elements in a dictionary is done using the keys. You can retrieve the value associated with a specific key using the following syntax:\n",
    "\n",
    "```python\n",
    "value = dictionary[key]\n",
    "```\n"
   ]
  },
  {
   "cell_type": "code",
   "execution_count": 6,
   "metadata": {},
   "outputs": [
    {
     "data": {
      "text/plain": [
       "'Advanced Python Programming'"
      ]
     },
     "execution_count": 6,
     "metadata": {},
     "output_type": "execute_result"
    }
   ],
   "source": [
    "courses= dict(CRN='COMSC240', CourseTitle='Advanced Python Programming', CourseCredit=3, CourseGrade='A')\n",
    "courses['CourseTitle']"
   ]
  },
  {
   "cell_type": "markdown",
   "metadata": {},
   "source": [
    "### How to print all element with key value pairs\n",
    "```python\n",
    "for key, value in courses.items():\n",
    "    print(f\"{key}: {value}\")\n",
    "```\n"
   ]
  },
  {
   "cell_type": "code",
   "execution_count": 7,
   "metadata": {},
   "outputs": [
    {
     "name": "stdout",
     "output_type": "stream",
     "text": [
      "CRN: COMSC240\n",
      "CourseTitle: Advanced Python Programming\n",
      "CourseCredit: 3\n",
      "CourseGrade: A\n"
     ]
    }
   ],
   "source": [
    "for key, value in courses.items():\n",
    "    print(f\"{key}: {value}\")"
   ]
  },
  {
   "cell_type": "markdown",
   "metadata": {},
   "source": [
    "### How to print all keys\n",
    "```python\n",
    "for key in courses.keys():\n",
    "    print(key)\n",
    "```\n"
   ]
  },
  {
   "cell_type": "code",
   "execution_count": 8,
   "metadata": {},
   "outputs": [
    {
     "name": "stdout",
     "output_type": "stream",
     "text": [
      "CRN\n",
      "CourseTitle\n",
      "CourseCredit\n",
      "CourseGrade\n"
     ]
    }
   ],
   "source": [
    "for key in courses.keys():\n",
    "    print(key)"
   ]
  },
  {
   "cell_type": "markdown",
   "metadata": {},
   "source": [
    "### How to print all values\n",
    "```python\n",
    "for value in courses.values():\n",
    "    print(value)\n",
    "```\n"
   ]
  },
  {
   "cell_type": "code",
   "execution_count": 9,
   "metadata": {},
   "outputs": [
    {
     "name": "stdout",
     "output_type": "stream",
     "text": [
      "COMSC240\n",
      "Advanced Python Programming\n",
      "3\n",
      "A\n"
     ]
    }
   ],
   "source": [
    "for value in courses.values():\n",
    "    print(value)"
   ]
  },
  {
   "cell_type": "markdown",
   "metadata": {},
   "source": [
    "### How to print all values according to the keys\n",
    "```python\n",
    "for key in courses.keys():\n",
    "    print(courses[key])\n",
    "```"
   ]
  },
  {
   "cell_type": "code",
   "execution_count": 10,
   "metadata": {},
   "outputs": [
    {
     "name": "stdout",
     "output_type": "stream",
     "text": [
      "COMSC240\n",
      "Advanced Python Programming\n",
      "3\n",
      "A\n"
     ]
    }
   ],
   "source": [
    "for key in courses.keys():\n",
    "    print(courses[key])"
   ]
  },
  {
   "cell_type": "markdown",
   "metadata": {},
   "source": [
    "### How to check if a key exists in the dictionary\n",
    "```python\n",
    "if 'CourseTitle' in courses:\n",
    "    print(\"Yes, 'CourseTitle' is one of the keys in the course_info dictionary\")\n",
    "```"
   ]
  },
  {
   "cell_type": "code",
   "execution_count": 11,
   "metadata": {},
   "outputs": [
    {
     "name": "stdout",
     "output_type": "stream",
     "text": [
      "Yes\n"
     ]
    }
   ],
   "source": [
    "if 'CourseTitle' in courses:\n",
    "    print('Yes')"
   ]
  },
  {
   "cell_type": "markdown",
   "metadata": {},
   "source": [
    "### How to find the key from the value  \n",
    "```python\n",
    "list(courses.keys())[list(courses.values()).index('Advanced Python Programming')]\n",
    "```"
   ]
  },
  {
   "cell_type": "code",
   "execution_count": 12,
   "metadata": {},
   "outputs": [
    {
     "data": {
      "text/plain": [
       "'CourseTitle'"
      ]
     },
     "execution_count": 12,
     "metadata": {},
     "output_type": "execute_result"
    }
   ],
   "source": [
    "list(courses.keys())[list(courses.values()).index('Advanced Python Programming')]\n",
    "# breakdown the above code\n",
    "idx = list(courses.values()).index('Advanced Python Programming')\n",
    "list(courses.keys())[idx]\n"
   ]
  },
  {
   "cell_type": "code",
   "execution_count": 17,
   "metadata": {},
   "outputs": [
    {
     "data": {
      "text/plain": [
       "'CourseTitle'"
      ]
     },
     "execution_count": 17,
     "metadata": {},
     "output_type": "execute_result"
    }
   ],
   "source": [
    "courses.values()\n",
    "list(courses.values())\n",
    "list(courses.values()).index('Advanced Python Programming')\n",
    "list(courses.keys())[list(courses.values()).index('Advanced Python Programming')]"
   ]
  },
  {
   "cell_type": "markdown",
   "metadata": {},
   "source": [
    "#### <p style=\"font-family: Arial; font-size:1.4em; background-color: yellow; color:black;\"> Problem #1.1 </p>\n",
    "\n",
    "#### Make a LIST of dictionary \"course\" with the following keys and values\n",
    "\n",
    "\n",
    "<!DOCTYPE html>\n",
    "<html lang=\"en\">\n",
    "<head>\n",
    "    <meta charset=\"UTF-8\">\n",
    "    <meta name=\"viewport\" content=\"width=device-width, initial-scale=1.0\">\n",
    "    <title>Course Information</title>\n",
    "    <style>\n",
    "        table {\n",
    "            width: 60%;\n",
    "            border-collapse: collapse;\n",
    "            margin: 20px 0;\n",
    "        }\n",
    "        th, td {\n",
    "            border: 1px solid black;\n",
    "            padding: 10px;\n",
    "            text-align: left;\n",
    "        }\n",
    "    </style>\n",
    "</head>\n",
    "<body>\n",
    "    <h2>Course Information</h2>\n",
    "    <table>\n",
    "        <tr>\n",
    "            <th>CRN</th>\n",
    "            <th>Course Title</th>\n",
    "            <th>Course Credit</th>\n",
    "            <th>Course Grade</th>\n",
    "        </tr>\n",
    "        <tr>\n",
    "            <td>COMSC240</td>\n",
    "            <td>Advanced Python Programming</td>\n",
    "            <td>3</td>\n",
    "            <td>A</td>\n",
    "        </tr>\n",
    "        <tr>\n",
    "            <td>COMSC140</td>\n",
    "            <td>Intro to Python Programming</td>\n",
    "            <td>3</td>\n",
    "            <td>B</td>\n",
    "        </tr>\n",
    "        <tr>\n",
    "            <td>COMSC340</td>\n",
    "            <td>Data Structure</td>\n",
    "            <td>3</td>\n",
    "            <td>A</td>\n",
    "        </tr>\n",
    "        <tr>\n",
    "            <td>COMSC440</td>\n",
    "            <td>Database</td>\n",
    "            <td>3</td>\n",
    "            <td>B</td>\n",
    "        </tr>\n",
    "    </table>\n",
    "</body>\n",
    "</html>\n"
   ]
  },
  {
   "cell_type": "code",
   "execution_count": 19,
   "metadata": {},
   "outputs": [
    {
     "data": {
      "text/plain": [
       "[{'CRN': 'COMSC240',\n",
       "  'Course Title': 'Advanced Python Programming',\n",
       "  'Course Credit': 3,\n",
       "  'Course Grade': 'A'},\n",
       " {'CRN': 'COMSC140',\n",
       "  'Course Title': 'Intro to Python Programming',\n",
       "  'Course Credit': 3,\n",
       "  'Course Grade': 'B'},\n",
       " {'CRN': 'COMSC340',\n",
       "  'Course Title': 'Data Structure',\n",
       "  'Course Credit': 3,\n",
       "  'Course Grade': 'A'},\n",
       " {'CRN': 'COMSC440',\n",
       "  'Course Title': 'Database',\n",
       "  'Course Credit': 3,\n",
       "  'Course Grade': 'B'}]"
      ]
     },
     "execution_count": 19,
     "metadata": {},
     "output_type": "execute_result"
    }
   ],
   "source": [
    "## Code Here\n",
    "## No neeed to make a loop to make the dictionary\n",
    "## Use the naive way with hard coding like {'CRN': 'COMSC240', and so on}\n",
    "\n",
    "course = [ {'CRN': 'COMSC240', 'Course Title': 'Advanced Python Programming', 'Course Credit': 3, 'Course Grade': 'A'},\n",
    "          {'CRN': 'COMSC140', 'Course Title': 'Intro to Python Programming', 'Course Credit': 3, 'Course Grade': 'B'},\n",
    "          {'CRN': 'COMSC340', 'Course Title': 'Data Structure', 'Course Credit': 3, 'Course Grade': 'A'},\n",
    "          {'CRN': 'COMSC440', 'Course Title': 'Database', 'Course Credit': 3, 'Course Grade': 'B'},\n",
    "        ]\n",
    "\n",
    "course"
   ]
  },
  {
   "cell_type": "markdown",
   "metadata": {},
   "source": [
    "#### <p style=\"font-family: Arial; font-size:1.4em; background-color: yellow; color:black;\"> Problem #1.1 </p>\n",
    "\n",
    "#### Make a code to print all the elements in the list of dictionary \"course\""
   ]
  },
  {
   "cell_type": "code",
   "execution_count": 21,
   "metadata": {},
   "outputs": [
    {
     "name": "stdout",
     "output_type": "stream",
     "text": [
      "{'CRN': 'COMSC240', 'Course Title': 'Advanced Python Programming', 'Course Credit': 3, 'Course Grade': 'A'}\n",
      "{'CRN': 'COMSC140', 'Course Title': 'Intro to Python Programming', 'Course Credit': 3, 'Course Grade': 'B'}\n",
      "{'CRN': 'COMSC340', 'Course Title': 'Data Structure', 'Course Credit': 3, 'Course Grade': 'A'}\n",
      "{'CRN': 'COMSC440', 'Course Title': 'Database', 'Course Credit': 3, 'Course Grade': 'B'}\n"
     ]
    }
   ],
   "source": [
    "## print all elements in the list of dictionary 'course'\n",
    "\n",
    "for item in course:\n",
    "    print(item)"
   ]
  },
  {
   "cell_type": "markdown",
   "metadata": {},
   "source": [
    "#### <p style=\"font-family: Arial; font-size:1.4em; background-color: yellow; color:black;\"> Problem #1.2 </p>\n",
    "\n",
    "### Make a code to change the course credit to 4 for the courses which CourseGrade is 'A'\n"
   ]
  },
  {
   "cell_type": "code",
   "execution_count": 28,
   "metadata": {},
   "outputs": [
    {
     "data": {
      "text/plain": [
       "[{'CRN': 'COMSC240',\n",
       "  'Course Title': 'Advanced Python Programming',\n",
       "  'Course Credit': 4,\n",
       "  'Course Grade': 'A'},\n",
       " {'CRN': 'COMSC140',\n",
       "  'Course Title': 'Intro to Python Programming',\n",
       "  'Course Credit': 3,\n",
       "  'Course Grade': 'B'},\n",
       " {'CRN': 'COMSC340',\n",
       "  'Course Title': 'Data Structure',\n",
       "  'Course Credit': 4,\n",
       "  'Course Grade': 'A'},\n",
       " {'CRN': 'COMSC440',\n",
       "  'Course Title': 'Database',\n",
       "  'Course Credit': 3,\n",
       "  'Course Grade': 'B'}]"
      ]
     },
     "execution_count": 28,
     "metadata": {},
     "output_type": "execute_result"
    }
   ],
   "source": [
    "for item in course:\n",
    "    if item['Course Grade'] == 'A':\n",
    "        item['Course Credit'] = 4\n",
    "\n",
    "course\n"
   ]
  },
  {
   "cell_type": "markdown",
   "metadata": {},
   "source": [
    "#### <p style=\"font-family: Arial; font-size:1.4em; background-color: yellow; color:black;\"> Problem #1.3 </p>\n",
    "\n",
    "### Make a code to print the sum of all credits for the courses which includes 'Python' in the CourseTitle\n"
   ]
  },
  {
   "cell_type": "code",
   "execution_count": 33,
   "metadata": {},
   "outputs": [
    {
     "data": {
      "text/plain": [
       "7"
      ]
     },
     "execution_count": 33,
     "metadata": {},
     "output_type": "execute_result"
    }
   ],
   "source": [
    "total = 0\n",
    "for item in course:\n",
    "    if 'Python' in item['Course Title']:\n",
    "        total += item['Course Credit']\n",
    "total"
   ]
  },
  {
   "cell_type": "markdown",
   "metadata": {},
   "source": [
    "#### <p style=\"font-family: Arial; font-size:1.4em; background-color: yellow; color:black;\"> Problem #1.4 </p>\n",
    "\n",
    "### Make a code to construct a dictionary course with the following lists of keys and values.\n",
    "```python\n",
    "keys =  ['CRN', 'CourseTitle', 'CourseCredit', 'CourseGrade']\n",
    "values =  [ ['COMSC240', 'Advanced Python Programming', 3, 'A'], \n",
    "            ['COMSC140', 'Intro to Python Programming', 3, 'B'], \n",
    "            ['COMSC340', 'Data Structure', 3, 'A'], \n",
    "            ['COMSC440', 'Database', 3, 'B'] ]\n",
    "```\n",
    "\n",
    "#### [Tip] Use the zip function to combine the keys and values"
   ]
  },
  {
   "cell_type": "code",
   "execution_count": 41,
   "metadata": {},
   "outputs": [
    {
     "data": {
      "text/plain": [
       "{'CRN': ('COMSC240', 'COMSC140', 'COMSC340', 'COMSC440'),\n",
       " 'CourseTitle': ('Advanced Python Programming',\n",
       "  'Intro to Python Programming',\n",
       "  'Data Structure',\n",
       "  'Database'),\n",
       " 'CourseCredit': (3, 3, 3, 3),\n",
       " 'CourseGrade': ('A', 'B', 'A', 'B')}"
      ]
     },
     "execution_count": 41,
     "metadata": {},
     "output_type": "execute_result"
    }
   ],
   "source": [
    "keys =  ['CRN', 'CourseTitle', 'CourseCredit', 'CourseGrade']\n",
    "values =  [ ['COMSC240', 'Advanced Python Programming', 3, 'A'], \n",
    "            ['COMSC140', 'Intro to Python Programming', 3, 'B'], \n",
    "            ['COMSC340', 'Data Structure', 3, 'A'], \n",
    "            ['COMSC440', 'Database', 3, 'B'] ]\n",
    "course = [] \n",
    "\n",
    "unzipped = list(zip(*values))\n",
    "#unzipped\n",
    "\n",
    "course_list = dict(zip(keys,unzipped))\n",
    "course_list \n"
   ]
  },
  {
   "cell_type": "code",
   "execution_count": 42,
   "metadata": {},
   "outputs": [
    {
     "data": {
      "text/plain": [
       "(3, 3, 3, 3)"
      ]
     },
     "execution_count": 42,
     "metadata": {},
     "output_type": "execute_result"
    }
   ],
   "source": [
    "course_list['CourseCredit']"
   ]
  },
  {
   "cell_type": "markdown",
   "metadata": {},
   "source": [
    "<mark> Save your file by pressing \"Ctrl+S\" or \"git commit -m \"your message\"\" </mark> "
   ]
  },
  {
   "cell_type": "markdown",
   "metadata": {},
   "source": [
    "***\n",
    "\n",
    "## <p style=\"background-color: grey; color: white \"> ◼️  File I/O </p>\n",
    "# <p style=\"font-family: Arial; font-size:l.4em;color:red;\"> 2. Basic Examples of File I/O </p>\n"
   ]
  },
  {
   "cell_type": "markdown",
   "metadata": {},
   "source": [
    "In Python, **File I/O (Input/Output)** refers to the process of reading from and writing to files. It allows programs to persist data between executions or handle large datasets. To work with files, you typically use Python's built-in `open()` function, which opens a file in different modes: reading (`'r'`), writing (`'w'`), or appending (`'a'`). You can then perform file operations like reading the content using `read()` or `readlines()` and writing data using `write()` or `writelines()`. After performing operations, it’s essential to close the file using `close()` or utilize the `with` statement to handle files automatically.\n",
    "\n",
    "Example:\n",
    "```python\n",
    "with open(\"example.txt\", \"w\") as file:\n",
    "    file.write(\"Hello, World!\")\n"
   ]
  },
  {
   "cell_type": "code",
   "execution_count": null,
   "metadata": {},
   "outputs": [],
   "source": [
    "with open(\"example.txt\", \"w\") as file:\n",
    "    file.write(\"magus cat\")\n",
    "\n",
    "# this file did not exist\n",
    "# this code created a file in write mode"
   ]
  },
  {
   "cell_type": "markdown",
   "metadata": {},
   "source": [
    "To **read** data from a file in Python, you use the `open()` function with the file mode set to `'r'` (read). The file content can then be accessed using methods such as `read()`, which reads the entire file as a string, `readline()` to read a single line, or `readlines()` to return a list of all lines. Once the file operations are complete, the file should be closed to free up resources, although using the `with` statement ensures the file is automatically closed when you're done.\n",
    "\n",
    "### Example of reading a file:\n",
    "```python\n",
    "with open(\"example.txt\", \"r\") as file:\n",
    "    content = file.read()\n",
    "    print(content)\n"
   ]
  },
  {
   "cell_type": "code",
   "execution_count": null,
   "metadata": {},
   "outputs": [
    {
     "name": "stdout",
     "output_type": "stream",
     "text": [
      "magus cat\n",
      "lady dog\n"
     ]
    }
   ],
   "source": [
    "with open(\"example.txt\", \"r\") as file:\n",
    "    content = file.read() # using .readline() here will only give you the first line\n",
    "    # while .readlines() will indeed give you a list of all lines \n",
    "    print(content)"
   ]
  },
  {
   "cell_type": "code",
   "execution_count": 51,
   "metadata": {},
   "outputs": [],
   "source": [
    "## Write a code with the following examples \n",
    "'''\n",
    "Advanced Python Programming\n",
    "COMSC240\n",
    "Asynchronous Online Learning\n",
    "'''\n",
    "\n",
    "with open(\"example2.txt\", \"w\") as file:\n",
    "    file.write(\"Advanced Python Programming\\nCOMSC240\\nAsynchronous Online Learning\")\n"
   ]
  },
  {
   "cell_type": "markdown",
   "metadata": {},
   "source": [
    "### Read a single line from the file"
   ]
  },
  {
   "cell_type": "code",
   "execution_count": 52,
   "metadata": {},
   "outputs": [
    {
     "name": "stdout",
     "output_type": "stream",
     "text": [
      "Advanced Python Programming\n",
      "\n"
     ]
    }
   ],
   "source": [
    "## Read the file and print the content\n",
    "with open(\"example2.txt\", \"r\") as file:\n",
    "    readline = file.readline()\n",
    "    print(readline)\n"
   ]
  },
  {
   "cell_type": "markdown",
   "metadata": {},
   "source": [
    "### Read the entire lines from the file"
   ]
  },
  {
   "cell_type": "code",
   "execution_count": 53,
   "metadata": {},
   "outputs": [
    {
     "name": "stdout",
     "output_type": "stream",
     "text": [
      "['Advanced Python Programming\\n', 'COMSC240\\n', 'Asynchronous Online Learning']\n"
     ]
    }
   ],
   "source": [
    "with open(\"example2.txt\", \"r\") as file:\n",
    "    alllines = file.readlines()\n",
    "    print(alllines)"
   ]
  },
  {
   "cell_type": "code",
   "execution_count": 54,
   "metadata": {},
   "outputs": [
    {
     "name": "stdout",
     "output_type": "stream",
     "text": [
      "Advanced Python Programming\n",
      "COMSC240\n",
      "Asynchronous Online Learning\n"
     ]
    }
   ],
   "source": [
    "with open(\"example2.txt\", \"r\") as file:\n",
    "    alllines = file.read()\n",
    "    print(alllines)"
   ]
  },
  {
   "cell_type": "code",
   "execution_count": 55,
   "metadata": {},
   "outputs": [
    {
     "name": "stdout",
     "output_type": "stream",
     "text": [
      "Advanced Python Programming\n",
      "\n",
      "COMSC240\n",
      "\n",
      "Asynchronous Online Learning\n"
     ]
    }
   ],
   "source": [
    "with open(\"example2.txt\", \"r\") as file:\n",
    "    for line in file:\n",
    "        print(line)\n"
   ]
  },
  {
   "cell_type": "code",
   "execution_count": null,
   "metadata": {},
   "outputs": [
    {
     "name": "stdout",
     "output_type": "stream",
     "text": [
      "Advanced Python Programming\n",
      "COMSC240\n",
      "Asynchronous Online Learning\n"
     ]
    }
   ],
   "source": [
    "with open(\"example2.txt\", \"r\") as file:\n",
    "    for line in file:\n",
    "        print(line.strip('\\r\\n')) # removng the \\n\n"
   ]
  },
  {
   "cell_type": "markdown",
   "metadata": {},
   "source": [
    "### Reading Example Program\n",
    "\n"
   ]
  },
  {
   "cell_type": "markdown",
   "metadata": {},
   "source": [
    "\n",
    "### Code Explanation\n",
    "\n",
    "The program can access individual elements as follows:\n",
    "- `field[0]` for the student ID.\n",
    "- `field[1:3]` for the student's name (joined using `' '.join()`).\n",
    "- `field[3:]` for the scores (converted to integers).\n",
    "\n",
    "These values can be stored in variables or data structures for further processing. Finally, the file is closed using `file.close()`, or preferably, by using a `with` statement to automatically handle file closure.\n",
    "\n",
    "### Sample Code\n",
    "```python\n",
    "with open('students.txt', 'r') as file:\n",
    "    for line in file:\n",
    "        parts = line.split()\n",
    "        student_id = field[0]\n",
    "        name = ' '.join(field[1:3])\n",
    "        scores = [int(score) for score in field[3:]]\n",
    "        # Process the data as needed"
   ]
  },
  {
   "cell_type": "code",
   "execution_count": null,
   "metadata": {},
   "outputs": [
    {
     "name": "stdout",
     "output_type": "stream",
     "text": [
      "900213 John Doe [100, 90, 80]\n",
      "900214 Jane Doe [90, 80, 70]\n",
      "900215 Jim Beam [80, 70, 60]\n",
      "900216 Jill Hill [70, 60, 50]\n",
      "900217 Jack Daniels [60, 50, 40]\n",
      "900218 Jessie James [50, 40, 30]\n",
      "900219 Joe MacHardy [40, 30, 20]\n",
      "900220 Adam Smith [100, 100, 90]\n",
      "900221 Bill Joel [100, 100, 100]\n",
      "900222 Bob Dylan [90, 90, 90]\n"
     ]
    }
   ],
   "source": [
    "with open('students.txt', 'r') as file:\n",
    "    for line in file:\n",
    "        parts = line.split() # split into substrings based on delimiter\n",
    "        student_id = parts[0]\n",
    "        name = ' '.join(parts[1:3]) # joining columns 1 and 2 (nonexclusive) with a space in between\n",
    "        scores = [int(score) for score in parts[3:]]  # this changes to integer for all scores in third column and more \n",
    "        print(student_id, name, scores) # does this for every line in file "
   ]
  },
  {
   "cell_type": "code",
   "execution_count": null,
   "metadata": {},
   "outputs": [],
   "source": [
    "## Make sure that there is a students.txt file in the same directory as your code file\n",
    "\n",
    "with open('students.txt', 'r') as f:\n",
    "    for line in f:\n",
    "        fieldslist = line.split()\n",
    "        student_id = fieldslist[0]\n",
    "        student_name = ' '.join(fieldslist[1:3])\n",
    "        scores = [(int(score)) for score in fieldslist[3:]]\n",
    "        print(student_id, student_name, scores)\n"
   ]
  },
  {
   "cell_type": "markdown",
   "metadata": {},
   "source": [
    "#### <p style=\"font-family: Arial; font-size:1.4em; background-color: yellow; color:black;\"> Problem #2.0 </p>\n",
    "\n",
    "### Make a code to read a file \"people-10.csv\" and print people information by fields\n",
    "```python\n",
    "Data File Explanation\n",
    "   1st field: Index \n",
    "   2nd field: User ID \n",
    "   3rd field: First Name \n",
    "   4th field: Last Name \n",
    "   5th field: Sex \n",
    "   6th field: Email \n",
    "   7th field: Phone Number \n",
    "   8th field: Birthday \n",
    "   9th field: Job Title\n",
    "```\n",
    "```python\n",
    "with open('people-10.csv', 'r') as file:\n",
    "    for line in file:\n",
    "        line = line.strip('\\r\\n')\n",
    "        fieldslist = line.split(',')\n",
    "        print(fieldslist)\n",
    "```"
   ]
  },
  {
   "cell_type": "code",
   "execution_count": null,
   "metadata": {},
   "outputs": [
    {
     "name": "stdout",
     "output_type": "stream",
     "text": [
      "['Index', 'User Id', 'First Name', 'Last Name', 'Sex', 'Email', 'Phone', 'Date of birth', 'Job Title']\n",
      "['1', '88F7B33d2bcf9f5', 'Shelby', 'Terrell', 'Male', 'elijah57@example.net', '001-084-906-7849x73518', '1945-10-26', 'Games developer']\n",
      "['2', 'f90cD3E76f1A9b9', 'Phillip', 'Summers', 'Female', 'bethany14@example.com', '214.112.6044x4913', '1910-03-24', 'Phytotherapist']\n",
      "['3', 'DbeAb8CcdfeFC2c', 'Kristine', 'Travis', 'Male', 'bthompson@example.com', '277.609.7938', '1992-07-02', 'Homeopath']\n",
      "['4', 'A31Bee3c201ef58', 'Yesenia', 'Martinez', 'Male', 'kaitlinkaiser@example.com', '584.094.6111', '2017-08-03', 'Market researcher']\n",
      "['5', '1bA7A3dc874da3c', 'Lori', 'Todd', 'Male', 'buchananmanuel@example.net', '689-207-3558x7233', '1938-12-01', 'Veterinary surgeon']\n",
      "['6', 'bfDD7CDEF5D865B', 'Erin', 'Day', 'Male', 'tconner@example.org', '001-171-649-9856x5553', '2015-10-28', 'Waste management officer']\n",
      "['7', 'bE9EEf34cB72AF7', 'Katherine', 'Buck', 'Female', 'conniecowan@example.com', '+1-773-151-6685x49162', '1989-01-22', 'Intelligence analyst']\n",
      "['8', '2EFC6A4e77FaEaC', 'Ricardo', 'Hinton', 'Male', 'wyattbishop@example.com', '001-447-699-7998x88612', '1924-03-26', 'Hydrogeologist']\n",
      "['9', 'baDcC4DeefD8dEB', 'Dave', 'Farrell', 'Male', 'nmccann@example.net', '603-428-2429x27392', '2018-10-06', 'Lawyer']\n",
      "['10', '8e4FB470FE19bF0', 'Isaiah', 'Downs', 'Male', 'virginiaterrell@example.org', '+1-511-372-1544x8206', '1964-09-20', '\"Engineer site\"']\n"
     ]
    }
   ],
   "source": [
    "## Code here\n",
    "## comma separated \n",
    "with open ('people-10.csv', 'r') as file:\n",
    "    for line in file:\n",
    "        line = line.strip('\\r\\n')  # this removes both \\r (a carriage return) and \\n (new line)\n",
    "        # have to strip at ths stage, list has no attribute .strip(). need to use on string\n",
    "        sep = line.split(',')\n",
    "        print(sep)"
   ]
  },
  {
   "cell_type": "markdown",
   "metadata": {},
   "source": [
    "#### <p style=\"font-family: Arial; font-size:1.4em; background-color: yellow; color:black;\"> Problem #2.1 </p>\n",
    "\n",
    "### Make a code to read a file \"car10lines.data\" and print car information\n",
    "Data File Source: https://archive.ics.uci.edu/dataset/2/car+evaluation\n",
    "```python\n",
    "Data File Explanation\n",
    "   1st field: buying       v-high, high, med, low\n",
    "   2nd field: maint        v-high, high, med, low\n",
    "   3rd field: doors        2, 3, 4, 5-more\n",
    "   4th field: persons      2, 4, more\n",
    "   5th field: lug_boot     small, med, big\n",
    "   6th field: safety       low, med, high\n",
    "   7th field: car evaluation       unacc, acc, good, vgood\n",
    "```\n",
    "```python\n",
    "with open('car10lines.data', 'r') as file:\n",
    "    for line in file:\n",
    "        line = line.strip('\\r\\n')\n",
    "        fieldslist = line.split(',')\n",
    "        print(fieldslist)\n",
    "```"
   ]
  },
  {
   "cell_type": "code",
   "execution_count": 72,
   "metadata": {},
   "outputs": [
    {
     "name": "stdout",
     "output_type": "stream",
     "text": [
      "['vhigh', 'vhigh', '2', '2', 'small', 'low', 'unacc']\n",
      "['vhigh', 'vhigh', '2', '2', 'small', 'med', 'unacc']\n",
      "['vhigh', 'vhigh', '2', '2', 'small', 'high', 'unacc']\n",
      "['vhigh', 'vhigh', '2', '2', 'med', 'low', 'unacc']\n",
      "['vhigh', 'vhigh', '2', '2', 'med', 'med', 'unacc']\n",
      "['vhigh', 'vhigh', '2', '2', 'med', 'high', 'unacc']\n",
      "['vhigh', 'vhigh', '2', '2', 'big', 'low', 'unacc']\n",
      "['vhigh', 'vhigh', '2', '2', 'big', 'med', 'unacc']\n",
      "['vhigh', 'vhigh', '2', '2', 'big', 'high', 'unacc']\n",
      "['vhigh', 'vhigh', '2', '4', 'small', 'low', 'unacc']\n"
     ]
    }
   ],
   "source": [
    "# Code Here\n",
    "\n",
    "with open('car10lines.data', 'r') as file:\n",
    "    for line in file:\n",
    "        line = line.strip('\\r\\n')  # strip \n",
    "        fieldslist = line.split(',')  # strip for comma separation\n",
    "        print(fieldslist)"
   ]
  },
  {
   "cell_type": "markdown",
   "metadata": {},
   "source": [
    "#### <p style=\"font-family: Arial; font-size:1.4em; background-color: yellow; color:black;\"> Problem #2.3 </p>\n",
    "\n",
    "### Make a code to write a file after filtering the data from the file \"people-10.csv\"\n",
    "```python\n",
    "Original File's Field Explanation: File Name: people-10.csv\n",
    "   1st field: Index \n",
    "   2nd field: User ID \n",
    "   3rd field: First Name \n",
    "   4th field: Last Name \n",
    "   5th field: Sex \n",
    "   6th field: Email \n",
    "   7th field: Phone Number \n",
    "   8th field: Birthday \n",
    "   9th field: Job Title\n",
    "   Sample Data: First Line is the header\n",
    "   Index,User Id,First Name,Last Name,Sex,Email,Phone,Date of birth,Job Title\n",
    "   1,88F7B33d2bcf9f5,Shelby,Terrell,Male,elijah57@example.net,001-084-906-7849x73518,1945-10-26,Games developer\n",
    "   2,f90cD3E76f1A9b9,Phillip,Summers,Female,bethany14@example.com,214.112.6044x4913,1910-03-24,Phytotherapist\n",
    "   3,DbeAb8CcdfeFC2c,Kristine,Travis,Male,bthompson@example.com,277.609.7938,1992-07-02,Homeopath\n",
    "   4,A31Bee3c201ef58,Yesenia,Martinez,Male,kaitlinkaiser@example.com,584.094.6111,2017-08-03,Market researcher\n",
    "   5,1bA7A3dc874da3c,Lori,Todd,Male,buchananmanuel@example.net,689-207-3558x7233,1938-12-01,Veterinary surgeon\n",
    "   6,bfDD7CDEF5D865B,Erin,Day,Male,tconner@example.org,001-171-649-9856x5553,2015-10-28,Waste management officer\n",
    "   7,bE9EEf34cB72AF7,Katherine,Buck,Female,conniecowan@example.com,+1-773-151-6685x49162,1989-01-22,Intelligence analyst\n",
    "   8,2EFC6A4e77FaEaC,Ricardo,Hinton,Male,wyattbishop@example.com,001-447-699-7998x88612,1924-03-26,Hydrogeologist\n",
    "   9,baDcC4DeefD8dEB,Dave,Farrell,Male,nmccann@example.net,603-428-2429x27392,2018-10-06,Lawyer\n",
    "   10,8e4FB470FE19bF0,Isaiah,Downs,Male,virginiaterrell@example.org,+1-511-372-1544x8206,1964-09-20,\"Engineer site\"\n",
    "```\n",
    "```python\n",
    "New File's Field Explanation: File Name: people-filtered.txt\n",
    "   1st field: User ID \n",
    "   2nd field: Combined Name(First Name, Last Name)\n",
    "   3rd field: Sex \n",
    "   4th field: Email \n",
    "   5th field: Phone Number \n",
    "   6th field: Birthday \n",
    "   Sample Data Output:\n",
    "   Index\tUser Id\tFirst Name Last Name\tSex\tEmail\tPhone\tDate of birth\tJob Title\t\n",
    "    1\t88F7B33d2bcf9f5\tShelby Terrell\tMale\telijah57@example.net\t001-084-906-7849x73518\t1945-10-26\tGames developer\t\n",
    "    2\tf90cD3E76f1A9b9\tPhillip Summers\tFemale\tbethany14@example.com\t214.112.6044x4913\t1910-03-24\tPhytotherapist\t\n",
    "    3\tDbeAb8CcdfeFC2c\tKristine Travis\tMale\tbthompson@example.com\t277.609.7938\t1992-07-02\tHomeopath\t\n",
    "    4\tA31Bee3c201ef58\tYesenia Martinez\tMale\tkaitlinkaiser@example.com\t584.094.6111\t2017-08-03\tMarket researcher\t\n",
    "    5\t1bA7A3dc874da3c\tLori Todd\tMale\tbuchananmanuel@example.net\t689-207-3558x7233\t1938-12-01\tVeterinary surgeon\t\n",
    "    6\tbfDD7CDEF5D865B\tErin Day\tMale\ttconner@example.org\t001-171-649-9856x5553\t2015-10-28\tWaste management officer\t\n",
    "    7\tbE9EEf34cB72AF7\tKatherine Buck\tFemale\tconniecowan@example.com\t+1-773-151-6685x49162\t1989-01-22\tIntelligence analyst\t\n",
    "    8\t2EFC6A4e77FaEaC\tRicardo Hinton\tMale\twyattbishop@example.com\t001-447-699-7998x88612\t1924-03-26\tHydrogeologist\t\n",
    "    9\tbaDcC4DeefD8dEB\tDave Farrell\tMale\tnmccann@example.net\t603-428-2429x27392\t2018-10-06\tLawyer\t\n",
    "    10\t8e4FB470FE19bF0\tIsaiah Downs\tMale\tvirginiaterrell@example.org\t+1-511-372-1544x8206\t1964-09-20\t\"Engineer site\" \t\n",
    "```\n",
    "```python\n",
    "with open('people-10.csv', 'r') as readfile:\n",
    "    with open('people-filtered.txt', 'w') as writefile:\n",
    "        for line in readfile:\n",
    "            line = line.strip('\\r\\n')\n",
    "            fieldslist = line.split(',')\n",
    "            for i, field in enumerate(fieldslist): \n",
    "                if i == 3:\n",
    "                    continue\n",
    "                if i == 2:\n",
    "                    field = fieldslist[i] + ' ' + fieldslist[i+1]\n",
    "                writefile.write(field+'\\t')\n",
    "            writefile.write('\\n')\n",
    "                     \n",
    "```"
   ]
  },
  {
   "cell_type": "code",
   "execution_count": 79,
   "metadata": {},
   "outputs": [],
   "source": [
    "## Code Here\n",
    "\n",
    "with open('people-10.csv', 'r') as readfile:  # opening the file to read\n",
    "    with open('people-filtered.txt', 'w') as writefile:  # opening the file to write \n",
    "        for line in readfile:\n",
    "            line = line.strip('\\r\\n')\n",
    "            line_sep = line.split(',')  # remove the comma separation\n",
    "            for i, field in enumerate(line_sep):\n",
    "                if i == 3:\n",
    "                    continue  # skipping column 3, the last name \n",
    "                if i == 2:  # taking first and last name\n",
    "                    field = line_sep[i] + ' ' + line_sep[i+1]\n",
    "                writefile.write(field + '\\t')  # writing the field line by line in the new file\n",
    "            writefile.write('\\n')"
   ]
  },
  {
   "cell_type": "markdown",
   "metadata": {},
   "source": [
    "***\n",
    "\n",
    "## <p style=\"background-color: grey; color: white \"> ◼️  File and Dictionary </p>\n",
    "# <p style=\"font-family: Arial; font-size:l.4em;color:red;\"> 3. Constructing a List of Dictionaries from a File </p>\n"
   ]
  },
  {
   "cell_type": "markdown",
   "metadata": {},
   "source": [
    "#### <p style=\"font-family: Arial; font-size:1.4em; background-color: yellow; color:black;\"> Problem #3.1 </p>\n",
    "\n",
    "### Make a function 'make_people_dict()' to construct a list of dictionary from the file 'people-10.csv'\n",
    "<table> <tr> <th>Index</th> <th>UserID</th> <th>FirstName</th> <th>LastName</th> <th>Sex</th> <th>Email</th> <th>Phone</th> <th>DOB</th> <th>JobTitle</th> </tr> <tr> <td>1</td> <td>88F7B33d2bcf9f5</td> <td>Shelby</td> <td>Terrell</td> <td>Male</td> <td>elijah57@example.net</td> <td>001-084-906-7849x73518</td> <td>1945-10-26</td> <td>Games developer</td> </tr> <tr> <td>2</td> <td>f90cD3E76f1A9b9</td> <td>Phillip</td> <td>Summers</td> <td>Female</td> <td>bethany14@example.com</td> <td>214.112.6044x4913</td> <td>1910-03-24</td> <td>Phytotherapist</td> </tr> <tr> <td>3</td> <td>DbeAb8CcdfeFC2c</td> <td>Kristine</td> <td>Travis</td> <td>Male</td> <td>bthompson@example.com</td> <td>277.609.7938</td> <td>1992-07-02</td> <td>Homeopath</td> </tr> <tr> <td>4</td> <td>A31Bee3c201ef58</td> <td>Yesenia</td> <td>Martinez</td> <td>Male</td> <td>kaitlinkaiser@example.com</td> <td>584.094.6111</td> <td>2017-08-03</td> <td>Market researcher</td> </tr> <tr> <td>5</td> <td>1bA7A3dc874da3c</td> <td>Lori</td> <td>Todd</td> <td>Male</td> <td>buchananmanuel@example.net</td> <td>689-207-3558x7233</td> <td>1938-12-01</td> <td>Veterinary surgeon</td> </tr> <tr> <td>6</td> <td>bfDD7CDEF5D865B</td> <td>Erin</td> <td>Day</td> <td>Male</td> <td>tconner@example.org</td> <td>001-171-649-9856x5553</td> <td>2015-10-28</td> <td>Waste management officer</td> </tr> <tr> <td>7</td> <td>bE9EEf34cB72AF7</td> <td>Katherine</td> <td>Buck</td> <td>Female</td> <td>conniecowan@example.com</td> <td>+1-773-151-6685x49162</td> <td>1989-01-22</td> <td>Intelligence analyst</td> </tr> <tr> <td>8</td> <td>2EFC6A4e77FaEaC</td> <td>Ricardo</td> <td>Hinton</td> <td>Male</td> <td>wyattbishop@example.com</td> <td>001-447-699-7998x88612</td> <td>1924-03-26</td> <td>Hydrogeologist</td> </tr> <tr> <td>9</td> <td>baDcC4DeefD8dEB</td> <td>Dave</td> <td>Farrell</td> <td>Male</td> <td>nmccann@example.net</td> <td>603-428-2429x27392</td> <td>2018-10-06</td> <td>Lawyer</td> </tr> <tr> <td>10</td> <td>8e4FB470FE19bF0</td> <td>Isaiah</td> <td>Downs</td> <td>Male</td> <td>virginiaterrell@example.org</td> <td>+1-511-372-1544x8206</td> <td>1964-09-20</td> <td>Engineer site</td> </tr> </table>\n",
    "\n",
    "\n",
    "### Keys: \n",
    "- Index, UserID, FirstName, LastName, Sex, Email, Phone, DOB, JobTitle\n",
    "### Values: \n",
    "- 1, 88F7B33d2bcf9f5, Shelby, Terrell, Male, elijah57@example.net, 001-084-906-7849x73518, 1945-10-26, Games developer\n",
    "- 2, f90cD3E76f1A9b9, Phillip Summers, Female, bethany14@example.com, 214.112.6044x4913, 1910-03-24, Phytotherapist\n",
    "- ...\n",
    "\n",
    "\n",
    "```python\n",
    "    Step 1. Read the file \"people-10.csv\"\n",
    "    Step 2. Construct a list of dictionary from the file\n",
    "        key = ['Index', 'UserID', 'FirstName', 'LastName', 'Sex', 'Email', 'Phone', 'DOB', 'JobTitle']\n",
    "        Hint: Use the zip function with keys and the fieldslist from the file and dict() constructor. \n",
    "    Step 3. Print the list of dictionary\n",
    "```"
   ]
  },
  {
   "cell_type": "code",
   "execution_count": null,
   "metadata": {},
   "outputs": [
    {
     "name": "stdout",
     "output_type": "stream",
     "text": [
      "('Index', ('1', '2', '3', '4', '5', '6', '7', '8', '9', '10'))\n",
      "('User Id', ('88F7B33d2bcf9f5', 'f90cD3E76f1A9b9', 'DbeAb8CcdfeFC2c', 'A31Bee3c201ef58', '1bA7A3dc874da3c', 'bfDD7CDEF5D865B', 'bE9EEf34cB72AF7', '2EFC6A4e77FaEaC', 'baDcC4DeefD8dEB', '8e4FB470FE19bF0'))\n",
      "('First Name', ('Shelby', 'Phillip', 'Kristine', 'Yesenia', 'Lori', 'Erin', 'Katherine', 'Ricardo', 'Dave', 'Isaiah'))\n",
      "('Last Name', ('Terrell', 'Summers', 'Travis', 'Martinez', 'Todd', 'Day', 'Buck', 'Hinton', 'Farrell', 'Downs'))\n",
      "('Sex', ('Male', 'Female', 'Male', 'Male', 'Male', 'Male', 'Female', 'Male', 'Male', 'Male'))\n",
      "('Email', ('elijah57@example.net', 'bethany14@example.com', 'bthompson@example.com', 'kaitlinkaiser@example.com', 'buchananmanuel@example.net', 'tconner@example.org', 'conniecowan@example.com', 'wyattbishop@example.com', 'nmccann@example.net', 'virginiaterrell@example.org'))\n",
      "('Phone', ('001-084-906-7849x73518', '214.112.6044x4913', '277.609.7938', '584.094.6111', '689-207-3558x7233', '001-171-649-9856x5553', '+1-773-151-6685x49162', '001-447-699-7998x88612', '603-428-2429x27392', '+1-511-372-1544x8206'))\n",
      "('Date of birth', ('1945-10-26', '1910-03-24', '1992-07-02', '2017-08-03', '1938-12-01', '2015-10-28', '1989-01-22', '1924-03-26', '2018-10-06', '1964-09-20'))\n",
      "('Job Title', ('Games developer', 'Phytotherapist', 'Homeopath', 'Market researcher', 'Veterinary surgeon', 'Waste management officer', 'Intelligence analyst', 'Hydrogeologist', 'Lawyer', '\"Engineer site\"'))\n"
     ]
    }
   ],
   "source": [
    "with open('people-10.csv', 'r') as file:\n",
    "    dict_list = []\n",
    "    for line in file:\n",
    "        line = line.strip('\\r\\n')\n",
    "        fieldslist = line.split(',')\n",
    "        dict_list.append(fieldslist)\n",
    "    keys = dict_list[0]\n",
    "    values = dict_list[1:]\n",
    "    unzipped_vals = list(zip(*values))\n",
    "    new_dict = dict(zip(keys,unzipped_vals))\n",
    "\n",
    "\n",
    "for items in new_dict.items():\n",
    "    print(items)"
   ]
  },
  {
   "cell_type": "code",
   "execution_count": 109,
   "metadata": {},
   "outputs": [
    {
     "data": {
      "text/plain": [
       "{'Index': ('1', '2', '3', '4', '5', '6', '7', '8', '9', '10'),\n",
       " 'User Id': ('88F7B33d2bcf9f5',\n",
       "  'f90cD3E76f1A9b9',\n",
       "  'DbeAb8CcdfeFC2c',\n",
       "  'A31Bee3c201ef58',\n",
       "  '1bA7A3dc874da3c',\n",
       "  'bfDD7CDEF5D865B',\n",
       "  'bE9EEf34cB72AF7',\n",
       "  '2EFC6A4e77FaEaC',\n",
       "  'baDcC4DeefD8dEB',\n",
       "  '8e4FB470FE19bF0'),\n",
       " 'First Name': ('Shelby',\n",
       "  'Phillip',\n",
       "  'Kristine',\n",
       "  'Yesenia',\n",
       "  'Lori',\n",
       "  'Erin',\n",
       "  'Katherine',\n",
       "  'Ricardo',\n",
       "  'Dave',\n",
       "  'Isaiah'),\n",
       " 'Last Name': ('Terrell',\n",
       "  'Summers',\n",
       "  'Travis',\n",
       "  'Martinez',\n",
       "  'Todd',\n",
       "  'Day',\n",
       "  'Buck',\n",
       "  'Hinton',\n",
       "  'Farrell',\n",
       "  'Downs'),\n",
       " 'Sex': ('Male',\n",
       "  'Female',\n",
       "  'Male',\n",
       "  'Male',\n",
       "  'Male',\n",
       "  'Male',\n",
       "  'Female',\n",
       "  'Male',\n",
       "  'Male',\n",
       "  'Male'),\n",
       " 'Email': ('elijah57@example.net',\n",
       "  'bethany14@example.com',\n",
       "  'bthompson@example.com',\n",
       "  'kaitlinkaiser@example.com',\n",
       "  'buchananmanuel@example.net',\n",
       "  'tconner@example.org',\n",
       "  'conniecowan@example.com',\n",
       "  'wyattbishop@example.com',\n",
       "  'nmccann@example.net',\n",
       "  'virginiaterrell@example.org'),\n",
       " 'Phone': ('001-084-906-7849x73518',\n",
       "  '214.112.6044x4913',\n",
       "  '277.609.7938',\n",
       "  '584.094.6111',\n",
       "  '689-207-3558x7233',\n",
       "  '001-171-649-9856x5553',\n",
       "  '+1-773-151-6685x49162',\n",
       "  '001-447-699-7998x88612',\n",
       "  '603-428-2429x27392',\n",
       "  '+1-511-372-1544x8206'),\n",
       " 'Date of birth': ('1945-10-26',\n",
       "  '1910-03-24',\n",
       "  '1992-07-02',\n",
       "  '2017-08-03',\n",
       "  '1938-12-01',\n",
       "  '2015-10-28',\n",
       "  '1989-01-22',\n",
       "  '1924-03-26',\n",
       "  '2018-10-06',\n",
       "  '1964-09-20'),\n",
       " 'Job Title': ('Games developer',\n",
       "  'Phytotherapist',\n",
       "  'Homeopath',\n",
       "  'Market researcher',\n",
       "  'Veterinary surgeon',\n",
       "  'Waste management officer',\n",
       "  'Intelligence analyst',\n",
       "  'Hydrogeologist',\n",
       "  'Lawyer',\n",
       "  '\"Engineer site\"')}"
      ]
     },
     "execution_count": 109,
     "metadata": {},
     "output_type": "execute_result"
    }
   ],
   "source": [
    "### Code Here\n",
    "def make_people_dict():\n",
    "    dict_list = []\n",
    "    with open('people-10.csv', 'r') as file:\n",
    "        for line in file:\n",
    "            line = line.strip('\\r\\n')\n",
    "            fieldslist = line.split(',')\n",
    "            dict_list.append(fieldslist)\n",
    "        keys = dict_list[0]\n",
    "        values = dict_list[1:]\n",
    "        unzipped_vals = list(zip(*values))\n",
    "        new_dict = dict(zip(keys,unzipped_vals))\n",
    "    return new_dict\n",
    "\n",
    "people_dict = make_people_dict()\n",
    "people_dict"
   ]
  },
  {
   "cell_type": "markdown",
   "metadata": {},
   "source": [
    "#### <p style=\"font-family: Arial; font-size:1.4em; background-color: yellow; color:black;\"> Problem #3.2 </p>\n",
    "\n",
    "### Make the functions to rturn the person's DOB list with the following format: [ [YYYY, MM, DD], ... ] in ascending order of DOB\n",
    "\n",
    "\n",
    "```python\n",
    "def get_DOB_list(people_dict):\n",
    "    - people_dict is a list of dictionary that is output of Problem #3.1\n",
    "    - return the list of DOB in the format of [ [YYYY, MM, DD], ... ] in ascending order of DOB\n",
    "```\n"
   ]
  },
  {
   "cell_type": "code",
   "execution_count": 122,
   "metadata": {},
   "outputs": [
    {
     "data": {
      "text/plain": [
       "[[1910, 3, 24],\n",
       " [1924, 3, 26],\n",
       " [1938, 12, 1],\n",
       " [1945, 10, 26],\n",
       " [1964, 9, 20],\n",
       " [1989, 1, 22],\n",
       " [1992, 7, 2],\n",
       " [2015, 10, 28],\n",
       " [2017, 8, 3],\n",
       " [2018, 10, 6]]"
      ]
     },
     "execution_count": 122,
     "metadata": {},
     "output_type": "execute_result"
    }
   ],
   "source": [
    "### Code Here\n",
    "### Hint : Use the list comprehension and map, split, and sorted function\n",
    "### It could be a single line code\n",
    "def get_DOB_list(people_dict):\n",
    "    new_list = []\n",
    "    for item in people_dict['Date of birth']:\n",
    "        item = item.split('-')  # splitting - delimited items \n",
    "        new_item_list = [int(x) for x in item]\n",
    "        new_list.append(new_item_list)\n",
    "        new_list.sort()\n",
    "    return(new_list)\n",
    "\n",
    "get_DOB_list(people_dict)\n"
   ]
  },
  {
   "cell_type": "code",
   "execution_count": 121,
   "metadata": {},
   "outputs": [
    {
     "data": {
      "text/plain": [
       "[[1910, 3, 24],\n",
       " [1924, 3, 26],\n",
       " [1938, 12, 1],\n",
       " [1945, 10, 26],\n",
       " [1964, 9, 20],\n",
       " [1989, 1, 22],\n",
       " [1992, 7, 2],\n",
       " [2015, 10, 28],\n",
       " [2017, 8, 3],\n",
       " [2018, 10, 6]]"
      ]
     },
     "execution_count": 121,
     "metadata": {},
     "output_type": "execute_result"
    }
   ],
   "source": [
    "new_list = []\n",
    "for item in people_dict['Date of birth']:\n",
    "    item = item.split('-')  # splitting - delimited items \n",
    "    new_item_list = [int(x) for x in item]\n",
    "    new_list.append(new_item_list)\n",
    "    new_list.sort()\n",
    "new_list\n",
    "    \n",
    "# need a list of sublist DOBs "
   ]
  },
  {
   "cell_type": "markdown",
   "metadata": {},
   "source": [
    "#### <p style=\"font-family: Arial; font-size:1.4em; background-color: yellow; color:black;\"> Problem #3.3 </p>\n",
    "\n",
    "### Make the functions to write the filtered list of dictionary to a file with the following format:\n",
    "\n",
    "```python\n",
    "def write_filtered_list(people_dict):\n",
    "    - people_dict is a list of dictionary that is output of Problem #3.1\n",
    "    - No return value\n",
    "    - Write the filtered list of dictionary to a file with the following format:\n",
    "        - Filter the person who has the email address ending with 'com' from the list\n",
    "        - Writing Format: First Name, Last Name, Email, DOB, JobTitle\n",
    "        - Requirement: Write all the filtered list by DOB in ascending order\n",
    "```\n",
    "#### Requirement:\n",
    "- File Name: people-3.3.txt\n",
    "- Output Format: First Name, Last Name, Email, DOB, JobTitle\n",
    "- Sorting Format: DOB in ascending order\n",
    "- Filtering Format: Email ending with 'com'\n",
    "- Input parameter: people_dict which is a list of dictionary that is output of Problem #3.1\n",
    "```\n",
    "Expected Output:\n",
    "```\n",
    "<table> <tr> <th>First Name</th> <th>Last Name</th> <th>Email</th> <th>Phone</th> <th>Date of Birth</th> <th>Occupation</th> </tr> <tr> <td>Phillip</td> <td>Summers</td> <td>bethany14@example.com</td> <td>214.112.6044x4913</td> <td>1910-03-24</td> <td>Phytotherapist</td> </tr> <tr> <td>Ricardo</td> <td>Hinton</td> <td>wyattbishop@example.com</td> <td>001-447-699-7998x88612</td> <td>1924-03-26</td> <td>Hydrogeologist</td> </tr> <tr> <td>Katherine</td> <td>Buck</td> <td>conniecowan@example.com</td> <td>+1-773-151-6685x49162</td> <td>1989-01-22</td> <td>Intelligence analyst</td> </tr> <tr> <td>Kristine</td> <td>Travis</td> <td>bthompson@example.com</td> <td>277.609.7938</td> <td>1992-07-02</td> <td>Homeopath</td> </tr> <tr> <td>Yesenia</td> <td>Martinez</td> <td>kaitlinkaiser@example.com</td> <td>584.094.6111</td> <td>2017-08-03</td> <td>Market researcher</td> </tr> </table>\n",
    "\n",
    "\n",
    "\n"
   ]
  },
  {
   "cell_type": "code",
   "execution_count": null,
   "metadata": {},
   "outputs": [],
   "source": [
    "### Code Here\n",
    "\n",
    "def write_filtered_list(people_dict):\n",
    "\n",
    "\n",
    "write_filtered_list(people_dict)\n"
   ]
  },
  {
   "cell_type": "code",
   "execution_count": null,
   "metadata": {},
   "outputs": [],
   "source": [
    "def write_filtered_list(people_dict):\n",
    "    - people_dict is a list of dictionary that is output of Problem #3.1\n",
    "    - No return value\n",
    "    - Write the filtered list of dictionary to a file with the following format:\n",
    "        - Filter the person who has the email address ending with 'com' from the list\n",
    "        - Writing Format: First Name, Last Name, Email, DOB, JobTitle\n",
    "        - Requirement: Write all the filtered list by DOB in ascending order\n"
   ]
  },
  {
   "cell_type": "code",
   "execution_count": 130,
   "metadata": {},
   "outputs": [
    {
     "name": "stdout",
     "output_type": "stream",
     "text": [
      "['Index', 'User Id', 'First Name', 'Last Name', 'Sex', 'Email', 'Phone', 'Date of birth', 'Job Title']\n",
      "['1', '88F7B33d2bcf9f5', 'Shelby', 'Terrell', 'Male', 'elijah57@example.net', '001-084-906-7849x73518', '1945-10-26', 'Games developer']\n",
      "['2', 'f90cD3E76f1A9b9', 'Phillip', 'Summers', 'Female', 'bethany14@example.com', '214.112.6044x4913', '1910-03-24', 'Phytotherapist']\n",
      "['3', 'DbeAb8CcdfeFC2c', 'Kristine', 'Travis', 'Male', 'bthompson@example.com', '277.609.7938', '1992-07-02', 'Homeopath']\n",
      "['4', 'A31Bee3c201ef58', 'Yesenia', 'Martinez', 'Male', 'kaitlinkaiser@example.com', '584.094.6111', '2017-08-03', 'Market researcher']\n",
      "['5', '1bA7A3dc874da3c', 'Lori', 'Todd', 'Male', 'buchananmanuel@example.net', '689-207-3558x7233', '1938-12-01', 'Veterinary surgeon']\n",
      "['6', 'bfDD7CDEF5D865B', 'Erin', 'Day', 'Male', 'tconner@example.org', '001-171-649-9856x5553', '2015-10-28', 'Waste management officer']\n",
      "['7', 'bE9EEf34cB72AF7', 'Katherine', 'Buck', 'Female', 'conniecowan@example.com', '+1-773-151-6685x49162', '1989-01-22', 'Intelligence analyst']\n",
      "['8', '2EFC6A4e77FaEaC', 'Ricardo', 'Hinton', 'Male', 'wyattbishop@example.com', '001-447-699-7998x88612', '1924-03-26', 'Hydrogeologist']\n",
      "['9', 'baDcC4DeefD8dEB', 'Dave', 'Farrell', 'Male', 'nmccann@example.net', '603-428-2429x27392', '2018-10-06', 'Lawyer']\n",
      "['10', '8e4FB470FE19bF0', 'Isaiah', 'Downs', 'Male', 'virginiaterrell@example.org', '+1-511-372-1544x8206', '1964-09-20', '\"Engineer site\"']\n"
     ]
    }
   ],
   "source": [
    "with open('people-10.csv', 'r') as readfile:  # opening the file to read\n",
    "    for line in readfile:\n",
    "        line = line.strip('\\r\\n')\n",
    "        line_sep = line.split(',')  # remove the comma separation\n",
    "        print(line_sep)\n",
    "        #for i, field in enumerate(line_sep):\n",
    "         #   if i == 3:\n",
    "          #      continue  # skipping column 3, the last name \n",
    "           # if i == 2:  # taking first and last name\n",
    "            #    field = line_sep[i] + ' ' + line_sep[i+1]\n",
    "            #writefile.write(field + '\\t')  # writing the field line by line in the new file"
   ]
  },
  {
   "cell_type": "code",
   "execution_count": 138,
   "metadata": {},
   "outputs": [
    {
     "data": {
      "text/plain": [
       "[('First Name',), ('Last Name',), ('Email',), ('Phone',)]"
      ]
     },
     "execution_count": 138,
     "metadata": {},
     "output_type": "execute_result"
    }
   ],
   "source": [
    "# could print line by line and do if '.com' in X, write to new file? \n",
    "# pull out just the necessary keys \n",
    "\n",
    "ppl_filtered = {k:v for k,v in people_dict.items() if k in ['First Name','Last Name', 'Email', 'Phone', 'Date of Birth', 'Occupation']}\n",
    "\n",
    "test_list = list(zip(ppl_filtered))\n",
    "test_list\n",
    "\n",
    "\n"
   ]
  }
 ],
 "metadata": {
  "kernelspec": {
   "display_name": "base",
   "language": "python",
   "name": "python3"
  },
  "language_info": {
   "codemirror_mode": {
    "name": "ipython",
    "version": 3
   },
   "file_extension": ".py",
   "mimetype": "text/x-python",
   "name": "python",
   "nbconvert_exporter": "python",
   "pygments_lexer": "ipython3",
   "version": "3.12.4"
  },
  "orig_nbformat": 4
 },
 "nbformat": 4,
 "nbformat_minor": 2
}
