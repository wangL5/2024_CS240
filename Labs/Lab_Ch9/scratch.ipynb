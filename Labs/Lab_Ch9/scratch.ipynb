{
 "cells": [
  {
   "cell_type": "code",
   "execution_count": null,
   "metadata": {},
   "outputs": [
    {
     "name": "stdout",
     "output_type": "stream",
     "text": [
      "Key Error\n"
     ]
    }
   ],
   "source": [
    "dict1 = {1:\"A\", 2:\"B\", 3:\"C\"}\n",
    "\n",
    "dict1[1]\n",
    "# use the key to get value from dict, otherwise KeyError\n",
    "\n",
    "try:\n",
    "    print(dict1[0])\n",
    "except KeyError:\n",
    "    print(\"Key Error\")"
   ]
  },
  {
   "cell_type": "code",
   "execution_count": 5,
   "metadata": {},
   "outputs": [
    {
     "ename": "KeyError",
     "evalue": "0",
     "output_type": "error",
     "traceback": [
      "\u001b[0;31m---------------------------------------------------------------------------\u001b[0m",
      "\u001b[0;31mKeyError\u001b[0m                                  Traceback (most recent call last)",
      "Cell \u001b[0;32mIn[5], line 1\u001b[0m\n\u001b[0;32m----> 1\u001b[0m dict1[\u001b[38;5;241m0\u001b[39m]\n",
      "\u001b[0;31mKeyError\u001b[0m: 0"
     ]
    }
   ],
   "source": [
    "dict1[0]"
   ]
  },
  {
   "cell_type": "code",
   "execution_count": 10,
   "metadata": {},
   "outputs": [
    {
     "name": "stdout",
     "output_type": "stream",
     "text": [
      "4 is not a key\n"
     ]
    }
   ],
   "source": [
    "if 4 not in dict1:\n",
    "    print(\"4 is not a key\")"
   ]
  },
  {
   "cell_type": "markdown",
   "metadata": {},
   "source": [
    "Can iterate over dictionaries using:\n",
    "key, value, or key, value\n",
    "\n",
    "Dictionary methods: (dict.method())\n",
    "* keys(): returns all keys as a sequence of tuples\n",
    "* items(): returns all keys and their associated values as a sequence of tuples\n",
    "* values(): returns all values as seq of tules \n",
    "* clear(): clears the contents of a dict\n",
    "* get(key, default): gets values associated with as pecific key.\n",
    "* pop(key, default): returns the value of a specified key, removes the key:value pair from the dict \n",
    "* popitem(): returns randomly selected key-value pair as a tuple and also removes it from the dict "
   ]
  },
  {
   "cell_type": "code",
   "execution_count": null,
   "metadata": {},
   "outputs": [
    {
     "data": {
      "text/plain": [
       "{1: ['Kim', 94598, '1 Main Street'],\n",
       " 2: ['Kim', 94598, '1 Main Street'],\n",
       " 3: ['Kim', 94598, '1 Main Street']}"
      ]
     },
     "execution_count": 1,
     "metadata": {},
     "output_type": "execute_result"
    }
   ],
   "source": [
    "keys = [1,2,3]\n",
    "values = [\"Kim\", 94598, \"1 Main Street\"]\n",
    "\n",
    "dict2 = dict.fromkeys(keys, values)\n",
    "dict2\n",
    "\n",
    "#this makes a dictonary but all the values will be the same"
   ]
  },
  {
   "cell_type": "code",
   "execution_count": null,
   "metadata": {},
   "outputs": [
    {
     "name": "stdout",
     "output_type": "stream",
     "text": [
      "{1: 'A', 2: 'B', 3: 'C'}\n",
      "{2: 'B', 3: 'C'}\n"
     ]
    }
   ],
   "source": [
    "dict1 = {1:\"A\", 2:\"B\", 3:\"C\"}\n",
    "print(dict1)\n",
    "del dict1[1]\n",
    "print(dict1)\n",
    "# only if you know the key, you can delete "
   ]
  },
  {
   "cell_type": "code",
   "execution_count": 7,
   "metadata": {},
   "outputs": [
    {
     "name": "stdout",
     "output_type": "stream",
     "text": [
      "{1: 'A', 3: 'C'}\n"
     ]
    }
   ],
   "source": [
    "dict1 = {1:\"A\", 2:\"B\", 3:\"C\"}\n",
    "# as is, it's not iterable\n",
    "# make iterable with dict(dictionary_name).items()\n",
    "\n",
    "for k, v in dict(dict1).items():\n",
    "    if v == \"B\":\n",
    "        del dict1[k]\n",
    "print(dict1)"
   ]
  },
  {
   "cell_type": "code",
   "execution_count": 10,
   "metadata": {},
   "outputs": [],
   "source": [
    "name = ['Kim', 'Bill', 'Mary']\n",
    "score = [[100,80,70,60], [100,90,80,60], [90,80,70,100]]\n",
    "\n",
    "def makeStudent(names, scores):\n",
    "    student_list = dict(zip(names, scores))\n",
    "    return student_list\n",
    "\n",
    "student_list = makeStudent(name, score)"
   ]
  },
  {
   "cell_type": "code",
   "execution_count": 12,
   "metadata": {},
   "outputs": [
    {
     "name": "stdout",
     "output_type": "stream",
     "text": [
      "('Kim', [100, 80, 70, 60])\n",
      "('Bill', [100, 90, 80, 60])\n",
      "('Mary', [90, 80, 70, 100])\n"
     ]
    }
   ],
   "source": [
    "# print all dict information with key and values\n",
    "# no return value \n",
    "\n",
    "def printStudent(student):\n",
    "    for item in student.items():\n",
    "        print(item)\n",
    "\n",
    "printStudent(student_list)"
   ]
  },
  {
   "cell_type": "code",
   "execution_count": 30,
   "metadata": {},
   "outputs": [
    {
     "data": {
      "text/plain": [
       "'Mary'"
      ]
     },
     "execution_count": 30,
     "metadata": {},
     "output_type": "execute_result"
    }
   ],
   "source": [
    "# make a function that sums up the scores\n",
    "\n",
    "def getMaxScore(student):\n",
    "    names = list(student.keys())\n",
    "    scores = list(student.values())\n",
    "    scores_sums = list(map(sum, scores))\n",
    "\n",
    "    new_dict = dict(zip(names, scores_sums))\n",
    "    return max(new_dict)\n",
    "\n",
    "getMaxScore(student_list)\n",
    "\n",
    "# unzip student_list \n",
    "# use sum() and map() on scores\n",
    "# rezip names, sum_score \n",
    "# find max score\n",
    "# return student name"
   ]
  },
  {
   "cell_type": "code",
   "execution_count": 33,
   "metadata": {},
   "outputs": [
    {
     "name": "stdout",
     "output_type": "stream",
     "text": [
      "[1, 2, 3, [4, 5, 6]]\n"
     ]
    }
   ],
   "source": [
    "# asterisks\n",
    "\n",
    "tt = [1,2,3]\n",
    "ss = [4,5,6]\n",
    "\n",
    "tt.append(ss)\n",
    "print(tt)"
   ]
  }
 ],
 "metadata": {
  "kernelspec": {
   "display_name": "base",
   "language": "python",
   "name": "python3"
  },
  "language_info": {
   "codemirror_mode": {
    "name": "ipython",
    "version": 3
   },
   "file_extension": ".py",
   "mimetype": "text/x-python",
   "name": "python",
   "nbconvert_exporter": "python",
   "pygments_lexer": "ipython3",
   "version": "3.12.4"
  }
 },
 "nbformat": 4,
 "nbformat_minor": 2
}
