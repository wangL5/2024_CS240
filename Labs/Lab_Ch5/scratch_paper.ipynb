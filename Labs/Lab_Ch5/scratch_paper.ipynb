{
 "cells": [
  {
   "cell_type": "code",
   "execution_count": 3,
   "metadata": {},
   "outputs": [
    {
     "data": {
      "text/plain": [
       "True"
      ]
     },
     "execution_count": 3,
     "metadata": {},
     "output_type": "execute_result"
    }
   ],
   "source": [
    "def is_prime(n):\n",
    "    for i in range(2, n):  # excluding 1 and the n number itself \n",
    "        if n % i == 0:\n",
    "            return False\n",
    "    return True "
   ]
  },
  {
   "cell_type": "code",
   "execution_count": 5,
   "metadata": {},
   "outputs": [
    {
     "name": "stdout",
     "output_type": "stream",
     "text": [
      "1 2 3 5 7 "
     ]
    }
   ],
   "source": [
    "def print_primes(n):\n",
    "    for j in range(1, n):\n",
    "        if is_prime(j):\n",
    "            print(j, end = \" \")\n",
    "\n",
    "print_primes(10)"
   ]
  },
  {
   "cell_type": "code",
   "execution_count": 7,
   "metadata": {},
   "outputs": [
    {
     "data": {
      "text/plain": [
       "[1, 2, 3, 5, 7]"
      ]
     },
     "execution_count": 7,
     "metadata": {},
     "output_type": "execute_result"
    }
   ],
   "source": [
    "def get_primes(n): \n",
    "    prime = []\n",
    "    for j in range(1, n):\n",
    "        if is_prime(j):\n",
    "            prime.append(j)\n",
    "    return prime\n",
    "\n",
    "get_primes(10)"
   ]
  },
  {
   "cell_type": "code",
   "execution_count": 18,
   "metadata": {},
   "outputs": [
    {
     "data": {
      "text/plain": [
       "3"
      ]
     },
     "execution_count": 18,
     "metadata": {},
     "output_type": "execute_result"
    }
   ],
   "source": [
    "# return the number of zeroes in the list \n",
    "\n",
    "def gen_lambda(number, criteria):\n",
    "    if criteria == \"zero\": \n",
    "        return lambda lst: sum(1 for i in lst if i == 0)\n",
    "    \n",
    "zero_lambda = gen_lambda(10, \"zero\") \n",
    "zero_lambda([1, 2, 3, 4, 0, 0, 7, 8, 9, 0]) \n",
    "# it will return 3 "
   ]
  }
 ],
 "metadata": {
  "kernelspec": {
   "display_name": "base",
   "language": "python",
   "name": "python3"
  },
  "language_info": {
   "codemirror_mode": {
    "name": "ipython",
    "version": 3
   },
   "file_extension": ".py",
   "mimetype": "text/x-python",
   "name": "python",
   "nbconvert_exporter": "python",
   "pygments_lexer": "ipython3",
   "version": "3.12.4"
  }
 },
 "nbformat": 4,
 "nbformat_minor": 2
}
