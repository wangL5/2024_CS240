{
 "cells": [
  {
   "cell_type": "code",
   "execution_count": 3,
   "metadata": {},
   "outputs": [
    {
     "data": {
      "text/plain": [
       "True"
      ]
     },
     "execution_count": 3,
     "metadata": {},
     "output_type": "execute_result"
    }
   ],
   "source": [
    "def is_prime(n):\n",
    "    for i in range(2, n):  # excluding 1 and the n number itself \n",
    "        if n % i == 0:\n",
    "            return False\n",
    "    return True "
   ]
  },
  {
   "cell_type": "code",
   "execution_count": 5,
   "metadata": {},
   "outputs": [
    {
     "name": "stdout",
     "output_type": "stream",
     "text": [
      "1 2 3 5 7 "
     ]
    }
   ],
   "source": [
    "def print_primes(n):\n",
    "    for j in range(1, n):\n",
    "        if is_prime(j):\n",
    "            print(j, end = \" \")\n",
    "\n",
    "print_primes(10)"
   ]
  },
  {
   "cell_type": "code",
   "execution_count": 7,
   "metadata": {},
   "outputs": [
    {
     "data": {
      "text/plain": [
       "[1, 2, 3, 5, 7]"
      ]
     },
     "execution_count": 7,
     "metadata": {},
     "output_type": "execute_result"
    }
   ],
   "source": [
    "def get_primes(n): \n",
    "    prime = []\n",
    "    for j in range(1, n):\n",
    "        if is_prime(j):\n",
    "            prime.append(j)\n",
    "    return prime\n",
    "\n",
    "get_primes(10)"
   ]
  },
  {
   "cell_type": "code",
   "execution_count": 18,
   "metadata": {},
   "outputs": [
    {
     "data": {
      "text/plain": [
       "3"
      ]
     },
     "execution_count": 18,
     "metadata": {},
     "output_type": "execute_result"
    }
   ],
   "source": [
    "# return the number of zeroes in the list \n",
    "\n",
    "def gen_lambda(number, criteria):\n",
    "    if criteria == \"zero\": \n",
    "        return lambda lst: sum(1 for i in lst if i == 0)\n",
    "    \n",
    "zero_lambda = gen_lambda(10, \"zero\") \n",
    "zero_lambda([1, 2, 3, 4, 0, 0, 7, 8, 9, 0]) \n",
    "# it will return 3 "
   ]
  },
  {
   "cell_type": "code",
   "execution_count": 46,
   "metadata": {},
   "outputs": [
    {
     "name": "stdout",
     "output_type": "stream",
     "text": [
      "[5, 2, 8, 1, 3]\n"
     ]
    },
    {
     "data": {
      "text/plain": [
       "8"
      ]
     },
     "execution_count": 46,
     "metadata": {},
     "output_type": "execute_result"
    }
   ],
   "source": [
    "# make a function that receives a list of numbers and returns the largest number in the list\n",
    "# find the largest number in the list\n",
    "# pop out the largest number in the list \n",
    "# find the next largest number in the list - return that \n",
    "\n",
    "#Input: [5, 2, 8, 1, 9, 3]\n",
    "#Output: 8\n",
    "\n",
    "def second_largest(lst):\n",
    "    largest = lst[0]\n",
    "    largest_pos = 0\n",
    "    if len(set(lst)) < 2:\n",
    "        return None\n",
    "    else:\n",
    "        for i in range(len(lst)):\n",
    "            if lst[i] > largest:\n",
    "                largest = lst[i]\n",
    "                largest_pos = i\n",
    "        lst.pop(largest_pos)\n",
    "        print(lst)\n",
    "        new_largest = lst[0]\n",
    "        for j in range(len(lst)): \n",
    "            if lst[j] > new_largest: \n",
    "                new_largest = lst[j] \n",
    "        return new_largest\n",
    "        \n",
    "second_largest([5, 2, 8, 1, 9, 3])\n",
    " \n",
    " "
   ]
  },
  {
   "cell_type": "code",
   "execution_count": 40,
   "metadata": {},
   "outputs": [
    {
     "name": "stdout",
     "output_type": "stream",
     "text": [
      "8 2\n"
     ]
    }
   ],
   "source": [
    "lst = [5, 2, 8, 1, 3]\n",
    " \n",
    "new_largest = 0\n",
    "for j in range(len(lst)): \n",
    "    if lst[j] > new_largest: \n",
    "        new_largest = lst[j] \n",
    "        new_largest_pos = j\n",
    "print(new_largest, new_largest_pos)"
   ]
  }
 ],
 "metadata": {
  "kernelspec": {
   "display_name": "base",
   "language": "python",
   "name": "python3"
  },
  "language_info": {
   "codemirror_mode": {
    "name": "ipython",
    "version": 3
   },
   "file_extension": ".py",
   "mimetype": "text/x-python",
   "name": "python",
   "nbconvert_exporter": "python",
   "pygments_lexer": "ipython3",
   "version": "3.12.4"
  }
 },
 "nbformat": 4,
 "nbformat_minor": 2
}
