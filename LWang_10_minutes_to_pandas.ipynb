{
  "cells": [
    {
      "cell_type": "markdown",
      "metadata": {
        "id": "exkLCPgyK_Vl"
      },
      "source": [
        "###Introduction\n"
      ]
    },
    {
      "cell_type": "markdown",
      "metadata": {
        "id": "r_8A02PcLHwi"
      },
      "source": [
        "This is a short introduction to pandas, geared mainly for new users. You can see more complex recipes in the <a href=\"https://pandas.pydata.org/docs/user_guide/cookbook.html#cookbook\" target=\"_blank\">Cookbook<a/>."
      ]
    },
    {
      "cell_type": "markdown",
      "metadata": {
        "id": "4m0Li2ySLMa-"
      },
      "source": [
        "Customarily, we import as follows:"
      ]
    },
    {
      "cell_type": "code",
      "execution_count": 1,
      "metadata": {
        "id": "LKHxbN0QLGJE"
      },
      "outputs": [],
      "source": [
        "import numpy as np\n",
        "import pandas as pd"
      ]
    },
    {
      "cell_type": "markdown",
      "metadata": {
        "id": "3nqdCLY3LZKo"
      },
      "source": [
        "## Object Creation\n"
      ]
    },
    {
      "cell_type": "markdown",
      "metadata": {
        "id": "29g0yoUMLdoi"
      },
      "source": [
        "See the <a target=\"_blank\" href=\"https://pandas.pydata.org/docs/user_guide/dsintro.html#dsintro\">Intro to data structures section</a>.\n",
        "\n",
        "Creating a <a target=\"_blank\" href=\"https://pandas.pydata.org/docs/reference/api/pandas.Series.html#pandas.Series\">`Series`</a> by passing a list of values, letting pandas create a default integer index:"
      ]
    },
    {
      "cell_type": "code",
      "execution_count": 2,
      "metadata": {
        "id": "-f6TSrLHLmCc"
      },
      "outputs": [
        {
          "data": {
            "text/plain": [
              "0    1.0\n",
              "1    3.0\n",
              "2    5.0\n",
              "3    NaN\n",
              "4    6.0\n",
              "5    8.0\n",
              "dtype: float64"
            ]
          },
          "execution_count": 2,
          "metadata": {},
          "output_type": "execute_result"
        }
      ],
      "source": [
        "s = pd.Series([1, 3, 5, np.nan, 6, 8])\n",
        "s\n",
        "\n",
        "# the default integer index is like in a list. but you can supply it an index of anything."
      ]
    },
    {
      "cell_type": "markdown",
      "metadata": {
        "id": "aCUh8QIML479"
      },
      "source": [
        "Creating a <a target=\"_blank\" href=\"https://pandas.pydata.org/docs/reference/api/pandas.DataFrame.html#pandas.DataFrame\">`DataFrame`</a> by passing a NumPy array, with a datetime index using <a target=\"_blank\" href=\"https://pandas.pydata.org/docs/reference/api/pandas.date_range.html#pandas.date_range\">`date_range()`</a> and labeled columns:"
      ]
    },
    {
      "cell_type": "code",
      "execution_count": 3,
      "metadata": {
        "id": "-TGGcxdnMFaZ"
      },
      "outputs": [
        {
          "data": {
            "text/plain": [
              "DatetimeIndex(['2013-01-01', '2013-01-02', '2013-01-03', '2013-01-04',\n",
              "               '2013-01-05', '2013-01-06'],\n",
              "              dtype='datetime64[ns]', freq='D')"
            ]
          },
          "execution_count": 3,
          "metadata": {},
          "output_type": "execute_result"
        }
      ],
      "source": [
        "dates = pd.date_range(\"20130101\", periods=6)\n",
        "dates"
      ]
    },
    {
      "cell_type": "code",
      "execution_count": 4,
      "metadata": {
        "id": "KQQ7ziMuMsQ6"
      },
      "outputs": [
        {
          "data": {
            "text/html": [
              "<div>\n",
              "<style scoped>\n",
              "    .dataframe tbody tr th:only-of-type {\n",
              "        vertical-align: middle;\n",
              "    }\n",
              "\n",
              "    .dataframe tbody tr th {\n",
              "        vertical-align: top;\n",
              "    }\n",
              "\n",
              "    .dataframe thead th {\n",
              "        text-align: right;\n",
              "    }\n",
              "</style>\n",
              "<table border=\"1\" class=\"dataframe\">\n",
              "  <thead>\n",
              "    <tr style=\"text-align: right;\">\n",
              "      <th></th>\n",
              "      <th>A</th>\n",
              "      <th>B</th>\n",
              "      <th>C</th>\n",
              "      <th>D</th>\n",
              "    </tr>\n",
              "  </thead>\n",
              "  <tbody>\n",
              "    <tr>\n",
              "      <th>2013-01-01</th>\n",
              "      <td>0.321983</td>\n",
              "      <td>1.329344</td>\n",
              "      <td>0.471810</td>\n",
              "      <td>0.735881</td>\n",
              "    </tr>\n",
              "    <tr>\n",
              "      <th>2013-01-02</th>\n",
              "      <td>-0.518337</td>\n",
              "      <td>0.347907</td>\n",
              "      <td>-0.926087</td>\n",
              "      <td>0.955489</td>\n",
              "    </tr>\n",
              "    <tr>\n",
              "      <th>2013-01-03</th>\n",
              "      <td>1.503177</td>\n",
              "      <td>0.616035</td>\n",
              "      <td>-0.698710</td>\n",
              "      <td>0.791975</td>\n",
              "    </tr>\n",
              "    <tr>\n",
              "      <th>2013-01-04</th>\n",
              "      <td>1.493350</td>\n",
              "      <td>0.586334</td>\n",
              "      <td>-0.789059</td>\n",
              "      <td>-0.006325</td>\n",
              "    </tr>\n",
              "    <tr>\n",
              "      <th>2013-01-05</th>\n",
              "      <td>1.828942</td>\n",
              "      <td>-0.346639</td>\n",
              "      <td>0.871194</td>\n",
              "      <td>-0.821000</td>\n",
              "    </tr>\n",
              "    <tr>\n",
              "      <th>2013-01-06</th>\n",
              "      <td>-0.395603</td>\n",
              "      <td>-0.293618</td>\n",
              "      <td>-0.795951</td>\n",
              "      <td>0.279765</td>\n",
              "    </tr>\n",
              "  </tbody>\n",
              "</table>\n",
              "</div>"
            ],
            "text/plain": [
              "                   A         B         C         D\n",
              "2013-01-01  0.321983  1.329344  0.471810  0.735881\n",
              "2013-01-02 -0.518337  0.347907 -0.926087  0.955489\n",
              "2013-01-03  1.503177  0.616035 -0.698710  0.791975\n",
              "2013-01-04  1.493350  0.586334 -0.789059 -0.006325\n",
              "2013-01-05  1.828942 -0.346639  0.871194 -0.821000\n",
              "2013-01-06 -0.395603 -0.293618 -0.795951  0.279765"
            ]
          },
          "execution_count": 4,
          "metadata": {},
          "output_type": "execute_result"
        }
      ],
      "source": [
        "df = pd.DataFrame(np.random.randn(6, 4), index=dates, columns=list(\"ABCD\"))\n",
        "df\n",
        "\n",
        "# creates a dataframe where:\n",
        "# index = row names \n",
        "# columns = listed as columns\n",
        "# (6,4) --> an array of shape 6x4, normally distributed mean 0, var 1"
      ]
    },
    {
      "cell_type": "markdown",
      "metadata": {
        "id": "mFhlx4qGMvJ4"
      },
      "source": [
        "Creating a <a target=\"_blank\" href=\"https://pandas.pydata.org/docs/reference/api/pandas.DataFrame.html#pandas.DataFrame\">`DataFrame`</a> by passing a dictionary of objects that can be converted into a series-like structure:"
      ]
    },
    {
      "cell_type": "code",
      "execution_count": 5,
      "metadata": {
        "id": "ME0CZ45cM3FD"
      },
      "outputs": [
        {
          "data": {
            "text/html": [
              "<div>\n",
              "<style scoped>\n",
              "    .dataframe tbody tr th:only-of-type {\n",
              "        vertical-align: middle;\n",
              "    }\n",
              "\n",
              "    .dataframe tbody tr th {\n",
              "        vertical-align: top;\n",
              "    }\n",
              "\n",
              "    .dataframe thead th {\n",
              "        text-align: right;\n",
              "    }\n",
              "</style>\n",
              "<table border=\"1\" class=\"dataframe\">\n",
              "  <thead>\n",
              "    <tr style=\"text-align: right;\">\n",
              "      <th></th>\n",
              "      <th>A</th>\n",
              "      <th>B</th>\n",
              "      <th>C</th>\n",
              "      <th>D</th>\n",
              "      <th>E</th>\n",
              "      <th>F</th>\n",
              "    </tr>\n",
              "  </thead>\n",
              "  <tbody>\n",
              "    <tr>\n",
              "      <th>0</th>\n",
              "      <td>1.0</td>\n",
              "      <td>2013-01-02</td>\n",
              "      <td>1.0</td>\n",
              "      <td>3</td>\n",
              "      <td>test</td>\n",
              "      <td>foo</td>\n",
              "    </tr>\n",
              "    <tr>\n",
              "      <th>1</th>\n",
              "      <td>1.0</td>\n",
              "      <td>2013-01-02</td>\n",
              "      <td>1.0</td>\n",
              "      <td>3</td>\n",
              "      <td>train</td>\n",
              "      <td>foo</td>\n",
              "    </tr>\n",
              "    <tr>\n",
              "      <th>2</th>\n",
              "      <td>1.0</td>\n",
              "      <td>2013-01-02</td>\n",
              "      <td>1.0</td>\n",
              "      <td>3</td>\n",
              "      <td>test</td>\n",
              "      <td>foo</td>\n",
              "    </tr>\n",
              "    <tr>\n",
              "      <th>3</th>\n",
              "      <td>1.0</td>\n",
              "      <td>2013-01-02</td>\n",
              "      <td>1.0</td>\n",
              "      <td>3</td>\n",
              "      <td>train</td>\n",
              "      <td>foo</td>\n",
              "    </tr>\n",
              "  </tbody>\n",
              "</table>\n",
              "</div>"
            ],
            "text/plain": [
              "     A          B    C  D      E    F\n",
              "0  1.0 2013-01-02  1.0  3   test  foo\n",
              "1  1.0 2013-01-02  1.0  3  train  foo\n",
              "2  1.0 2013-01-02  1.0  3   test  foo\n",
              "3  1.0 2013-01-02  1.0  3  train  foo"
            ]
          },
          "execution_count": 5,
          "metadata": {},
          "output_type": "execute_result"
        }
      ],
      "source": [
        "df2 = pd.DataFrame(\n",
        "    {\n",
        "        \"A\": 1.0,\n",
        "        \"B\": pd.Timestamp(\"20130102\"),\n",
        "        \"C\": pd.Series(1, index=list(range(4)), dtype=\"float32\"),\n",
        "        \"D\": np.array([3] * 4, dtype=\"int32\"),\n",
        "        \"E\": pd.Categorical([\"test\", \"train\", \"test\", \"train\"]),\n",
        "        \"F\": \"foo\",\n",
        "    }\n",
        ")\n",
        "df2\n",
        "\n",
        "# the A-F are the columns \n",
        "# indices are automatically assigned"
      ]
    },
    {
      "cell_type": "markdown",
      "metadata": {
        "id": "QO1AgckJOH62"
      },
      "source": [
        "The columns of the resulting <a target=\"_blank\" href=\"https://pandas.pydata.org/docs/reference/api/pandas.DataFrame.html#pandas.DataFrame\">`DataFrame`</a> have different <a target=\"_blank\" href=\"https://pandas.pydata.org/docs/user_guide/basics.html#basics-dtypes\">`dtypes`</a>:"
      ]
    },
    {
      "cell_type": "code",
      "execution_count": 6,
      "metadata": {
        "id": "j7Quvns4OMzO"
      },
      "outputs": [
        {
          "data": {
            "text/plain": [
              "A          float64\n",
              "B    datetime64[s]\n",
              "C          float32\n",
              "D            int32\n",
              "E         category\n",
              "F           object\n",
              "dtype: object"
            ]
          },
          "execution_count": 6,
          "metadata": {},
          "output_type": "execute_result"
        }
      ],
      "source": [
        "df2.dtypes"
      ]
    },
    {
      "cell_type": "markdown",
      "metadata": {
        "id": "HVONmnIoOpLL"
      },
      "source": [
        "If you’re using an interactive tool with automatic completion for column names, here’s a subset of the attributes that will be completed:\n",
        "```\n",
        "df2.<TAB>\n",
        "df2.A                  df2.bool\n",
        "df2.abs                df2.boxplot\n",
        "df2.add                df2.C\n",
        "df2.add_prefix         df2.clip\n",
        "df2.add_suffix         df2.columns\n",
        "df2.align              df2.copy\n",
        "df2.all                df2.count\n",
        "df2.any                df2.combine\n",
        "df2.append             df2.D\n",
        "df2.apply              df2.describe\n",
        "df2.applymap           df2.diff\n",
        "df2.B                  df2.duplicated\n",
        "```\n",
        "As you can see, the columns `A`, `B`, `C`, and `D` are automatically tab completed. `E` and `F` are there as well; the rest of the attributes have been truncated for brevity.\n",
        "\n"
      ]
    },
    {
      "cell_type": "code",
      "execution_count": 18,
      "metadata": {},
      "outputs": [
        {
          "data": {
            "text/plain": [
              "<bound method NDFrame.bool of      A          B    C  D      E    F\n",
              "0  1.0 2013-01-02  1.0  3   test  foo\n",
              "1  1.0 2013-01-02  1.0  3  train  foo\n",
              "2  1.0 2013-01-02  1.0  3   test  foo\n",
              "3  1.0 2013-01-02  1.0  3  train  foo>"
            ]
          },
          "execution_count": 18,
          "metadata": {},
          "output_type": "execute_result"
        }
      ],
      "source": [
        "df2.bool"
      ]
    },
    {
      "cell_type": "markdown",
      "metadata": {
        "id": "b2H2SnfKPDh7"
      },
      "source": [
        "## Viewing data"
      ]
    },
    {
      "cell_type": "markdown",
      "metadata": {
        "id": "qgJj9v3NPOVv"
      },
      "source": [
        "See the <a target=\"_blank\" href=\"https://pandas.pydata.org/docs/user_guide/basics.html#basics\">Basics section</a>.\n",
        "\n",
        "Use <a target=\"_blank\" href=\"https://pandas.pydata.org/docs/reference/api/pandas.DataFrame.head.html#pandas.DataFrame.head\">`DataFrame.head()`</a> and <a target=\"_blank\" href=\"https://pandas.pydata.org/docs/reference/api/pandas.DataFrame.tail.html#pandas.DataFrame.tail\">`DataFrame.tail()`</a> to view the top and bottom rows of the frame respectively:"
      ]
    },
    {
      "cell_type": "code",
      "execution_count": 19,
      "metadata": {
        "id": "nM7nF6eJPTti"
      },
      "outputs": [
        {
          "data": {
            "text/html": [
              "<div>\n",
              "<style scoped>\n",
              "    .dataframe tbody tr th:only-of-type {\n",
              "        vertical-align: middle;\n",
              "    }\n",
              "\n",
              "    .dataframe tbody tr th {\n",
              "        vertical-align: top;\n",
              "    }\n",
              "\n",
              "    .dataframe thead th {\n",
              "        text-align: right;\n",
              "    }\n",
              "</style>\n",
              "<table border=\"1\" class=\"dataframe\">\n",
              "  <thead>\n",
              "    <tr style=\"text-align: right;\">\n",
              "      <th></th>\n",
              "      <th>A</th>\n",
              "      <th>B</th>\n",
              "      <th>C</th>\n",
              "      <th>D</th>\n",
              "    </tr>\n",
              "  </thead>\n",
              "  <tbody>\n",
              "    <tr>\n",
              "      <th>2013-01-01</th>\n",
              "      <td>0.321983</td>\n",
              "      <td>1.329344</td>\n",
              "      <td>0.471810</td>\n",
              "      <td>0.735881</td>\n",
              "    </tr>\n",
              "    <tr>\n",
              "      <th>2013-01-02</th>\n",
              "      <td>-0.518337</td>\n",
              "      <td>0.347907</td>\n",
              "      <td>-0.926087</td>\n",
              "      <td>0.955489</td>\n",
              "    </tr>\n",
              "    <tr>\n",
              "      <th>2013-01-03</th>\n",
              "      <td>1.503177</td>\n",
              "      <td>0.616035</td>\n",
              "      <td>-0.698710</td>\n",
              "      <td>0.791975</td>\n",
              "    </tr>\n",
              "    <tr>\n",
              "      <th>2013-01-04</th>\n",
              "      <td>1.493350</td>\n",
              "      <td>0.586334</td>\n",
              "      <td>-0.789059</td>\n",
              "      <td>-0.006325</td>\n",
              "    </tr>\n",
              "    <tr>\n",
              "      <th>2013-01-05</th>\n",
              "      <td>1.828942</td>\n",
              "      <td>-0.346639</td>\n",
              "      <td>0.871194</td>\n",
              "      <td>-0.821000</td>\n",
              "    </tr>\n",
              "  </tbody>\n",
              "</table>\n",
              "</div>"
            ],
            "text/plain": [
              "                   A         B         C         D\n",
              "2013-01-01  0.321983  1.329344  0.471810  0.735881\n",
              "2013-01-02 -0.518337  0.347907 -0.926087  0.955489\n",
              "2013-01-03  1.503177  0.616035 -0.698710  0.791975\n",
              "2013-01-04  1.493350  0.586334 -0.789059 -0.006325\n",
              "2013-01-05  1.828942 -0.346639  0.871194 -0.821000"
            ]
          },
          "execution_count": 19,
          "metadata": {},
          "output_type": "execute_result"
        }
      ],
      "source": [
        "df.head()"
      ]
    },
    {
      "cell_type": "code",
      "execution_count": 20,
      "metadata": {
        "id": "vQj6UQdvPboN"
      },
      "outputs": [
        {
          "data": {
            "text/html": [
              "<div>\n",
              "<style scoped>\n",
              "    .dataframe tbody tr th:only-of-type {\n",
              "        vertical-align: middle;\n",
              "    }\n",
              "\n",
              "    .dataframe tbody tr th {\n",
              "        vertical-align: top;\n",
              "    }\n",
              "\n",
              "    .dataframe thead th {\n",
              "        text-align: right;\n",
              "    }\n",
              "</style>\n",
              "<table border=\"1\" class=\"dataframe\">\n",
              "  <thead>\n",
              "    <tr style=\"text-align: right;\">\n",
              "      <th></th>\n",
              "      <th>A</th>\n",
              "      <th>B</th>\n",
              "      <th>C</th>\n",
              "      <th>D</th>\n",
              "    </tr>\n",
              "  </thead>\n",
              "  <tbody>\n",
              "    <tr>\n",
              "      <th>2013-01-04</th>\n",
              "      <td>1.493350</td>\n",
              "      <td>0.586334</td>\n",
              "      <td>-0.789059</td>\n",
              "      <td>-0.006325</td>\n",
              "    </tr>\n",
              "    <tr>\n",
              "      <th>2013-01-05</th>\n",
              "      <td>1.828942</td>\n",
              "      <td>-0.346639</td>\n",
              "      <td>0.871194</td>\n",
              "      <td>-0.821000</td>\n",
              "    </tr>\n",
              "    <tr>\n",
              "      <th>2013-01-06</th>\n",
              "      <td>-0.395603</td>\n",
              "      <td>-0.293618</td>\n",
              "      <td>-0.795951</td>\n",
              "      <td>0.279765</td>\n",
              "    </tr>\n",
              "  </tbody>\n",
              "</table>\n",
              "</div>"
            ],
            "text/plain": [
              "                   A         B         C         D\n",
              "2013-01-04  1.493350  0.586334 -0.789059 -0.006325\n",
              "2013-01-05  1.828942 -0.346639  0.871194 -0.821000\n",
              "2013-01-06 -0.395603 -0.293618 -0.795951  0.279765"
            ]
          },
          "execution_count": 20,
          "metadata": {},
          "output_type": "execute_result"
        }
      ],
      "source": [
        "df.tail(3)"
      ]
    },
    {
      "cell_type": "markdown",
      "metadata": {
        "id": "DxKFULIkPiNc"
      },
      "source": [
        "Display the <a target=\"_blank\" href=\"https://pandas.pydata.org/docs/reference/api/pandas.DataFrame.index.html#pandas.DataFrame.index\">`DataFrame.index`</a> or <a target=\"_blank\" href=\"https://pandas.pydata.org/docs/reference/api/pandas.DataFrame.columns.html#pandas.DataFrame.columns\">`DataFrame.columns`</a>:"
      ]
    },
    {
      "cell_type": "code",
      "execution_count": 23,
      "metadata": {
        "id": "Zg4l9yUVPlFt"
      },
      "outputs": [
        {
          "data": {
            "text/plain": [
              "DatetimeIndex(['2013-01-01', '2013-01-02', '2013-01-03', '2013-01-04',\n",
              "               '2013-01-05', '2013-01-06'],\n",
              "              dtype='datetime64[ns]', freq='D')"
            ]
          },
          "execution_count": 23,
          "metadata": {},
          "output_type": "execute_result"
        }
      ],
      "source": [
        "df.index"
      ]
    },
    {
      "cell_type": "code",
      "execution_count": 24,
      "metadata": {
        "id": "92jSTFpAProO"
      },
      "outputs": [
        {
          "data": {
            "text/plain": [
              "Index(['A', 'B', 'C', 'D'], dtype='object')"
            ]
          },
          "execution_count": 24,
          "metadata": {},
          "output_type": "execute_result"
        }
      ],
      "source": [
        "df.columns"
      ]
    },
    {
      "cell_type": "markdown",
      "metadata": {
        "id": "ZxWsnW6dhxgv"
      },
      "source": [
        "<a target=\"_blank\" href=\"https://pandas.pydata.org/docs/reference/api/pandas.DataFrame.to_numpy.html#pandas.DataFrame.to_numpy\">`DataFrame.to_numpy()`</a> gives a NumPy representation of the underlying data. Note that this can be an expensive operation when your <a target=\"_blank\" href=\"https://pandas.pydata.org/docs/reference/api/pandas.DataFrame.html#pandas.DataFrame\">`DataFrame`</a> has columns with different data types, which comes down to a fundamental difference between pandas and NumPy: **NumPy arrays have one dtype for the entire array, while pandas DataFrames have one dtype per column**. When you call <a target=\"_blank\" href=\"https://pandas.pydata.org/docs/reference/api/pandas.DataFrame.to_numpy.html#pandas.DataFrame.to_numpy\">`DataFrame.to_numpy()`</a>, pandas will find the NumPy dtype that can hold all of the dtypes in the DataFrame. This may end up being `object`, which requires casting every value to a Python object.\n",
        "\n",
        "For `df`, our <a target=\"_blank\" href=\"https://pandas.pydata.org/docs/reference/api/pandas.DataFrame.html#pandas.DataFrame\">`DataFrame`</a> of all floating-point values, and <a target=\"_blank\" href=\"https://pandas.pydata.org/docs/reference/api/pandas.DataFrame.to_numpy.html#pandas.DataFrame.to_numpy\">`DataFrame.to_numpy()`</a> is fast and doesn’t require copying data:"
      ]
    },
    {
      "cell_type": "code",
      "execution_count": 25,
      "metadata": {
        "id": "WXGypmdcigW0"
      },
      "outputs": [
        {
          "data": {
            "text/plain": [
              "array([[ 0.3219829 ,  1.32934379,  0.47180962,  0.73588084],\n",
              "       [-0.51833702,  0.34790723, -0.92608714,  0.95548885],\n",
              "       [ 1.50317686,  0.61603535, -0.69871012,  0.79197488],\n",
              "       [ 1.49335003,  0.5863339 , -0.789059  , -0.00632494],\n",
              "       [ 1.82894159, -0.34663853,  0.87119371, -0.82100039],\n",
              "       [-0.39560262, -0.29361837, -0.7959512 ,  0.27976454]])"
            ]
          },
          "execution_count": 25,
          "metadata": {},
          "output_type": "execute_result"
        }
      ],
      "source": [
        "df.to_numpy()  # gives a NumPy representation of the dataframe data "
      ]
    },
    {
      "cell_type": "markdown",
      "metadata": {
        "id": "W6RtN0dkimTH"
      },
      "source": [
        "For `df2`, the <a target=\"_blank\" href=\"https://pandas.pydata.org/docs/reference/api/pandas.DataFrame.html#pandas.DataFrame\">`DataFrame`</a> with multiple dtypes, <a target=\"_blank\" href=\"https://pandas.pydata.org/docs/reference/api/pandas.DataFrame.to_numpy.html#pandas.DataFrame.to_numpy\">`DataFrame.to_numpy()`</a> is relatively expensive:\n",
        "\n"
      ]
    },
    {
      "cell_type": "code",
      "execution_count": 26,
      "metadata": {
        "id": "P0XNc3kPi1bO"
      },
      "outputs": [
        {
          "data": {
            "text/plain": [
              "array([[1.0, Timestamp('2013-01-02 00:00:00'), 1.0, 3, 'test', 'foo'],\n",
              "       [1.0, Timestamp('2013-01-02 00:00:00'), 1.0, 3, 'train', 'foo'],\n",
              "       [1.0, Timestamp('2013-01-02 00:00:00'), 1.0, 3, 'test', 'foo'],\n",
              "       [1.0, Timestamp('2013-01-02 00:00:00'), 1.0, 3, 'train', 'foo']],\n",
              "      dtype=object)"
            ]
          },
          "execution_count": 26,
          "metadata": {},
          "output_type": "execute_result"
        }
      ],
      "source": [
        "df2.to_numpy()"
      ]
    },
    {
      "cell_type": "markdown",
      "metadata": {
        "id": "d4RIbLjzi7jY"
      },
      "source": [
        "NOTE: <a target=\"_blank\" href=\"https://pandas.pydata.org/docs/reference/api/pandas.DataFrame.to_numpy.html#pandas.DataFrame.to_numpy\">`DataFrame.to_numpy()`</a> does not include the index or column labels in the output."
      ]
    },
    {
      "cell_type": "markdown",
      "metadata": {
        "id": "SaYf9MG6Ri1A"
      },
      "source": [
        "<a target=\"_blank\" href=\"https://pandas.pydata.org/docs/reference/api/pandas.DataFrame.describe.html#pandas.DataFrame.describe\">`describe()`</a> shows a quick statistic summary of your data:"
      ]
    },
    {
      "cell_type": "code",
      "execution_count": 27,
      "metadata": {
        "id": "MgE_lSKiRpMi"
      },
      "outputs": [
        {
          "data": {
            "text/html": [
              "<div>\n",
              "<style scoped>\n",
              "    .dataframe tbody tr th:only-of-type {\n",
              "        vertical-align: middle;\n",
              "    }\n",
              "\n",
              "    .dataframe tbody tr th {\n",
              "        vertical-align: top;\n",
              "    }\n",
              "\n",
              "    .dataframe thead th {\n",
              "        text-align: right;\n",
              "    }\n",
              "</style>\n",
              "<table border=\"1\" class=\"dataframe\">\n",
              "  <thead>\n",
              "    <tr style=\"text-align: right;\">\n",
              "      <th></th>\n",
              "      <th>A</th>\n",
              "      <th>B</th>\n",
              "      <th>C</th>\n",
              "      <th>D</th>\n",
              "    </tr>\n",
              "  </thead>\n",
              "  <tbody>\n",
              "    <tr>\n",
              "      <th>count</th>\n",
              "      <td>6.000000</td>\n",
              "      <td>6.000000</td>\n",
              "      <td>6.000000</td>\n",
              "      <td>6.000000</td>\n",
              "    </tr>\n",
              "    <tr>\n",
              "      <th>mean</th>\n",
              "      <td>0.705585</td>\n",
              "      <td>0.373227</td>\n",
              "      <td>-0.311134</td>\n",
              "      <td>0.322631</td>\n",
              "    </tr>\n",
              "    <tr>\n",
              "      <th>std</th>\n",
              "      <td>1.036958</td>\n",
              "      <td>0.629613</td>\n",
              "      <td>0.774951</td>\n",
              "      <td>0.664757</td>\n",
              "    </tr>\n",
              "    <tr>\n",
              "      <th>min</th>\n",
              "      <td>-0.518337</td>\n",
              "      <td>-0.346639</td>\n",
              "      <td>-0.926087</td>\n",
              "      <td>-0.821000</td>\n",
              "    </tr>\n",
              "    <tr>\n",
              "      <th>25%</th>\n",
              "      <td>-0.216206</td>\n",
              "      <td>-0.133237</td>\n",
              "      <td>-0.794228</td>\n",
              "      <td>0.065197</td>\n",
              "    </tr>\n",
              "    <tr>\n",
              "      <th>50%</th>\n",
              "      <td>0.907666</td>\n",
              "      <td>0.467121</td>\n",
              "      <td>-0.743885</td>\n",
              "      <td>0.507823</td>\n",
              "    </tr>\n",
              "    <tr>\n",
              "      <th>75%</th>\n",
              "      <td>1.500720</td>\n",
              "      <td>0.608610</td>\n",
              "      <td>0.179180</td>\n",
              "      <td>0.777951</td>\n",
              "    </tr>\n",
              "    <tr>\n",
              "      <th>max</th>\n",
              "      <td>1.828942</td>\n",
              "      <td>1.329344</td>\n",
              "      <td>0.871194</td>\n",
              "      <td>0.955489</td>\n",
              "    </tr>\n",
              "  </tbody>\n",
              "</table>\n",
              "</div>"
            ],
            "text/plain": [
              "              A         B         C         D\n",
              "count  6.000000  6.000000  6.000000  6.000000\n",
              "mean   0.705585  0.373227 -0.311134  0.322631\n",
              "std    1.036958  0.629613  0.774951  0.664757\n",
              "min   -0.518337 -0.346639 -0.926087 -0.821000\n",
              "25%   -0.216206 -0.133237 -0.794228  0.065197\n",
              "50%    0.907666  0.467121 -0.743885  0.507823\n",
              "75%    1.500720  0.608610  0.179180  0.777951\n",
              "max    1.828942  1.329344  0.871194  0.955489"
            ]
          },
          "execution_count": 27,
          "metadata": {},
          "output_type": "execute_result"
        }
      ],
      "source": [
        "df.describe()  # summary statistics! cool "
      ]
    },
    {
      "cell_type": "markdown",
      "metadata": {
        "id": "R53zfAH8RxDV"
      },
      "source": [
        "Transposing your data:"
      ]
    },
    {
      "cell_type": "code",
      "execution_count": 28,
      "metadata": {
        "id": "bIE_UkjDRz5x"
      },
      "outputs": [
        {
          "data": {
            "text/html": [
              "<div>\n",
              "<style scoped>\n",
              "    .dataframe tbody tr th:only-of-type {\n",
              "        vertical-align: middle;\n",
              "    }\n",
              "\n",
              "    .dataframe tbody tr th {\n",
              "        vertical-align: top;\n",
              "    }\n",
              "\n",
              "    .dataframe thead th {\n",
              "        text-align: right;\n",
              "    }\n",
              "</style>\n",
              "<table border=\"1\" class=\"dataframe\">\n",
              "  <thead>\n",
              "    <tr style=\"text-align: right;\">\n",
              "      <th></th>\n",
              "      <th>2013-01-01</th>\n",
              "      <th>2013-01-02</th>\n",
              "      <th>2013-01-03</th>\n",
              "      <th>2013-01-04</th>\n",
              "      <th>2013-01-05</th>\n",
              "      <th>2013-01-06</th>\n",
              "    </tr>\n",
              "  </thead>\n",
              "  <tbody>\n",
              "    <tr>\n",
              "      <th>A</th>\n",
              "      <td>0.321983</td>\n",
              "      <td>-0.518337</td>\n",
              "      <td>1.503177</td>\n",
              "      <td>1.493350</td>\n",
              "      <td>1.828942</td>\n",
              "      <td>-0.395603</td>\n",
              "    </tr>\n",
              "    <tr>\n",
              "      <th>B</th>\n",
              "      <td>1.329344</td>\n",
              "      <td>0.347907</td>\n",
              "      <td>0.616035</td>\n",
              "      <td>0.586334</td>\n",
              "      <td>-0.346639</td>\n",
              "      <td>-0.293618</td>\n",
              "    </tr>\n",
              "    <tr>\n",
              "      <th>C</th>\n",
              "      <td>0.471810</td>\n",
              "      <td>-0.926087</td>\n",
              "      <td>-0.698710</td>\n",
              "      <td>-0.789059</td>\n",
              "      <td>0.871194</td>\n",
              "      <td>-0.795951</td>\n",
              "    </tr>\n",
              "    <tr>\n",
              "      <th>D</th>\n",
              "      <td>0.735881</td>\n",
              "      <td>0.955489</td>\n",
              "      <td>0.791975</td>\n",
              "      <td>-0.006325</td>\n",
              "      <td>-0.821000</td>\n",
              "      <td>0.279765</td>\n",
              "    </tr>\n",
              "  </tbody>\n",
              "</table>\n",
              "</div>"
            ],
            "text/plain": [
              "   2013-01-01  2013-01-02  2013-01-03  2013-01-04  2013-01-05  2013-01-06\n",
              "A    0.321983   -0.518337    1.503177    1.493350    1.828942   -0.395603\n",
              "B    1.329344    0.347907    0.616035    0.586334   -0.346639   -0.293618\n",
              "C    0.471810   -0.926087   -0.698710   -0.789059    0.871194   -0.795951\n",
              "D    0.735881    0.955489    0.791975   -0.006325   -0.821000    0.279765"
            ]
          },
          "execution_count": 28,
          "metadata": {},
          "output_type": "execute_result"
        }
      ],
      "source": [
        "df.T"
      ]
    },
    {
      "cell_type": "markdown",
      "metadata": {
        "id": "aLIzfkguR6hY"
      },
      "source": [
        "<a target=\"_blank\" href=\"https://pandas.pydata.org/docs/reference/api/pandas.DataFrame.sort_index.html#pandas.DataFrame.sort_index\">`DataFrame.sort_index()`</a> sorts by an axis:"
      ]
    },
    {
      "cell_type": "code",
      "execution_count": null,
      "metadata": {
        "id": "yuWbmU8fR8hp"
      },
      "outputs": [
        {
          "data": {
            "text/html": [
              "<div>\n",
              "<style scoped>\n",
              "    .dataframe tbody tr th:only-of-type {\n",
              "        vertical-align: middle;\n",
              "    }\n",
              "\n",
              "    .dataframe tbody tr th {\n",
              "        vertical-align: top;\n",
              "    }\n",
              "\n",
              "    .dataframe thead th {\n",
              "        text-align: right;\n",
              "    }\n",
              "</style>\n",
              "<table border=\"1\" class=\"dataframe\">\n",
              "  <thead>\n",
              "    <tr style=\"text-align: right;\">\n",
              "      <th></th>\n",
              "      <th>A</th>\n",
              "      <th>B</th>\n",
              "      <th>C</th>\n",
              "      <th>D</th>\n",
              "    </tr>\n",
              "  </thead>\n",
              "  <tbody>\n",
              "    <tr>\n",
              "      <th>2013-01-06</th>\n",
              "      <td>-0.395603</td>\n",
              "      <td>-0.293618</td>\n",
              "      <td>-0.795951</td>\n",
              "      <td>0.279765</td>\n",
              "    </tr>\n",
              "    <tr>\n",
              "      <th>2013-01-05</th>\n",
              "      <td>1.828942</td>\n",
              "      <td>-0.346639</td>\n",
              "      <td>0.871194</td>\n",
              "      <td>-0.821000</td>\n",
              "    </tr>\n",
              "    <tr>\n",
              "      <th>2013-01-04</th>\n",
              "      <td>1.493350</td>\n",
              "      <td>0.586334</td>\n",
              "      <td>-0.789059</td>\n",
              "      <td>-0.006325</td>\n",
              "    </tr>\n",
              "    <tr>\n",
              "      <th>2013-01-03</th>\n",
              "      <td>1.503177</td>\n",
              "      <td>0.616035</td>\n",
              "      <td>-0.698710</td>\n",
              "      <td>0.791975</td>\n",
              "    </tr>\n",
              "    <tr>\n",
              "      <th>2013-01-02</th>\n",
              "      <td>-0.518337</td>\n",
              "      <td>0.347907</td>\n",
              "      <td>-0.926087</td>\n",
              "      <td>0.955489</td>\n",
              "    </tr>\n",
              "    <tr>\n",
              "      <th>2013-01-01</th>\n",
              "      <td>0.321983</td>\n",
              "      <td>1.329344</td>\n",
              "      <td>0.471810</td>\n",
              "      <td>0.735881</td>\n",
              "    </tr>\n",
              "  </tbody>\n",
              "</table>\n",
              "</div>"
            ],
            "text/plain": [
              "                   A         B         C         D\n",
              "2013-01-06 -0.395603 -0.293618 -0.795951  0.279765\n",
              "2013-01-05  1.828942 -0.346639  0.871194 -0.821000\n",
              "2013-01-04  1.493350  0.586334 -0.789059 -0.006325\n",
              "2013-01-03  1.503177  0.616035 -0.698710  0.791975\n",
              "2013-01-02 -0.518337  0.347907 -0.926087  0.955489\n",
              "2013-01-01  0.321983  1.329344  0.471810  0.735881"
            ]
          },
          "execution_count": 32,
          "metadata": {},
          "output_type": "execute_result"
        }
      ],
      "source": [
        "df.sort_index(axis=0, ascending=False)\n",
        "\n",
        "# axis means the index of the rows or index of the columns \n",
        "# 0 = row index\n",
        "# 1 = column index "
      ]
    },
    {
      "cell_type": "markdown",
      "metadata": {
        "id": "_PIz8Q0ZSQn3"
      },
      "source": [
        "<a target=\"_blank\" href=\"https://pandas.pydata.org/docs/reference/api/pandas.DataFrame.sort_values.html#pandas.DataFrame.sort_values\">`DataFrame.sort_values()`</a> sorts by values:"
      ]
    },
    {
      "cell_type": "code",
      "execution_count": 35,
      "metadata": {
        "id": "j_7cuOtwSYf1"
      },
      "outputs": [
        {
          "data": {
            "text/html": [
              "<div>\n",
              "<style scoped>\n",
              "    .dataframe tbody tr th:only-of-type {\n",
              "        vertical-align: middle;\n",
              "    }\n",
              "\n",
              "    .dataframe tbody tr th {\n",
              "        vertical-align: top;\n",
              "    }\n",
              "\n",
              "    .dataframe thead th {\n",
              "        text-align: right;\n",
              "    }\n",
              "</style>\n",
              "<table border=\"1\" class=\"dataframe\">\n",
              "  <thead>\n",
              "    <tr style=\"text-align: right;\">\n",
              "      <th></th>\n",
              "      <th>A</th>\n",
              "      <th>B</th>\n",
              "      <th>C</th>\n",
              "      <th>D</th>\n",
              "    </tr>\n",
              "  </thead>\n",
              "  <tbody>\n",
              "    <tr>\n",
              "      <th>2013-01-05</th>\n",
              "      <td>1.828942</td>\n",
              "      <td>-0.346639</td>\n",
              "      <td>0.871194</td>\n",
              "      <td>-0.821000</td>\n",
              "    </tr>\n",
              "    <tr>\n",
              "      <th>2013-01-06</th>\n",
              "      <td>-0.395603</td>\n",
              "      <td>-0.293618</td>\n",
              "      <td>-0.795951</td>\n",
              "      <td>0.279765</td>\n",
              "    </tr>\n",
              "    <tr>\n",
              "      <th>2013-01-02</th>\n",
              "      <td>-0.518337</td>\n",
              "      <td>0.347907</td>\n",
              "      <td>-0.926087</td>\n",
              "      <td>0.955489</td>\n",
              "    </tr>\n",
              "    <tr>\n",
              "      <th>2013-01-04</th>\n",
              "      <td>1.493350</td>\n",
              "      <td>0.586334</td>\n",
              "      <td>-0.789059</td>\n",
              "      <td>-0.006325</td>\n",
              "    </tr>\n",
              "    <tr>\n",
              "      <th>2013-01-03</th>\n",
              "      <td>1.503177</td>\n",
              "      <td>0.616035</td>\n",
              "      <td>-0.698710</td>\n",
              "      <td>0.791975</td>\n",
              "    </tr>\n",
              "    <tr>\n",
              "      <th>2013-01-01</th>\n",
              "      <td>0.321983</td>\n",
              "      <td>1.329344</td>\n",
              "      <td>0.471810</td>\n",
              "      <td>0.735881</td>\n",
              "    </tr>\n",
              "  </tbody>\n",
              "</table>\n",
              "</div>"
            ],
            "text/plain": [
              "                   A         B         C         D\n",
              "2013-01-05  1.828942 -0.346639  0.871194 -0.821000\n",
              "2013-01-06 -0.395603 -0.293618 -0.795951  0.279765\n",
              "2013-01-02 -0.518337  0.347907 -0.926087  0.955489\n",
              "2013-01-04  1.493350  0.586334 -0.789059 -0.006325\n",
              "2013-01-03  1.503177  0.616035 -0.698710  0.791975\n",
              "2013-01-01  0.321983  1.329344  0.471810  0.735881"
            ]
          },
          "execution_count": 35,
          "metadata": {},
          "output_type": "execute_result"
        }
      ],
      "source": [
        "df.sort_values(by='B')\n",
        "# sorts by the column header specified here "
      ]
    },
    {
      "cell_type": "markdown",
      "metadata": {
        "id": "L4TQdaRBiG4N"
      },
      "source": [
        "#### 👉 Save your work here\n",
        "\n",
        "\n"
      ]
    },
    {
      "cell_type": "markdown",
      "metadata": {
        "id": "Irh3gEM7Sjw6"
      },
      "source": [
        "## Selection"
      ]
    },
    {
      "cell_type": "markdown",
      "metadata": {
        "id": "ipv6fGmvkTzV"
      },
      "source": [
        "NOTE: While standard Python / NumPy expressions for selecting and setting are intuitive and come in handy for interactive work, for production code, we recommend the optimized pandas data access methods, <a target=\"_blank\" href=\"https://pandas.pydata.org/docs/reference/api/pandas.DataFrame.at.html#pandas.DataFrame.at\">`DataFrame.at()`</a>, <a target=\"_blank\" href=\"https://pandas.pydata.org/docs/reference/api/pandas.DataFrame.iat.html#pandas.DataFrame.iat\">`DataFrame.iat()`</a>, <a target=\"_blank\" href=\"https://pandas.pydata.org/docs/reference/api/pandas.DataFrame.loc.html#pandas.DataFrame.loc\">`DataFrame.loc()`</a> and <a target=\"_blank\" href=\"https://pandas.pydata.org/docs/reference/api/pandas.DataFrame.iloc.html#pandas.DataFrame.iloc\">`DataFrame.iloc()`</a>.\n",
        "\n",
        "See the indexing documentation <a target=\"_blank\" href=\"https://pandas.pydata.org/docs/user_guide/indexing.html#indexing\">Indexing and Selecting Data</a> and <a target=\"_blank\" href=\"https://pandas.pydata.org/docs/user_guide/advanced.html#advanced\">MultiIndex / Advanced Indexing</a>.\n",
        "\n"
      ]
    },
    {
      "cell_type": "markdown",
      "metadata": {
        "id": "nHaQJaVhTHSl"
      },
      "source": [
        "### Getting"
      ]
    },
    {
      "cell_type": "markdown",
      "metadata": {
        "id": "lVl2W8bQSs02"
      },
      "source": [
        "Selecting a single column, which yields a <a target=\"_blank\" href=\"https://pandas.pydata.org/docs/reference/api/pandas.Series.html#pandas.Series\">`Series`</a>, equivalent to `df.A`:"
      ]
    },
    {
      "cell_type": "code",
      "execution_count": 36,
      "metadata": {
        "id": "l1d7nm3QS0qg"
      },
      "outputs": [
        {
          "data": {
            "text/plain": [
              "2013-01-01    0.321983\n",
              "2013-01-02   -0.518337\n",
              "2013-01-03    1.503177\n",
              "2013-01-04    1.493350\n",
              "2013-01-05    1.828942\n",
              "2013-01-06   -0.395603\n",
              "Freq: D, Name: A, dtype: float64"
            ]
          },
          "execution_count": 36,
          "metadata": {},
          "output_type": "execute_result"
        }
      ],
      "source": [
        "df[\"A\"]"
      ]
    },
    {
      "cell_type": "code",
      "execution_count": 37,
      "metadata": {},
      "outputs": [
        {
          "data": {
            "text/plain": [
              "2013-01-01    0.321983\n",
              "2013-01-02   -0.518337\n",
              "2013-01-03    1.503177\n",
              "2013-01-04    1.493350\n",
              "2013-01-05    1.828942\n",
              "2013-01-06   -0.395603\n",
              "Freq: D, Name: A, dtype: float64"
            ]
          },
          "execution_count": 37,
          "metadata": {},
          "output_type": "execute_result"
        }
      ],
      "source": [
        "df.A"
      ]
    },
    {
      "cell_type": "markdown",
      "metadata": {
        "id": "zN6UA4ZAS4SV"
      },
      "source": [
        "Selecting via `[]` (`__getitem__`), which slices the rows:"
      ]
    },
    {
      "cell_type": "code",
      "execution_count": 38,
      "metadata": {
        "id": "tkCiLvw3S3ll"
      },
      "outputs": [
        {
          "data": {
            "text/html": [
              "<div>\n",
              "<style scoped>\n",
              "    .dataframe tbody tr th:only-of-type {\n",
              "        vertical-align: middle;\n",
              "    }\n",
              "\n",
              "    .dataframe tbody tr th {\n",
              "        vertical-align: top;\n",
              "    }\n",
              "\n",
              "    .dataframe thead th {\n",
              "        text-align: right;\n",
              "    }\n",
              "</style>\n",
              "<table border=\"1\" class=\"dataframe\">\n",
              "  <thead>\n",
              "    <tr style=\"text-align: right;\">\n",
              "      <th></th>\n",
              "      <th>A</th>\n",
              "      <th>B</th>\n",
              "      <th>C</th>\n",
              "      <th>D</th>\n",
              "    </tr>\n",
              "  </thead>\n",
              "  <tbody>\n",
              "    <tr>\n",
              "      <th>2013-01-01</th>\n",
              "      <td>0.321983</td>\n",
              "      <td>1.329344</td>\n",
              "      <td>0.471810</td>\n",
              "      <td>0.735881</td>\n",
              "    </tr>\n",
              "    <tr>\n",
              "      <th>2013-01-02</th>\n",
              "      <td>-0.518337</td>\n",
              "      <td>0.347907</td>\n",
              "      <td>-0.926087</td>\n",
              "      <td>0.955489</td>\n",
              "    </tr>\n",
              "    <tr>\n",
              "      <th>2013-01-03</th>\n",
              "      <td>1.503177</td>\n",
              "      <td>0.616035</td>\n",
              "      <td>-0.698710</td>\n",
              "      <td>0.791975</td>\n",
              "    </tr>\n",
              "  </tbody>\n",
              "</table>\n",
              "</div>"
            ],
            "text/plain": [
              "                   A         B         C         D\n",
              "2013-01-01  0.321983  1.329344  0.471810  0.735881\n",
              "2013-01-02 -0.518337  0.347907 -0.926087  0.955489\n",
              "2013-01-03  1.503177  0.616035 -0.698710  0.791975"
            ]
          },
          "execution_count": 38,
          "metadata": {},
          "output_type": "execute_result"
        }
      ],
      "source": [
        "df[0:3]  # only the first 3 rows "
      ]
    },
    {
      "cell_type": "code",
      "execution_count": 39,
      "metadata": {
        "id": "9Ir6HCR2mKo0"
      },
      "outputs": [
        {
          "data": {
            "text/html": [
              "<div>\n",
              "<style scoped>\n",
              "    .dataframe tbody tr th:only-of-type {\n",
              "        vertical-align: middle;\n",
              "    }\n",
              "\n",
              "    .dataframe tbody tr th {\n",
              "        vertical-align: top;\n",
              "    }\n",
              "\n",
              "    .dataframe thead th {\n",
              "        text-align: right;\n",
              "    }\n",
              "</style>\n",
              "<table border=\"1\" class=\"dataframe\">\n",
              "  <thead>\n",
              "    <tr style=\"text-align: right;\">\n",
              "      <th></th>\n",
              "      <th>A</th>\n",
              "      <th>B</th>\n",
              "      <th>C</th>\n",
              "      <th>D</th>\n",
              "    </tr>\n",
              "  </thead>\n",
              "  <tbody>\n",
              "    <tr>\n",
              "      <th>2013-01-02</th>\n",
              "      <td>-0.518337</td>\n",
              "      <td>0.347907</td>\n",
              "      <td>-0.926087</td>\n",
              "      <td>0.955489</td>\n",
              "    </tr>\n",
              "    <tr>\n",
              "      <th>2013-01-03</th>\n",
              "      <td>1.503177</td>\n",
              "      <td>0.616035</td>\n",
              "      <td>-0.698710</td>\n",
              "      <td>0.791975</td>\n",
              "    </tr>\n",
              "    <tr>\n",
              "      <th>2013-01-04</th>\n",
              "      <td>1.493350</td>\n",
              "      <td>0.586334</td>\n",
              "      <td>-0.789059</td>\n",
              "      <td>-0.006325</td>\n",
              "    </tr>\n",
              "  </tbody>\n",
              "</table>\n",
              "</div>"
            ],
            "text/plain": [
              "                   A         B         C         D\n",
              "2013-01-02 -0.518337  0.347907 -0.926087  0.955489\n",
              "2013-01-03  1.503177  0.616035 -0.698710  0.791975\n",
              "2013-01-04  1.493350  0.586334 -0.789059 -0.006325"
            ]
          },
          "execution_count": 39,
          "metadata": {},
          "output_type": "execute_result"
        }
      ],
      "source": [
        "df[\"20130102\":\"20130104\"]  # you can slice by index too if you know it"
      ]
    },
    {
      "cell_type": "markdown",
      "metadata": {
        "id": "DYwyMbOOTOMD"
      },
      "source": [
        "### Selection by label"
      ]
    },
    {
      "cell_type": "markdown",
      "metadata": {
        "id": "FpAjPc5TTYRR"
      },
      "source": [
        "See more in <a target=\"_blank\" href=\"https://pandas.pydata.org/docs/user_guide/indexing.html#indexing-label\">Selection by Label</a> using <a target=\"_blank\" href=\"https://pandas.pydata.org/docs/reference/api/pandas.DataFrame.loc.html#pandas.DataFrame.loc\">`DataFrame.loc()`</a> or <a target=\"_blank\" href=\"https://pandas.pydata.org/docs/reference/api/pandas.DataFrame.at.html#pandas.DataFrame.at\">`DataFrame.at()`</a>.\n",
        "\n",
        "For getting a cross section using a label:"
      ]
    },
    {
      "cell_type": "code",
      "execution_count": 40,
      "metadata": {
        "id": "eIAarsmaTSCi"
      },
      "outputs": [
        {
          "data": {
            "text/plain": [
              "A    0.321983\n",
              "B    1.329344\n",
              "C    0.471810\n",
              "D    0.735881\n",
              "Name: 2013-01-01 00:00:00, dtype: float64"
            ]
          },
          "execution_count": 40,
          "metadata": {},
          "output_type": "execute_result"
        }
      ],
      "source": [
        "df.loc[dates[0]]  # so this gets the first cross section - by the first date "
      ]
    },
    {
      "cell_type": "code",
      "execution_count": 41,
      "metadata": {},
      "outputs": [
        {
          "data": {
            "text/html": [
              "<div>\n",
              "<style scoped>\n",
              "    .dataframe tbody tr th:only-of-type {\n",
              "        vertical-align: middle;\n",
              "    }\n",
              "\n",
              "    .dataframe tbody tr th {\n",
              "        vertical-align: top;\n",
              "    }\n",
              "\n",
              "    .dataframe thead th {\n",
              "        text-align: right;\n",
              "    }\n",
              "</style>\n",
              "<table border=\"1\" class=\"dataframe\">\n",
              "  <thead>\n",
              "    <tr style=\"text-align: right;\">\n",
              "      <th></th>\n",
              "      <th>A</th>\n",
              "      <th>B</th>\n",
              "      <th>C</th>\n",
              "      <th>D</th>\n",
              "    </tr>\n",
              "  </thead>\n",
              "  <tbody>\n",
              "    <tr>\n",
              "      <th>2013-01-01</th>\n",
              "      <td>0.321983</td>\n",
              "      <td>1.329344</td>\n",
              "      <td>0.471810</td>\n",
              "      <td>0.735881</td>\n",
              "    </tr>\n",
              "    <tr>\n",
              "      <th>2013-01-02</th>\n",
              "      <td>-0.518337</td>\n",
              "      <td>0.347907</td>\n",
              "      <td>-0.926087</td>\n",
              "      <td>0.955489</td>\n",
              "    </tr>\n",
              "    <tr>\n",
              "      <th>2013-01-03</th>\n",
              "      <td>1.503177</td>\n",
              "      <td>0.616035</td>\n",
              "      <td>-0.698710</td>\n",
              "      <td>0.791975</td>\n",
              "    </tr>\n",
              "    <tr>\n",
              "      <th>2013-01-04</th>\n",
              "      <td>1.493350</td>\n",
              "      <td>0.586334</td>\n",
              "      <td>-0.789059</td>\n",
              "      <td>-0.006325</td>\n",
              "    </tr>\n",
              "    <tr>\n",
              "      <th>2013-01-05</th>\n",
              "      <td>1.828942</td>\n",
              "      <td>-0.346639</td>\n",
              "      <td>0.871194</td>\n",
              "      <td>-0.821000</td>\n",
              "    </tr>\n",
              "    <tr>\n",
              "      <th>2013-01-06</th>\n",
              "      <td>-0.395603</td>\n",
              "      <td>-0.293618</td>\n",
              "      <td>-0.795951</td>\n",
              "      <td>0.279765</td>\n",
              "    </tr>\n",
              "  </tbody>\n",
              "</table>\n",
              "</div>"
            ],
            "text/plain": [
              "                   A         B         C         D\n",
              "2013-01-01  0.321983  1.329344  0.471810  0.735881\n",
              "2013-01-02 -0.518337  0.347907 -0.926087  0.955489\n",
              "2013-01-03  1.503177  0.616035 -0.698710  0.791975\n",
              "2013-01-04  1.493350  0.586334 -0.789059 -0.006325\n",
              "2013-01-05  1.828942 -0.346639  0.871194 -0.821000\n",
              "2013-01-06 -0.395603 -0.293618 -0.795951  0.279765"
            ]
          },
          "execution_count": 41,
          "metadata": {},
          "output_type": "execute_result"
        }
      ],
      "source": [
        "df"
      ]
    },
    {
      "cell_type": "markdown",
      "metadata": {
        "id": "a4kPW5AVTf5o"
      },
      "source": [
        "Selecting on a multi-axis by label:"
      ]
    },
    {
      "cell_type": "code",
      "execution_count": 42,
      "metadata": {
        "id": "m8hHZWCbTjIC"
      },
      "outputs": [
        {
          "data": {
            "text/html": [
              "<div>\n",
              "<style scoped>\n",
              "    .dataframe tbody tr th:only-of-type {\n",
              "        vertical-align: middle;\n",
              "    }\n",
              "\n",
              "    .dataframe tbody tr th {\n",
              "        vertical-align: top;\n",
              "    }\n",
              "\n",
              "    .dataframe thead th {\n",
              "        text-align: right;\n",
              "    }\n",
              "</style>\n",
              "<table border=\"1\" class=\"dataframe\">\n",
              "  <thead>\n",
              "    <tr style=\"text-align: right;\">\n",
              "      <th></th>\n",
              "      <th>A</th>\n",
              "      <th>B</th>\n",
              "    </tr>\n",
              "  </thead>\n",
              "  <tbody>\n",
              "    <tr>\n",
              "      <th>2013-01-01</th>\n",
              "      <td>0.321983</td>\n",
              "      <td>1.329344</td>\n",
              "    </tr>\n",
              "    <tr>\n",
              "      <th>2013-01-02</th>\n",
              "      <td>-0.518337</td>\n",
              "      <td>0.347907</td>\n",
              "    </tr>\n",
              "    <tr>\n",
              "      <th>2013-01-03</th>\n",
              "      <td>1.503177</td>\n",
              "      <td>0.616035</td>\n",
              "    </tr>\n",
              "    <tr>\n",
              "      <th>2013-01-04</th>\n",
              "      <td>1.493350</td>\n",
              "      <td>0.586334</td>\n",
              "    </tr>\n",
              "    <tr>\n",
              "      <th>2013-01-05</th>\n",
              "      <td>1.828942</td>\n",
              "      <td>-0.346639</td>\n",
              "    </tr>\n",
              "    <tr>\n",
              "      <th>2013-01-06</th>\n",
              "      <td>-0.395603</td>\n",
              "      <td>-0.293618</td>\n",
              "    </tr>\n",
              "  </tbody>\n",
              "</table>\n",
              "</div>"
            ],
            "text/plain": [
              "                   A         B\n",
              "2013-01-01  0.321983  1.329344\n",
              "2013-01-02 -0.518337  0.347907\n",
              "2013-01-03  1.503177  0.616035\n",
              "2013-01-04  1.493350  0.586334\n",
              "2013-01-05  1.828942 -0.346639\n",
              "2013-01-06 -0.395603 -0.293618"
            ]
          },
          "execution_count": 42,
          "metadata": {},
          "output_type": "execute_result"
        }
      ],
      "source": [
        "df.loc[:, [\"A\", \"B\"]]  # this grabs all rows, and only columns A and B "
      ]
    },
    {
      "cell_type": "markdown",
      "metadata": {
        "id": "AYZHmpTvnLX_"
      },
      "source": [
        "Showing label slicing, both endpoints are included:"
      ]
    },
    {
      "cell_type": "code",
      "execution_count": 43,
      "metadata": {
        "id": "Bji30wMhnMfq"
      },
      "outputs": [
        {
          "data": {
            "text/html": [
              "<div>\n",
              "<style scoped>\n",
              "    .dataframe tbody tr th:only-of-type {\n",
              "        vertical-align: middle;\n",
              "    }\n",
              "\n",
              "    .dataframe tbody tr th {\n",
              "        vertical-align: top;\n",
              "    }\n",
              "\n",
              "    .dataframe thead th {\n",
              "        text-align: right;\n",
              "    }\n",
              "</style>\n",
              "<table border=\"1\" class=\"dataframe\">\n",
              "  <thead>\n",
              "    <tr style=\"text-align: right;\">\n",
              "      <th></th>\n",
              "      <th>A</th>\n",
              "      <th>B</th>\n",
              "    </tr>\n",
              "  </thead>\n",
              "  <tbody>\n",
              "    <tr>\n",
              "      <th>2013-01-02</th>\n",
              "      <td>-0.518337</td>\n",
              "      <td>0.347907</td>\n",
              "    </tr>\n",
              "    <tr>\n",
              "      <th>2013-01-03</th>\n",
              "      <td>1.503177</td>\n",
              "      <td>0.616035</td>\n",
              "    </tr>\n",
              "    <tr>\n",
              "      <th>2013-01-04</th>\n",
              "      <td>1.493350</td>\n",
              "      <td>0.586334</td>\n",
              "    </tr>\n",
              "  </tbody>\n",
              "</table>\n",
              "</div>"
            ],
            "text/plain": [
              "                   A         B\n",
              "2013-01-02 -0.518337  0.347907\n",
              "2013-01-03  1.503177  0.616035\n",
              "2013-01-04  1.493350  0.586334"
            ]
          },
          "execution_count": 43,
          "metadata": {},
          "output_type": "execute_result"
        }
      ],
      "source": [
        "df.loc[\"20130102\":\"20130104\", [\"A\", \"B\"]]"
      ]
    },
    {
      "cell_type": "markdown",
      "metadata": {
        "id": "yyPla7wjnTGf"
      },
      "source": [
        "Reduction in the dimensions of the returned object:"
      ]
    },
    {
      "cell_type": "code",
      "execution_count": 44,
      "metadata": {
        "id": "HQNcB0xjnUbR"
      },
      "outputs": [
        {
          "data": {
            "text/plain": [
              "A   -0.518337\n",
              "B    0.347907\n",
              "Name: 2013-01-02 00:00:00, dtype: float64"
            ]
          },
          "execution_count": 44,
          "metadata": {},
          "output_type": "execute_result"
        }
      ],
      "source": [
        "df.loc[\"20130102\", [\"A\", \"B\"]]"
      ]
    },
    {
      "cell_type": "markdown",
      "metadata": {
        "id": "pR_2DTRtnaah"
      },
      "source": [
        "For getting a scalar value:"
      ]
    },
    {
      "cell_type": "code",
      "execution_count": 45,
      "metadata": {
        "id": "VTtQq99Unbol"
      },
      "outputs": [
        {
          "data": {
            "text/plain": [
              "0.3219828997215635"
            ]
          },
          "execution_count": 45,
          "metadata": {},
          "output_type": "execute_result"
        }
      ],
      "source": [
        "df.loc[dates[0], \"A\"]  # gets 1 value"
      ]
    },
    {
      "cell_type": "markdown",
      "metadata": {
        "id": "msUtRC5_nhFg"
      },
      "source": [
        "For getting fast access to a scalar (equivalent to the prior method):"
      ]
    },
    {
      "cell_type": "code",
      "execution_count": 46,
      "metadata": {
        "id": "TNDwK-dAniQb"
      },
      "outputs": [
        {
          "data": {
            "text/plain": [
              "0.3219828997215635"
            ]
          },
          "execution_count": 46,
          "metadata": {},
          "output_type": "execute_result"
        }
      ],
      "source": [
        "df.at[dates[0], \"A\"] \n",
        "# best for accessing a single cell by label \n",
        "# faster than .loc for single value retrival \n",
        "# does not support multiple rows.columns "
      ]
    },
    {
      "cell_type": "markdown",
      "metadata": {
        "id": "7gY3VNbhT4w8"
      },
      "source": [
        "### Selection by position"
      ]
    },
    {
      "cell_type": "markdown",
      "metadata": {
        "id": "-2hN_bmKw8yy"
      },
      "source": [
        "See more in <a target=\"_blank\" href=\"https://pandas.pydata.org/docs/user_guide/indexing.html#indexing-integer\">Selection by Position</a> using <a target=\"_blank\" href=\"https://pandas.pydata.org/docs/reference/api/pandas.DataFrame.iloc.html#pandas.DataFrame.iloc\">`DataFrame.iloc()`</a> or <a target=\"_blank\" href=\"https://pandas.pydata.org/docs/reference/api/pandas.DataFrame.at.html#pandas.DataFrame.at\">`DataFrame.at()`</a>.\n",
        "\n",
        "Select via the position of the passed integers:"
      ]
    },
    {
      "cell_type": "code",
      "execution_count": 48,
      "metadata": {},
      "outputs": [
        {
          "data": {
            "text/html": [
              "<div>\n",
              "<style scoped>\n",
              "    .dataframe tbody tr th:only-of-type {\n",
              "        vertical-align: middle;\n",
              "    }\n",
              "\n",
              "    .dataframe tbody tr th {\n",
              "        vertical-align: top;\n",
              "    }\n",
              "\n",
              "    .dataframe thead th {\n",
              "        text-align: right;\n",
              "    }\n",
              "</style>\n",
              "<table border=\"1\" class=\"dataframe\">\n",
              "  <thead>\n",
              "    <tr style=\"text-align: right;\">\n",
              "      <th></th>\n",
              "      <th>A</th>\n",
              "      <th>B</th>\n",
              "      <th>C</th>\n",
              "      <th>D</th>\n",
              "    </tr>\n",
              "  </thead>\n",
              "  <tbody>\n",
              "    <tr>\n",
              "      <th>2013-01-01</th>\n",
              "      <td>0.321983</td>\n",
              "      <td>1.329344</td>\n",
              "      <td>0.471810</td>\n",
              "      <td>0.735881</td>\n",
              "    </tr>\n",
              "    <tr>\n",
              "      <th>2013-01-02</th>\n",
              "      <td>-0.518337</td>\n",
              "      <td>0.347907</td>\n",
              "      <td>-0.926087</td>\n",
              "      <td>0.955489</td>\n",
              "    </tr>\n",
              "    <tr>\n",
              "      <th>2013-01-03</th>\n",
              "      <td>1.503177</td>\n",
              "      <td>0.616035</td>\n",
              "      <td>-0.698710</td>\n",
              "      <td>0.791975</td>\n",
              "    </tr>\n",
              "    <tr>\n",
              "      <th>2013-01-04</th>\n",
              "      <td>1.493350</td>\n",
              "      <td>0.586334</td>\n",
              "      <td>-0.789059</td>\n",
              "      <td>-0.006325</td>\n",
              "    </tr>\n",
              "    <tr>\n",
              "      <th>2013-01-05</th>\n",
              "      <td>1.828942</td>\n",
              "      <td>-0.346639</td>\n",
              "      <td>0.871194</td>\n",
              "      <td>-0.821000</td>\n",
              "    </tr>\n",
              "    <tr>\n",
              "      <th>2013-01-06</th>\n",
              "      <td>-0.395603</td>\n",
              "      <td>-0.293618</td>\n",
              "      <td>-0.795951</td>\n",
              "      <td>0.279765</td>\n",
              "    </tr>\n",
              "  </tbody>\n",
              "</table>\n",
              "</div>"
            ],
            "text/plain": [
              "                   A         B         C         D\n",
              "2013-01-01  0.321983  1.329344  0.471810  0.735881\n",
              "2013-01-02 -0.518337  0.347907 -0.926087  0.955489\n",
              "2013-01-03  1.503177  0.616035 -0.698710  0.791975\n",
              "2013-01-04  1.493350  0.586334 -0.789059 -0.006325\n",
              "2013-01-05  1.828942 -0.346639  0.871194 -0.821000\n",
              "2013-01-06 -0.395603 -0.293618 -0.795951  0.279765"
            ]
          },
          "execution_count": 48,
          "metadata": {},
          "output_type": "execute_result"
        }
      ],
      "source": [
        "df"
      ]
    },
    {
      "cell_type": "code",
      "execution_count": 47,
      "metadata": {
        "id": "AUrNqRvKT81K"
      },
      "outputs": [
        {
          "data": {
            "text/plain": [
              "A    1.493350\n",
              "B    0.586334\n",
              "C   -0.789059\n",
              "D   -0.006325\n",
              "Name: 2013-01-04 00:00:00, dtype: float64"
            ]
          },
          "execution_count": 47,
          "metadata": {},
          "output_type": "execute_result"
        }
      ],
      "source": [
        "df.iloc[3]\n",
        "# 0 based\n",
        "# so spits out the 4th row "
      ]
    },
    {
      "cell_type": "markdown",
      "metadata": {
        "id": "XOoPOUzDUE4Z"
      },
      "source": [
        "By integer slices, acting similar to NumPy/Python:"
      ]
    },
    {
      "cell_type": "code",
      "execution_count": 49,
      "metadata": {
        "id": "qDgEXEQnUIxE"
      },
      "outputs": [
        {
          "data": {
            "text/html": [
              "<div>\n",
              "<style scoped>\n",
              "    .dataframe tbody tr th:only-of-type {\n",
              "        vertical-align: middle;\n",
              "    }\n",
              "\n",
              "    .dataframe tbody tr th {\n",
              "        vertical-align: top;\n",
              "    }\n",
              "\n",
              "    .dataframe thead th {\n",
              "        text-align: right;\n",
              "    }\n",
              "</style>\n",
              "<table border=\"1\" class=\"dataframe\">\n",
              "  <thead>\n",
              "    <tr style=\"text-align: right;\">\n",
              "      <th></th>\n",
              "      <th>A</th>\n",
              "      <th>B</th>\n",
              "    </tr>\n",
              "  </thead>\n",
              "  <tbody>\n",
              "    <tr>\n",
              "      <th>2013-01-04</th>\n",
              "      <td>1.493350</td>\n",
              "      <td>0.586334</td>\n",
              "    </tr>\n",
              "    <tr>\n",
              "      <th>2013-01-05</th>\n",
              "      <td>1.828942</td>\n",
              "      <td>-0.346639</td>\n",
              "    </tr>\n",
              "  </tbody>\n",
              "</table>\n",
              "</div>"
            ],
            "text/plain": [
              "                   A         B\n",
              "2013-01-04  1.493350  0.586334\n",
              "2013-01-05  1.828942 -0.346639"
            ]
          },
          "execution_count": 49,
          "metadata": {},
          "output_type": "execute_result"
        }
      ],
      "source": [
        "df.iloc[3:5, 0:2]  # row, column \n",
        "# doesn't call the names specifically, calls by location"
      ]
    },
    {
      "cell_type": "markdown",
      "metadata": {
        "id": "3-TZIwk8USJ6"
      },
      "source": [
        "By lists of integer position locations, similar to the NumPy/Python style:"
      ]
    },
    {
      "cell_type": "code",
      "execution_count": 50,
      "metadata": {
        "id": "d1pT2WLHUVfG"
      },
      "outputs": [
        {
          "data": {
            "text/html": [
              "<div>\n",
              "<style scoped>\n",
              "    .dataframe tbody tr th:only-of-type {\n",
              "        vertical-align: middle;\n",
              "    }\n",
              "\n",
              "    .dataframe tbody tr th {\n",
              "        vertical-align: top;\n",
              "    }\n",
              "\n",
              "    .dataframe thead th {\n",
              "        text-align: right;\n",
              "    }\n",
              "</style>\n",
              "<table border=\"1\" class=\"dataframe\">\n",
              "  <thead>\n",
              "    <tr style=\"text-align: right;\">\n",
              "      <th></th>\n",
              "      <th>A</th>\n",
              "      <th>C</th>\n",
              "    </tr>\n",
              "  </thead>\n",
              "  <tbody>\n",
              "    <tr>\n",
              "      <th>2013-01-02</th>\n",
              "      <td>-0.518337</td>\n",
              "      <td>-0.926087</td>\n",
              "    </tr>\n",
              "    <tr>\n",
              "      <th>2013-01-03</th>\n",
              "      <td>1.503177</td>\n",
              "      <td>-0.698710</td>\n",
              "    </tr>\n",
              "    <tr>\n",
              "      <th>2013-01-05</th>\n",
              "      <td>1.828942</td>\n",
              "      <td>0.871194</td>\n",
              "    </tr>\n",
              "  </tbody>\n",
              "</table>\n",
              "</div>"
            ],
            "text/plain": [
              "                   A         C\n",
              "2013-01-02 -0.518337 -0.926087\n",
              "2013-01-03  1.503177 -0.698710\n",
              "2013-01-05  1.828942  0.871194"
            ]
          },
          "execution_count": 50,
          "metadata": {},
          "output_type": "execute_result"
        }
      ],
      "source": [
        "df.iloc[[1, 2, 4], [0, 2]]"
      ]
    },
    {
      "cell_type": "markdown",
      "metadata": {
        "id": "RTIUN_gux-gY"
      },
      "source": [
        "For slicing rows explicitly:"
      ]
    },
    {
      "cell_type": "code",
      "execution_count": 51,
      "metadata": {
        "id": "5QG1PfAtx_qM"
      },
      "outputs": [
        {
          "data": {
            "text/html": [
              "<div>\n",
              "<style scoped>\n",
              "    .dataframe tbody tr th:only-of-type {\n",
              "        vertical-align: middle;\n",
              "    }\n",
              "\n",
              "    .dataframe tbody tr th {\n",
              "        vertical-align: top;\n",
              "    }\n",
              "\n",
              "    .dataframe thead th {\n",
              "        text-align: right;\n",
              "    }\n",
              "</style>\n",
              "<table border=\"1\" class=\"dataframe\">\n",
              "  <thead>\n",
              "    <tr style=\"text-align: right;\">\n",
              "      <th></th>\n",
              "      <th>A</th>\n",
              "      <th>B</th>\n",
              "      <th>C</th>\n",
              "      <th>D</th>\n",
              "    </tr>\n",
              "  </thead>\n",
              "  <tbody>\n",
              "    <tr>\n",
              "      <th>2013-01-02</th>\n",
              "      <td>-0.518337</td>\n",
              "      <td>0.347907</td>\n",
              "      <td>-0.926087</td>\n",
              "      <td>0.955489</td>\n",
              "    </tr>\n",
              "    <tr>\n",
              "      <th>2013-01-03</th>\n",
              "      <td>1.503177</td>\n",
              "      <td>0.616035</td>\n",
              "      <td>-0.698710</td>\n",
              "      <td>0.791975</td>\n",
              "    </tr>\n",
              "  </tbody>\n",
              "</table>\n",
              "</div>"
            ],
            "text/plain": [
              "                   A         B         C         D\n",
              "2013-01-02 -0.518337  0.347907 -0.926087  0.955489\n",
              "2013-01-03  1.503177  0.616035 -0.698710  0.791975"
            ]
          },
          "execution_count": 51,
          "metadata": {},
          "output_type": "execute_result"
        }
      ],
      "source": [
        "df.iloc[1:3, :]"
      ]
    },
    {
      "cell_type": "markdown",
      "metadata": {
        "id": "ZnEj3yp8Ubee"
      },
      "source": [
        "For slicing columns explicitly:"
      ]
    },
    {
      "cell_type": "code",
      "execution_count": 52,
      "metadata": {
        "id": "X0dwlXv8Ueu6"
      },
      "outputs": [
        {
          "data": {
            "text/html": [
              "<div>\n",
              "<style scoped>\n",
              "    .dataframe tbody tr th:only-of-type {\n",
              "        vertical-align: middle;\n",
              "    }\n",
              "\n",
              "    .dataframe tbody tr th {\n",
              "        vertical-align: top;\n",
              "    }\n",
              "\n",
              "    .dataframe thead th {\n",
              "        text-align: right;\n",
              "    }\n",
              "</style>\n",
              "<table border=\"1\" class=\"dataframe\">\n",
              "  <thead>\n",
              "    <tr style=\"text-align: right;\">\n",
              "      <th></th>\n",
              "      <th>B</th>\n",
              "      <th>C</th>\n",
              "    </tr>\n",
              "  </thead>\n",
              "  <tbody>\n",
              "    <tr>\n",
              "      <th>2013-01-01</th>\n",
              "      <td>1.329344</td>\n",
              "      <td>0.471810</td>\n",
              "    </tr>\n",
              "    <tr>\n",
              "      <th>2013-01-02</th>\n",
              "      <td>0.347907</td>\n",
              "      <td>-0.926087</td>\n",
              "    </tr>\n",
              "    <tr>\n",
              "      <th>2013-01-03</th>\n",
              "      <td>0.616035</td>\n",
              "      <td>-0.698710</td>\n",
              "    </tr>\n",
              "    <tr>\n",
              "      <th>2013-01-04</th>\n",
              "      <td>0.586334</td>\n",
              "      <td>-0.789059</td>\n",
              "    </tr>\n",
              "    <tr>\n",
              "      <th>2013-01-05</th>\n",
              "      <td>-0.346639</td>\n",
              "      <td>0.871194</td>\n",
              "    </tr>\n",
              "    <tr>\n",
              "      <th>2013-01-06</th>\n",
              "      <td>-0.293618</td>\n",
              "      <td>-0.795951</td>\n",
              "    </tr>\n",
              "  </tbody>\n",
              "</table>\n",
              "</div>"
            ],
            "text/plain": [
              "                   B         C\n",
              "2013-01-01  1.329344  0.471810\n",
              "2013-01-02  0.347907 -0.926087\n",
              "2013-01-03  0.616035 -0.698710\n",
              "2013-01-04  0.586334 -0.789059\n",
              "2013-01-05 -0.346639  0.871194\n",
              "2013-01-06 -0.293618 -0.795951"
            ]
          },
          "execution_count": 52,
          "metadata": {},
          "output_type": "execute_result"
        }
      ],
      "source": [
        "df.iloc[:, 1:3]"
      ]
    },
    {
      "cell_type": "markdown",
      "metadata": {
        "id": "v0_mMB9JyLHz"
      },
      "source": [
        "For getting a value explicitly:"
      ]
    },
    {
      "cell_type": "code",
      "execution_count": 53,
      "metadata": {
        "id": "N0xKCDVqyMNN"
      },
      "outputs": [
        {
          "data": {
            "text/plain": [
              "0.3479072318062564"
            ]
          },
          "execution_count": 53,
          "metadata": {},
          "output_type": "execute_result"
        }
      ],
      "source": [
        "df.iloc[1, 1]"
      ]
    },
    {
      "cell_type": "markdown",
      "metadata": {
        "id": "3573ukuCyPsE"
      },
      "source": [
        "For getting fast access to a scalar (equivalent to the prior method):"
      ]
    },
    {
      "cell_type": "code",
      "execution_count": 54,
      "metadata": {
        "id": "MpOU3fKPyTzv"
      },
      "outputs": [
        {
          "data": {
            "text/plain": [
              "0.3479072318062564"
            ]
          },
          "execution_count": 54,
          "metadata": {},
          "output_type": "execute_result"
        }
      ],
      "source": [
        "df.iat[1, 1]"
      ]
    },
    {
      "cell_type": "markdown",
      "metadata": {
        "id": "GNNsfCebUoBI"
      },
      "source": [
        "### Boolean indexing"
      ]
    },
    {
      "cell_type": "markdown",
      "metadata": {
        "id": "SgC1QGqrUvPf"
      },
      "source": [
        "Using a single column’s values to select data:"
      ]
    },
    {
      "cell_type": "code",
      "execution_count": 57,
      "metadata": {},
      "outputs": [
        {
          "data": {
            "text/html": [
              "<div>\n",
              "<style scoped>\n",
              "    .dataframe tbody tr th:only-of-type {\n",
              "        vertical-align: middle;\n",
              "    }\n",
              "\n",
              "    .dataframe tbody tr th {\n",
              "        vertical-align: top;\n",
              "    }\n",
              "\n",
              "    .dataframe thead th {\n",
              "        text-align: right;\n",
              "    }\n",
              "</style>\n",
              "<table border=\"1\" class=\"dataframe\">\n",
              "  <thead>\n",
              "    <tr style=\"text-align: right;\">\n",
              "      <th></th>\n",
              "      <th>A</th>\n",
              "      <th>B</th>\n",
              "      <th>C</th>\n",
              "      <th>D</th>\n",
              "    </tr>\n",
              "  </thead>\n",
              "  <tbody>\n",
              "    <tr>\n",
              "      <th>2013-01-01</th>\n",
              "      <td>0.321983</td>\n",
              "      <td>1.329344</td>\n",
              "      <td>0.471810</td>\n",
              "      <td>0.735881</td>\n",
              "    </tr>\n",
              "    <tr>\n",
              "      <th>2013-01-02</th>\n",
              "      <td>-0.518337</td>\n",
              "      <td>0.347907</td>\n",
              "      <td>-0.926087</td>\n",
              "      <td>0.955489</td>\n",
              "    </tr>\n",
              "    <tr>\n",
              "      <th>2013-01-03</th>\n",
              "      <td>1.503177</td>\n",
              "      <td>0.616035</td>\n",
              "      <td>-0.698710</td>\n",
              "      <td>0.791975</td>\n",
              "    </tr>\n",
              "    <tr>\n",
              "      <th>2013-01-04</th>\n",
              "      <td>1.493350</td>\n",
              "      <td>0.586334</td>\n",
              "      <td>-0.789059</td>\n",
              "      <td>-0.006325</td>\n",
              "    </tr>\n",
              "    <tr>\n",
              "      <th>2013-01-05</th>\n",
              "      <td>1.828942</td>\n",
              "      <td>-0.346639</td>\n",
              "      <td>0.871194</td>\n",
              "      <td>-0.821000</td>\n",
              "    </tr>\n",
              "    <tr>\n",
              "      <th>2013-01-06</th>\n",
              "      <td>-0.395603</td>\n",
              "      <td>-0.293618</td>\n",
              "      <td>-0.795951</td>\n",
              "      <td>0.279765</td>\n",
              "    </tr>\n",
              "  </tbody>\n",
              "</table>\n",
              "</div>"
            ],
            "text/plain": [
              "                   A         B         C         D\n",
              "2013-01-01  0.321983  1.329344  0.471810  0.735881\n",
              "2013-01-02 -0.518337  0.347907 -0.926087  0.955489\n",
              "2013-01-03  1.503177  0.616035 -0.698710  0.791975\n",
              "2013-01-04  1.493350  0.586334 -0.789059 -0.006325\n",
              "2013-01-05  1.828942 -0.346639  0.871194 -0.821000\n",
              "2013-01-06 -0.395603 -0.293618 -0.795951  0.279765"
            ]
          },
          "execution_count": 57,
          "metadata": {},
          "output_type": "execute_result"
        }
      ],
      "source": [
        "df"
      ]
    },
    {
      "cell_type": "code",
      "execution_count": 55,
      "metadata": {
        "id": "vMxGqWCFUrEL"
      },
      "outputs": [
        {
          "data": {
            "text/html": [
              "<div>\n",
              "<style scoped>\n",
              "    .dataframe tbody tr th:only-of-type {\n",
              "        vertical-align: middle;\n",
              "    }\n",
              "\n",
              "    .dataframe tbody tr th {\n",
              "        vertical-align: top;\n",
              "    }\n",
              "\n",
              "    .dataframe thead th {\n",
              "        text-align: right;\n",
              "    }\n",
              "</style>\n",
              "<table border=\"1\" class=\"dataframe\">\n",
              "  <thead>\n",
              "    <tr style=\"text-align: right;\">\n",
              "      <th></th>\n",
              "      <th>A</th>\n",
              "      <th>B</th>\n",
              "      <th>C</th>\n",
              "      <th>D</th>\n",
              "    </tr>\n",
              "  </thead>\n",
              "  <tbody>\n",
              "    <tr>\n",
              "      <th>2013-01-01</th>\n",
              "      <td>0.321983</td>\n",
              "      <td>1.329344</td>\n",
              "      <td>0.471810</td>\n",
              "      <td>0.735881</td>\n",
              "    </tr>\n",
              "    <tr>\n",
              "      <th>2013-01-03</th>\n",
              "      <td>1.503177</td>\n",
              "      <td>0.616035</td>\n",
              "      <td>-0.698710</td>\n",
              "      <td>0.791975</td>\n",
              "    </tr>\n",
              "    <tr>\n",
              "      <th>2013-01-04</th>\n",
              "      <td>1.493350</td>\n",
              "      <td>0.586334</td>\n",
              "      <td>-0.789059</td>\n",
              "      <td>-0.006325</td>\n",
              "    </tr>\n",
              "    <tr>\n",
              "      <th>2013-01-05</th>\n",
              "      <td>1.828942</td>\n",
              "      <td>-0.346639</td>\n",
              "      <td>0.871194</td>\n",
              "      <td>-0.821000</td>\n",
              "    </tr>\n",
              "  </tbody>\n",
              "</table>\n",
              "</div>"
            ],
            "text/plain": [
              "                   A         B         C         D\n",
              "2013-01-01  0.321983  1.329344  0.471810  0.735881\n",
              "2013-01-03  1.503177  0.616035 -0.698710  0.791975\n",
              "2013-01-04  1.493350  0.586334 -0.789059 -0.006325\n",
              "2013-01-05  1.828942 -0.346639  0.871194 -0.821000"
            ]
          },
          "execution_count": 55,
          "metadata": {},
          "output_type": "execute_result"
        }
      ],
      "source": [
        "df[df[\"A\"] > 0]\n",
        "\n",
        "# boolean indexing! really cool! \n",
        "# spit out everything where the value in column A > 0 \n",
        "\n",
        "# returns a boolean series whether each value in column A > 0 \n",
        "# df is filtered to only include rows where column A > 0 is True\n"
      ]
    },
    {
      "cell_type": "markdown",
      "metadata": {
        "id": "Vte681GdU74h"
      },
      "source": [
        "Selecting values from a DataFrame where a boolean condition is met:"
      ]
    },
    {
      "cell_type": "code",
      "execution_count": null,
      "metadata": {
        "id": "yWYaeqxPVA4f"
      },
      "outputs": [
        {
          "data": {
            "text/html": [
              "<div>\n",
              "<style scoped>\n",
              "    .dataframe tbody tr th:only-of-type {\n",
              "        vertical-align: middle;\n",
              "    }\n",
              "\n",
              "    .dataframe tbody tr th {\n",
              "        vertical-align: top;\n",
              "    }\n",
              "\n",
              "    .dataframe thead th {\n",
              "        text-align: right;\n",
              "    }\n",
              "</style>\n",
              "<table border=\"1\" class=\"dataframe\">\n",
              "  <thead>\n",
              "    <tr style=\"text-align: right;\">\n",
              "      <th></th>\n",
              "      <th>A</th>\n",
              "      <th>B</th>\n",
              "      <th>C</th>\n",
              "      <th>D</th>\n",
              "    </tr>\n",
              "  </thead>\n",
              "  <tbody>\n",
              "    <tr>\n",
              "      <th>2013-01-01</th>\n",
              "      <td>0.321983</td>\n",
              "      <td>1.329344</td>\n",
              "      <td>0.471810</td>\n",
              "      <td>0.735881</td>\n",
              "    </tr>\n",
              "    <tr>\n",
              "      <th>2013-01-02</th>\n",
              "      <td>NaN</td>\n",
              "      <td>0.347907</td>\n",
              "      <td>NaN</td>\n",
              "      <td>0.955489</td>\n",
              "    </tr>\n",
              "    <tr>\n",
              "      <th>2013-01-03</th>\n",
              "      <td>1.503177</td>\n",
              "      <td>0.616035</td>\n",
              "      <td>NaN</td>\n",
              "      <td>0.791975</td>\n",
              "    </tr>\n",
              "    <tr>\n",
              "      <th>2013-01-04</th>\n",
              "      <td>1.493350</td>\n",
              "      <td>0.586334</td>\n",
              "      <td>NaN</td>\n",
              "      <td>NaN</td>\n",
              "    </tr>\n",
              "    <tr>\n",
              "      <th>2013-01-05</th>\n",
              "      <td>1.828942</td>\n",
              "      <td>NaN</td>\n",
              "      <td>0.871194</td>\n",
              "      <td>NaN</td>\n",
              "    </tr>\n",
              "    <tr>\n",
              "      <th>2013-01-06</th>\n",
              "      <td>NaN</td>\n",
              "      <td>NaN</td>\n",
              "      <td>NaN</td>\n",
              "      <td>0.279765</td>\n",
              "    </tr>\n",
              "  </tbody>\n",
              "</table>\n",
              "</div>"
            ],
            "text/plain": [
              "                   A         B         C         D\n",
              "2013-01-01  0.321983  1.329344  0.471810  0.735881\n",
              "2013-01-02       NaN  0.347907       NaN  0.955489\n",
              "2013-01-03  1.503177  0.616035       NaN  0.791975\n",
              "2013-01-04  1.493350  0.586334       NaN       NaN\n",
              "2013-01-05  1.828942       NaN  0.871194       NaN\n",
              "2013-01-06       NaN       NaN       NaN  0.279765"
            ]
          },
          "execution_count": 58,
          "metadata": {},
          "output_type": "execute_result"
        }
      ],
      "source": [
        "df[df > 0]\n",
        "\n",
        "# returns a df of the same shape\n",
        "# replaces values that don't meet conditions with NaN\n",
        "# no filtering\n"
      ]
    },
    {
      "cell_type": "markdown",
      "metadata": {
        "id": "XKS627_JVFsz"
      },
      "source": [
        "Using the <a target=\"_blank\" href=\"https://pandas.pydata.org/docs/reference/api/pandas.Series.isin.html#pandas.Series.isin\">`isin()`</a> method for filtering:"
      ]
    },
    {
      "cell_type": "code",
      "execution_count": 59,
      "metadata": {
        "id": "z6LLiBzqy1cz"
      },
      "outputs": [
        {
          "data": {
            "text/html": [
              "<div>\n",
              "<style scoped>\n",
              "    .dataframe tbody tr th:only-of-type {\n",
              "        vertical-align: middle;\n",
              "    }\n",
              "\n",
              "    .dataframe tbody tr th {\n",
              "        vertical-align: top;\n",
              "    }\n",
              "\n",
              "    .dataframe thead th {\n",
              "        text-align: right;\n",
              "    }\n",
              "</style>\n",
              "<table border=\"1\" class=\"dataframe\">\n",
              "  <thead>\n",
              "    <tr style=\"text-align: right;\">\n",
              "      <th></th>\n",
              "      <th>A</th>\n",
              "      <th>B</th>\n",
              "      <th>C</th>\n",
              "      <th>D</th>\n",
              "      <th>E</th>\n",
              "    </tr>\n",
              "  </thead>\n",
              "  <tbody>\n",
              "    <tr>\n",
              "      <th>2013-01-01</th>\n",
              "      <td>0.321983</td>\n",
              "      <td>1.329344</td>\n",
              "      <td>0.471810</td>\n",
              "      <td>0.735881</td>\n",
              "      <td>one</td>\n",
              "    </tr>\n",
              "    <tr>\n",
              "      <th>2013-01-02</th>\n",
              "      <td>-0.518337</td>\n",
              "      <td>0.347907</td>\n",
              "      <td>-0.926087</td>\n",
              "      <td>0.955489</td>\n",
              "      <td>one</td>\n",
              "    </tr>\n",
              "    <tr>\n",
              "      <th>2013-01-03</th>\n",
              "      <td>1.503177</td>\n",
              "      <td>0.616035</td>\n",
              "      <td>-0.698710</td>\n",
              "      <td>0.791975</td>\n",
              "      <td>two</td>\n",
              "    </tr>\n",
              "    <tr>\n",
              "      <th>2013-01-04</th>\n",
              "      <td>1.493350</td>\n",
              "      <td>0.586334</td>\n",
              "      <td>-0.789059</td>\n",
              "      <td>-0.006325</td>\n",
              "      <td>three</td>\n",
              "    </tr>\n",
              "    <tr>\n",
              "      <th>2013-01-05</th>\n",
              "      <td>1.828942</td>\n",
              "      <td>-0.346639</td>\n",
              "      <td>0.871194</td>\n",
              "      <td>-0.821000</td>\n",
              "      <td>four</td>\n",
              "    </tr>\n",
              "    <tr>\n",
              "      <th>2013-01-06</th>\n",
              "      <td>-0.395603</td>\n",
              "      <td>-0.293618</td>\n",
              "      <td>-0.795951</td>\n",
              "      <td>0.279765</td>\n",
              "      <td>three</td>\n",
              "    </tr>\n",
              "  </tbody>\n",
              "</table>\n",
              "</div>"
            ],
            "text/plain": [
              "                   A         B         C         D      E\n",
              "2013-01-01  0.321983  1.329344  0.471810  0.735881    one\n",
              "2013-01-02 -0.518337  0.347907 -0.926087  0.955489    one\n",
              "2013-01-03  1.503177  0.616035 -0.698710  0.791975    two\n",
              "2013-01-04  1.493350  0.586334 -0.789059 -0.006325  three\n",
              "2013-01-05  1.828942 -0.346639  0.871194 -0.821000   four\n",
              "2013-01-06 -0.395603 -0.293618 -0.795951  0.279765  three"
            ]
          },
          "execution_count": 59,
          "metadata": {},
          "output_type": "execute_result"
        }
      ],
      "source": [
        "df2 = df.copy()\n",
        "df2[\"E\"] = [\"one\", \"one\", \"two\", \"three\", \"four\", \"three\"]\n",
        "df2"
      ]
    },
    {
      "cell_type": "code",
      "execution_count": 60,
      "metadata": {
        "id": "6mRROJr9zCDv"
      },
      "outputs": [
        {
          "data": {
            "text/html": [
              "<div>\n",
              "<style scoped>\n",
              "    .dataframe tbody tr th:only-of-type {\n",
              "        vertical-align: middle;\n",
              "    }\n",
              "\n",
              "    .dataframe tbody tr th {\n",
              "        vertical-align: top;\n",
              "    }\n",
              "\n",
              "    .dataframe thead th {\n",
              "        text-align: right;\n",
              "    }\n",
              "</style>\n",
              "<table border=\"1\" class=\"dataframe\">\n",
              "  <thead>\n",
              "    <tr style=\"text-align: right;\">\n",
              "      <th></th>\n",
              "      <th>A</th>\n",
              "      <th>B</th>\n",
              "      <th>C</th>\n",
              "      <th>D</th>\n",
              "      <th>E</th>\n",
              "    </tr>\n",
              "  </thead>\n",
              "  <tbody>\n",
              "    <tr>\n",
              "      <th>2013-01-03</th>\n",
              "      <td>1.503177</td>\n",
              "      <td>0.616035</td>\n",
              "      <td>-0.698710</td>\n",
              "      <td>0.791975</td>\n",
              "      <td>two</td>\n",
              "    </tr>\n",
              "    <tr>\n",
              "      <th>2013-01-05</th>\n",
              "      <td>1.828942</td>\n",
              "      <td>-0.346639</td>\n",
              "      <td>0.871194</td>\n",
              "      <td>-0.821000</td>\n",
              "      <td>four</td>\n",
              "    </tr>\n",
              "  </tbody>\n",
              "</table>\n",
              "</div>"
            ],
            "text/plain": [
              "                   A         B         C         D     E\n",
              "2013-01-03  1.503177  0.616035 -0.698710  0.791975   two\n",
              "2013-01-05  1.828942 -0.346639  0.871194 -0.821000  four"
            ]
          },
          "execution_count": 60,
          "metadata": {},
          "output_type": "execute_result"
        }
      ],
      "source": [
        "df2[df2[\"E\"].isin([\"two\", \"four\"])]\n",
        "\n",
        "# checks to see if \"two\" and \"four\" are in df2[\"E\"] column"
      ]
    },
    {
      "cell_type": "markdown",
      "metadata": {
        "id": "nYpC6VW9zOw8"
      },
      "source": [
        "### Setting"
      ]
    },
    {
      "cell_type": "markdown",
      "metadata": {
        "id": "BmB-kHWCzP4r"
      },
      "source": [
        "Setting a new column automatically aligns the data by the indexes:"
      ]
    },
    {
      "cell_type": "code",
      "execution_count": null,
      "metadata": {
        "id": "JtRM1lKjzXC6"
      },
      "outputs": [],
      "source": [
        "s1 = pd.Series([1, 2, 3, 4, 5, 6], index=pd.date_range(\"20130102\", periods=6))\n",
        "s1"
      ]
    },
    {
      "cell_type": "code",
      "execution_count": null,
      "metadata": {
        "id": "_p1dI4f4zebk"
      },
      "outputs": [],
      "source": [
        "df[\"F\"] = s1"
      ]
    },
    {
      "cell_type": "markdown",
      "metadata": {
        "id": "2XvBpwSUzkIX"
      },
      "source": [
        "Setting values by label:"
      ]
    },
    {
      "cell_type": "code",
      "execution_count": null,
      "metadata": {
        "id": "yiZSgu-wziEv"
      },
      "outputs": [],
      "source": [
        "df.at[dates[0], \"A\"] = 0"
      ]
    },
    {
      "cell_type": "markdown",
      "metadata": {
        "id": "owxsv0CfzrRJ"
      },
      "source": [
        "Setting values by position:"
      ]
    },
    {
      "cell_type": "code",
      "execution_count": null,
      "metadata": {
        "id": "cqUU_vA2ztl_"
      },
      "outputs": [],
      "source": [
        "df.iat[0, 1] = 0"
      ]
    },
    {
      "cell_type": "markdown",
      "metadata": {
        "id": "LzqB_Vdkzxu3"
      },
      "source": [
        "Setting by assigning with a NumPy array:"
      ]
    },
    {
      "cell_type": "code",
      "execution_count": null,
      "metadata": {
        "id": "LC79kyj5z0Ho"
      },
      "outputs": [],
      "source": [
        "df.loc[:, \"D\"] = np.array([5] * len(df))"
      ]
    },
    {
      "cell_type": "markdown",
      "metadata": {
        "id": "Ns0SHn9Nz6qD"
      },
      "source": [
        "The result of the prior setting operations:"
      ]
    },
    {
      "cell_type": "code",
      "execution_count": null,
      "metadata": {
        "id": "J5VHRC-bz7uV"
      },
      "outputs": [],
      "source": [
        "df"
      ]
    },
    {
      "cell_type": "markdown",
      "metadata": {
        "id": "3Q1mC2Ef0LuW"
      },
      "source": [
        "A `where` operation with setting:"
      ]
    },
    {
      "cell_type": "code",
      "execution_count": null,
      "metadata": {
        "id": "CxqdBrMQ0Nv8"
      },
      "outputs": [],
      "source": [
        "df2 = df.copy()\n",
        "df2[df2 > 0] = -df2\n",
        "df2"
      ]
    },
    {
      "cell_type": "markdown",
      "metadata": {
        "id": "gK1cCWRpjEUF"
      },
      "source": [
        "#### 👉 Save your work here\n",
        "\n",
        "\n"
      ]
    },
    {
      "cell_type": "markdown",
      "metadata": {
        "id": "3xmyEmelV1nH"
      },
      "source": [
        "## Missing data"
      ]
    },
    {
      "cell_type": "markdown",
      "metadata": {
        "id": "RSc_kaYvWPGc"
      },
      "source": [
        "pandas primarily uses the `np.nan` to represent missing data. It is by default not included in computations. See the [Missing Data](https://pandas.pydata.org/docs/user_guide/missing_data.html#missing-data) section.\n",
        "\n",
        "Reindexing allows you to change/add/delete the index on a specified axis. This returns a copy of the data:"
      ]
    },
    {
      "cell_type": "code",
      "execution_count": null,
      "metadata": {
        "id": "7cMJ8FInWfuP"
      },
      "outputs": [],
      "source": [
        "df1 = df.reindex(index = dates[0:4], columns = list(df.columns) + ['E'])\n",
        "df1.loc[dates[0] : dates[1], 'E'] = 1\n",
        "df1"
      ]
    },
    {
      "cell_type": "markdown",
      "metadata": {
        "id": "5hv9ar5HW7P3"
      },
      "source": [
        "[`DataFrame.dropna()`](https://pandas.pydata.org/docs/reference/api/pandas.DataFrame.dropna.html#pandas.DataFrame.dropna) drops any rows that have missing data:\n",
        "\n"
      ]
    },
    {
      "cell_type": "code",
      "execution_count": null,
      "metadata": {
        "id": "2GIPHtCNW-Dw"
      },
      "outputs": [],
      "source": [
        "df1.dropna(how='any')"
      ]
    },
    {
      "cell_type": "markdown",
      "metadata": {
        "id": "ngkcJsvTXF_9"
      },
      "source": [
        "[`DataFrame.fillna()`](https://pandas.pydata.org/docs/reference/api/pandas.DataFrame.fillna.html#pandas.DataFrame.fillna) fills missing data:"
      ]
    },
    {
      "cell_type": "code",
      "execution_count": null,
      "metadata": {
        "id": "vQCm-C51XIW-"
      },
      "outputs": [],
      "source": [
        "df1.fillna(value=5)"
      ]
    },
    {
      "cell_type": "markdown",
      "metadata": {
        "id": "FQZ6G8GAXQcE"
      },
      "source": [
        "[`isna()`](https://pandas.pydata.org/docs/reference/api/pandas.isna.html#pandas.isna) gets the boolean mask where values are `nan`:"
      ]
    },
    {
      "cell_type": "code",
      "execution_count": null,
      "metadata": {
        "id": "IQHuiz0kEbGi"
      },
      "outputs": [],
      "source": [
        "pd.isna(df)"
      ]
    },
    {
      "cell_type": "markdown",
      "metadata": {
        "id": "HCcnDOKXE9gb"
      },
      "source": [
        "## Operations\n",
        "\n",
        "See the [Basic section on Binary Ops](https://pandas.pydata.org/docs/user_guide/basics.html#basics-binop)."
      ]
    },
    {
      "cell_type": "markdown",
      "metadata": {
        "id": "vXKB0vzdFAI5"
      },
      "source": [
        "### Stats\n",
        "\n",
        "Operations in general *exclude* missing data.\n",
        "\n",
        "Performing a descriptive statistic:\n"
      ]
    },
    {
      "cell_type": "code",
      "execution_count": null,
      "metadata": {
        "id": "mwEuBkOuFDp5"
      },
      "outputs": [],
      "source": [
        "df.mean()"
      ]
    },
    {
      "cell_type": "markdown",
      "metadata": {
        "id": "O7ZkugS1FGnX"
      },
      "source": [
        "Same operation on the other axis:"
      ]
    },
    {
      "cell_type": "code",
      "execution_count": null,
      "metadata": {
        "id": "t_sWapEvFFwe"
      },
      "outputs": [],
      "source": [
        "df.mean(1)"
      ]
    },
    {
      "cell_type": "markdown",
      "metadata": {
        "id": "ElJJ2BikFTMo"
      },
      "source": [
        "Operating with objects that have different dimensionality and need alignment. In addition, pandas automatically\n",
        "broadcasts along the specified dimension"
      ]
    },
    {
      "cell_type": "code",
      "execution_count": null,
      "metadata": {
        "id": "cdahzzBWFTym"
      },
      "outputs": [],
      "source": [
        "s = pd.Series([1, 3, 5, np.nan, 6, 8], index = dates).shift(2)\n",
        "s"
      ]
    },
    {
      "cell_type": "code",
      "execution_count": null,
      "metadata": {
        "id": "ISLvLvN1F5xs"
      },
      "outputs": [],
      "source": [
        "df.sub(s, axis='index')"
      ]
    },
    {
      "cell_type": "markdown",
      "metadata": {
        "id": "Q7o2R8QrLKuG"
      },
      "source": [
        "### Apply\n",
        "\n",
        "[`DataFrame.apply()`](https://pandas.pydata.org/docs/reference/api/pandas.DataFrame.apply.html#pandas.DataFrame.apply) applies a user defined function to the data:"
      ]
    },
    {
      "cell_type": "code",
      "execution_count": null,
      "metadata": {
        "id": "aEFEaXMULTf_"
      },
      "outputs": [],
      "source": [
        "df.apply(np.cumsum)"
      ]
    },
    {
      "cell_type": "code",
      "execution_count": null,
      "metadata": {
        "id": "9q03tP3QLXDO"
      },
      "outputs": [],
      "source": [
        "df.apply(lambda x: x.max() - x.min())"
      ]
    },
    {
      "cell_type": "markdown",
      "metadata": {
        "id": "DP5b-E4qLahT"
      },
      "source": [
        "### Histogramming\n",
        "\n",
        "See more at [Histogramming and Discretization](https://pandas.pydata.org/docs/user_guide/basics.html#basics-discretization)."
      ]
    },
    {
      "cell_type": "code",
      "execution_count": null,
      "metadata": {
        "id": "g9Zmh-6ZLlmn"
      },
      "outputs": [],
      "source": [
        "s = pd.Series(np.random.randint(0, 7, size=10))\n",
        "s"
      ]
    },
    {
      "cell_type": "code",
      "execution_count": null,
      "metadata": {
        "id": "6KQ_XLUtLsFz"
      },
      "outputs": [],
      "source": [
        "s.value_counts()"
      ]
    },
    {
      "cell_type": "markdown",
      "metadata": {
        "id": "_eNG0cphLtfN"
      },
      "source": [
        "### String Methods\n",
        "\n",
        "Series is equipped with a set of string processing methods in the `str` attribute that make it easy to operate on each element of the array, as in the code snippet below. Note that pattern-matching in `str` generally uses [regular expressions](https://docs.python.org/3/library/re.html) by default (and in some cases always uses them). See more at [Vectorized String Methods](https://pandas.pydata.org/docs/user_guide/text.html#text-string-methods)."
      ]
    },
    {
      "cell_type": "code",
      "execution_count": null,
      "metadata": {
        "id": "ci--jcmwL_na"
      },
      "outputs": [],
      "source": [
        "s = pd.Series([\"A\", \"B\", \"C\", \"Aaba\", \"Baca\", np.nan, \"CABA\", \"dog\", \"cat\"])\n",
        "s.str.lower()"
      ]
    },
    {
      "cell_type": "markdown",
      "metadata": {
        "id": "teJXYw34jHAW"
      },
      "source": [
        "#### 👉 Save your work here\n",
        "\n",
        "\n"
      ]
    },
    {
      "cell_type": "markdown",
      "metadata": {
        "id": "nuPJ-c8p921j"
      },
      "source": [
        "## Merge"
      ]
    },
    {
      "cell_type": "markdown",
      "metadata": {
        "id": "kbKhn8BC995O"
      },
      "source": [
        "### Concat\n",
        "\n",
        "pandas provides various facilities for easily combining together Series and DataFrame objects with various kinds of set logic for the indexes and relational algebra functionality in the case of join / merge-type operations.\n",
        "\n",
        "See the [Merging section](https://pandas.pydata.org/docs/user_guide/merging.html#merging).\n",
        "\n",
        "Concatenating pandas objects together along an axis with [`concat()`](https://pandas.pydata.org/docs/reference/api/pandas.concat.html#pandas.concat):"
      ]
    },
    {
      "cell_type": "code",
      "execution_count": null,
      "metadata": {
        "id": "oldvT8Wb-ari"
      },
      "outputs": [],
      "source": [
        "df = pd.DataFrame(np.random.randn(10, 4))\n",
        "df"
      ]
    },
    {
      "cell_type": "code",
      "execution_count": null,
      "metadata": {
        "id": "0qLkrJ8vARaE"
      },
      "outputs": [],
      "source": [
        "# break it onto pieces\n",
        "pieces = [df[:3], df[3:7], df[7:]]\n",
        "\n",
        "pd.concat(pieces)"
      ]
    },
    {
      "cell_type": "markdown",
      "metadata": {
        "id": "iZ0Ll-LPbd3W"
      },
      "source": [
        "NOTE: Adding a column to a [`DataFrame`](https://pandas.pydata.org/docs/reference/api/pandas.DataFrame.html#pandas.DataFrame) is relatively fast. However, adding a row requires a copy, and may be expensive. We recommend passing a pre-built list of records to the [`DataFrame`](https://pandas.pydata.org/docs/reference/api/pandas.DataFrame.html#pandas.DataFrame) constructor instead of building a [`DataFrame`](https://pandas.pydata.org/docs/reference/api/pandas.DataFrame.html#pandas.DataFrame) by iteratively appending records to it."
      ]
    },
    {
      "cell_type": "markdown",
      "metadata": {
        "id": "T4Q3Z0_3aAIS"
      },
      "source": [
        "### Join\n",
        "\n",
        "[`merge()`](https://pandas.pydata.org/docs/reference/api/pandas.merge.html#pandas.merge) enables SQL style join types along specific columns. See the [Database style joining](https://pandas.pydata.org/docs/user_guide/merging.html#merging-join) section."
      ]
    },
    {
      "cell_type": "code",
      "execution_count": null,
      "metadata": {
        "id": "CDC3F5KYaS7f"
      },
      "outputs": [],
      "source": [
        "left = pd.DataFrame({\"key\": [\"foo\", \"foo\"], \"lval\": [1, 2]})\n",
        "right = pd.DataFrame({\"key\": [\"foo\", \"foo\"], \"rval\": [4, 5]})\n",
        "print(left)\n",
        "print(right)\n",
        "pd.merge(left, right, on=\"key\")"
      ]
    },
    {
      "cell_type": "markdown",
      "metadata": {
        "id": "TS9OW23pBP2X"
      },
      "source": [
        "Adding a column to a `DataFrame` is relatively fast. However adding a row requires a copy, and may be expensive. It is recorecommended passing a pre-build list of records to the `DataFrame` constructor instead of buildinga `DataFrame` by iteratively appending records to it."
      ]
    },
    {
      "cell_type": "markdown",
      "metadata": {
        "id": "Fy-ys5kea3P1"
      },
      "source": [
        "Another example that can be given is:"
      ]
    },
    {
      "cell_type": "code",
      "execution_count": null,
      "metadata": {
        "id": "EYkJw-ura-GQ"
      },
      "outputs": [],
      "source": [
        "left = pd.DataFrame({\"key\": [\"foo\", \"bar\"], \"lval\": [1, 2]})\n",
        "right = pd.DataFrame({\"key\": [\"foo\", \"bar\"], \"rval\": [4, 5]})\n",
        "print(left)\n",
        "print(right)\n",
        "pd.merge(left, right, on=\"key\")"
      ]
    },
    {
      "cell_type": "markdown",
      "metadata": {
        "id": "11asBbSGjLzB"
      },
      "source": [
        "#### 👉 Save your work here\n",
        "\n",
        "\n"
      ]
    },
    {
      "cell_type": "markdown",
      "metadata": {
        "id": "ulumIOwwD7ea"
      },
      "source": [
        "## Grouping\n",
        "\n",
        "By 'group by' we are referring to a process invloving one or more of the following steps:\n",
        "\n",
        "\n",
        "*   **Splitting** the data into group base on some criteria\n",
        "*   **Applying** a function to each group independently\n",
        "\n",
        "*   **Combining** the results into a data structure\n",
        "\n",
        "See the [Grouping section](https://pandas.pydata.org/docs/user_guide/groupby.html#groupby).\n"
      ]
    },
    {
      "cell_type": "code",
      "execution_count": null,
      "metadata": {
        "id": "VsWP5stGEtjH"
      },
      "outputs": [],
      "source": [
        "df = pd.DataFrame({'A': ['foo', 'bar', 'foo', 'bar',\n",
        "                         'foo', 'bar', 'foo', 'bar'],\n",
        "                   'B': ['one', 'one', 'two', 'three',\n",
        "                         'two', 'two', 'one', 'three'],\n",
        "                   'C': np.random.randn(8),\n",
        "                   'D': np.random.randn(8)})\n",
        "df"
      ]
    },
    {
      "cell_type": "markdown",
      "metadata": {
        "id": "Vi5aIZy_FheS"
      },
      "source": [
        "Grouping and then applying the `sum()` funcion to the resulting group:"
      ]
    },
    {
      "cell_type": "code",
      "execution_count": null,
      "metadata": {
        "id": "M1rPBWjfFnRt"
      },
      "outputs": [],
      "source": [
        "df.groupby('A')[[\"C\", \"D\"]].sum()"
      ]
    },
    {
      "cell_type": "markdown",
      "metadata": {
        "id": "jW8gpuWFGk74"
      },
      "source": [
        "Grouping by multiple columns forms a hierarchical index, and again we can apply the `sum()` function:"
      ]
    },
    {
      "cell_type": "code",
      "execution_count": null,
      "metadata": {
        "id": "af4RVR0xHOS_"
      },
      "outputs": [],
      "source": [
        "df.groupby([\"A\", \"B\"]).sum()"
      ]
    },
    {
      "cell_type": "markdown",
      "metadata": {
        "id": "ZAzp6zt7lvPk"
      },
      "source": [
        "## Reshaping\n",
        "\n",
        "See the sections on [Hierarchical Indexing](https://pandas.pydata.org/docs/user_guide/advanced.html#advanced-hierarchical) and [Reshaping](https://pandas.pydata.org/docs/user_guide/reshaping.html#reshaping-stacking)."
      ]
    },
    {
      "cell_type": "markdown",
      "metadata": {
        "id": "OPgRTWEJmPAZ"
      },
      "source": [
        "### Stack"
      ]
    },
    {
      "cell_type": "code",
      "execution_count": null,
      "metadata": {
        "id": "NG-9iKV7mEJu"
      },
      "outputs": [],
      "source": [
        "tuples = list(\n",
        "    zip(\n",
        "        [\"bar\", \"bar\", \"baz\", \"baz\", \"foo\", \"foo\", \"qux\", \"qux\"],\n",
        "        [\"one\", \"two\", \"one\", \"two\", \"one\", \"two\", \"one\", \"two\"],\n",
        "    )\n",
        ")\n",
        "\n",
        "index = pd.MultiIndex.from_tuples(tuples, names=[\"first\", \"second\"])\n",
        "\n",
        "df = pd.DataFrame(np.random.randn(8, 2), index=index, columns=[\"A\", \"B\"])\n",
        "df2 = df[:4]\n",
        "df2"
      ]
    },
    {
      "cell_type": "markdown",
      "metadata": {
        "id": "aVLdutDGmalo"
      },
      "source": [
        "The [`stack()`](https://pandas.pydata.org/docs/reference/api/pandas.DataFrame.stack.html#pandas.DataFrame.stack) method “compresses” a level in the DataFrame’s columns:\n",
        "\n"
      ]
    },
    {
      "cell_type": "code",
      "execution_count": null,
      "metadata": {
        "id": "2_TTGLgEmkNP"
      },
      "outputs": [],
      "source": [
        "stacked = df2.stack()\n",
        "stacked"
      ]
    },
    {
      "cell_type": "markdown",
      "metadata": {
        "id": "yYUQc9DJmpie"
      },
      "source": [
        "With a “stacked” DataFrame or Series (having a [MultiIndex](https://pandas.pydata.org/docs/reference/api/pandas.MultiIndex.html#pandas.MultiIndex) as the `index`), the inverse operation of [`stack()`](https://pandas.pydata.org/docs/reference/api/pandas.DataFrame.stack.html#pandas.DataFrame.stack) is [`unstack()`](https://pandas.pydata.org/docs/reference/api/pandas.DataFrame.unstack.html#pandas.DataFrame.unstack), which by default unstacks the **last level**:"
      ]
    },
    {
      "cell_type": "code",
      "execution_count": null,
      "metadata": {
        "id": "eWHGOsoQnD3y"
      },
      "outputs": [],
      "source": [
        "stacked.unstack()"
      ]
    },
    {
      "cell_type": "code",
      "execution_count": null,
      "metadata": {
        "id": "cp3U2yHcnIqg"
      },
      "outputs": [],
      "source": [
        "stacked.unstack(1)"
      ]
    },
    {
      "cell_type": "code",
      "execution_count": null,
      "metadata": {
        "id": "kLAp8MuknJgR"
      },
      "outputs": [],
      "source": [
        "stacked.unstack(0)"
      ]
    },
    {
      "cell_type": "markdown",
      "metadata": {
        "id": "YqXELQdHnRmT"
      },
      "source": [
        "### Pivot tables\n",
        "\n",
        "See the section on [Pivot Tables](https://pandas.pydata.org/docs/user_guide/reshaping.html#reshaping-pivot)."
      ]
    },
    {
      "cell_type": "code",
      "execution_count": null,
      "metadata": {
        "id": "e9Z_RKTjnUD_"
      },
      "outputs": [],
      "source": [
        "df = pd.DataFrame(\n",
        "    {\n",
        "        \"A\": [\"one\", \"one\", \"two\", \"three\"] * 3,\n",
        "        \"B\": [\"A\", \"B\", \"C\"] * 4,\n",
        "        \"C\": [\"foo\", \"foo\", \"foo\", \"bar\", \"bar\", \"bar\"] * 2,\n",
        "        \"D\": np.random.randn(12),\n",
        "        \"E\": np.random.randn(12),\n",
        "    }\n",
        ")\n",
        "df"
      ]
    },
    {
      "cell_type": "markdown",
      "metadata": {
        "id": "FO9FwVylniBI"
      },
      "source": [
        "[`pivot_table()`](https://pandas.pydata.org/docs/reference/api/pandas.pivot_table.html#pandas.pivot_table) pivots a [`DataFrame`](https://pandas.pydata.org/docs/reference/api/pandas.DataFrame.html#pandas.DataFrame) specifying the `values`, `index`, and `columns`\n",
        "\n"
      ]
    },
    {
      "cell_type": "code",
      "execution_count": null,
      "metadata": {
        "id": "Zh4MUAFnn2nh"
      },
      "outputs": [],
      "source": [
        "pd.pivot_table(df, values=\"D\", index=[\"A\", \"B\"], columns=[\"C\"])"
      ]
    },
    {
      "cell_type": "markdown",
      "metadata": {
        "id": "V8SXV1mMjPyH"
      },
      "source": [
        "#### 👉 Save your work here\n",
        "\n",
        "\n"
      ]
    },
    {
      "cell_type": "markdown",
      "metadata": {
        "id": "e15ssNmI3sCk"
      },
      "source": [
        "## Time series\n",
        "\n",
        "pandas has simple, powerful, and efficient functionality for performing resampling operations during frequency conversion (e.g., converting secondly data into 5-minutely data). This is extremely common in, but not limited to, financial applications. See the [Time Series](https://pandas.pydata.org/docs/user_guide/timeseries.html#timeseries) section."
      ]
    },
    {
      "cell_type": "code",
      "execution_count": null,
      "metadata": {
        "id": "WojUs_8b4EYY"
      },
      "outputs": [],
      "source": [
        "rng = pd.date_range(\"1/1/2012\", periods=100, freq=\"S\")\n",
        "ts = pd.Series(np.random.randint(0, 500, len(rng)), index=rng)\n",
        "ts.resample(\"5Min\").sum()"
      ]
    },
    {
      "cell_type": "markdown",
      "metadata": {
        "id": "Hxwdchsp4RjK"
      },
      "source": [
        "[`Series.tz_localize()`](https://pandas.pydata.org/docs/reference/api/pandas.Series.tz_localize.html#pandas.Series.tz_localize) localizes a time series to a time zone:"
      ]
    },
    {
      "cell_type": "code",
      "execution_count": null,
      "metadata": {
        "id": "cHJ75aBT4Ysr"
      },
      "outputs": [],
      "source": [
        "rng = pd.date_range(\"3/6/2012 00:00\", periods=5, freq=\"D\")\n",
        "ts = pd.Series(np.random.randn(len(rng)), rng)\n",
        "print(ts, \"\\n\")\n",
        "ts_utc = ts.tz_localize(\"UTC\")\n",
        "ts_utc"
      ]
    },
    {
      "cell_type": "markdown",
      "metadata": {
        "id": "gD455NQT4z1S"
      },
      "source": [
        "Converting between time span representations:"
      ]
    },
    {
      "cell_type": "code",
      "execution_count": null,
      "metadata": {
        "id": "6ByC55m441XE"
      },
      "outputs": [],
      "source": [
        "rng = pd.date_range(\"1/1/2012\", periods=5, freq=\"M\")\n",
        "ts = pd.Series(np.random.randn(len(rng)), index=rng)\n",
        "ps = ts.to_period()\n",
        "ps"
      ]
    },
    {
      "cell_type": "code",
      "execution_count": null,
      "metadata": {
        "id": "Cj1T_ySB4_zH"
      },
      "outputs": [],
      "source": [
        "ps.to_timestamp()"
      ]
    },
    {
      "cell_type": "markdown",
      "metadata": {
        "id": "XnWJymgk5I20"
      },
      "source": [
        "Converting between period and timestamp enables some convenient arithmetic functions to be used. In the following example, we convert a quarterly frequency with year ending in November to 9am of the end of the month following the quarter end:"
      ]
    },
    {
      "cell_type": "code",
      "execution_count": null,
      "metadata": {
        "id": "6NpIopTU5KNQ"
      },
      "outputs": [],
      "source": [
        "prng = pd.period_range(\"1990Q1\", \"2000Q4\", freq=\"Q-NOV\")\n",
        "ts = pd.Series(np.random.randn(len(prng)), prng)\n",
        "ts.index = (prng.asfreq(\"M\", \"e\") + 1).asfreq(\"H\", \"s\") + 9\n",
        "ts.head()"
      ]
    },
    {
      "cell_type": "markdown",
      "metadata": {
        "id": "JNLZHB6f5ZUq"
      },
      "source": [
        "## Categoricals\n",
        "\n",
        "pandas can include categorical data in a [`DataFrame`](https://pandas.pydata.org/docs/reference/api/pandas.DataFrame.html#pandas.DataFrame). For full docs, see the [categorical introduction](https://pandas.pydata.org/docs/user_guide/categorical.html#categorical) and the [API documentation](https://pandas.pydata.org/docs/reference/arrays.html#api-arrays-categorical)."
      ]
    },
    {
      "cell_type": "code",
      "execution_count": null,
      "metadata": {
        "id": "mApkNjzF5sRk"
      },
      "outputs": [],
      "source": [
        "df = pd.DataFrame(\n",
        "    {\"id\": [1, 2, 3, 4, 5, 6], \"raw_grade\": [\"a\", \"b\", \"b\", \"a\", \"a\", \"e\"]}\n",
        ")\n",
        "df"
      ]
    },
    {
      "cell_type": "markdown",
      "metadata": {
        "id": "W2RiXZoD59be"
      },
      "source": [
        "Converting the raw grades to a categorical data type:"
      ]
    },
    {
      "cell_type": "code",
      "execution_count": null,
      "metadata": {
        "id": "Lkam_pMR6DJP"
      },
      "outputs": [],
      "source": [
        "df[\"grade\"] = df[\"raw_grade\"].astype(\"category\")\n",
        "df[\"grade\"]"
      ]
    },
    {
      "cell_type": "markdown",
      "metadata": {
        "id": "UrkfwFMH6LkM"
      },
      "source": [
        "Rename the categories to more meaningful names:"
      ]
    },
    {
      "cell_type": "code",
      "execution_count": null,
      "metadata": {
        "id": "xLrZuwAh6ObR"
      },
      "outputs": [],
      "source": [
        "new_categories = [\"very good\", \"good\", \"very bad\"]\n",
        "df[\"grade\"] = df[\"grade\"].cat.rename_categories(new_categories)\n",
        "df"
      ]
    },
    {
      "cell_type": "markdown",
      "metadata": {
        "id": "OvX2V0zH6VPw"
      },
      "source": [
        "Reorder the categories and simultaneously add the missing categories (methods under [`Series.cat()`](https://pandas.pydata.org/docs/reference/api/pandas.Series.cat.html#pandas.Series.cat) return a new [`Series`](https://pandas.pydata.org/docs/reference/api/pandas.Series.html#pandas.Series) by default):"
      ]
    },
    {
      "cell_type": "code",
      "execution_count": null,
      "metadata": {
        "id": "NDbg7qXA6osC"
      },
      "outputs": [],
      "source": [
        "df[\"grade\"] = df[\"grade\"].cat.set_categories(\n",
        "    [\"very bad\", \"bad\", \"medium\", \"good\", \"very good\"]\n",
        ")\n",
        "df[\"grade\"]"
      ]
    },
    {
      "cell_type": "markdown",
      "metadata": {
        "id": "E3TJfoED6xBx"
      },
      "source": [
        "Sorting is per order in the categories, not lexical order:"
      ]
    },
    {
      "cell_type": "code",
      "execution_count": null,
      "metadata": {
        "id": "ZfPlZRgj6ymT"
      },
      "outputs": [],
      "source": [
        "df.sort_values(by=\"grade\")"
      ]
    },
    {
      "cell_type": "markdown",
      "metadata": {
        "id": "PSUHrkdM68uv"
      },
      "source": [
        "Grouping by a categorical column also shows empty categories:"
      ]
    },
    {
      "cell_type": "code",
      "execution_count": null,
      "metadata": {
        "id": "fhKbknQq7AL2"
      },
      "outputs": [],
      "source": [
        "df.groupby(\"grade\").size()"
      ]
    },
    {
      "cell_type": "markdown",
      "metadata": {
        "id": "GTIkhd1e7JYH"
      },
      "source": [
        "## Plotting\n",
        "\n",
        "See the [Plotting](https://pandas.pydata.org/docs/user_guide/visualization.html#visualization) docs.\n",
        "\n",
        "We use the standard convention for referencing the matplotlib API:"
      ]
    },
    {
      "cell_type": "code",
      "execution_count": null,
      "metadata": {
        "id": "TR9e_l8E7ZUU"
      },
      "outputs": [],
      "source": [
        "import matplotlib.pyplot as plt\n",
        "plt.close(\"all\")\n",
        "\n",
        "ts = pd.Series(np.random.randn(1000), index=pd.date_range(\"1/1/2000\", periods=1000))\n",
        "ts = ts.cumsum()\n",
        "ts.plot();"
      ]
    },
    {
      "cell_type": "markdown",
      "metadata": {
        "id": "FatFDTec7kQV"
      },
      "source": [
        "If running under Jupyter Notebook, the plot will appear on [`plot()`](https://pandas.pydata.org/docs/reference/api/pandas.Series.plot.html#pandas.Series.plot). Otherwise use [`matplotlib.pyplot.show`](https://matplotlib.org/3.1.1/api/_as_gen/matplotlib.pyplot.show.html) to show it or [`matplotlib.pyplot.savefig`](https://matplotlib.org/3.1.1/api/_as_gen/matplotlib.pyplot.savefig.html) to write it to a file.\n",
        "\n",
        "On a DataFrame, the [`plot()`](https://pandas.pydata.org/docs/reference/api/pandas.DataFrame.plot.html#pandas.DataFrame.plot) method is a convenience to plot all of the columns with labels:"
      ]
    },
    {
      "cell_type": "code",
      "execution_count": null,
      "metadata": {
        "id": "ikizbGQ78Ekf"
      },
      "outputs": [],
      "source": [
        "df = pd.DataFrame(\n",
        "    np.random.randn(1000, 4), index=ts.index, columns=[\"A\", \"B\", \"C\", \"D\"]\n",
        ")\n",
        "\n",
        "df = df.cumsum()\n",
        "plt.figure();\n",
        "df.plot();\n",
        "plt.legend(loc='best');"
      ]
    },
    {
      "cell_type": "markdown",
      "metadata": {
        "id": "QZRw9fWYjSu7"
      },
      "source": [
        "#### 👉 Save your work here\n",
        "\n",
        "\n"
      ]
    },
    {
      "cell_type": "markdown",
      "metadata": {
        "id": "AqN2l5fZ8My7"
      },
      "source": [
        "## Importing and exporting data"
      ]
    },
    {
      "cell_type": "markdown",
      "metadata": {
        "id": "Wf4VLZVv8RXZ"
      },
      "source": [
        "### CSV\n",
        "\n",
        "[Writing to a csv file](https://pandas.pydata.org/docs/user_guide/io.html#io-store-in-csv): using [`DataFrame.to_csv()`](https://pandas.pydata.org/docs/reference/api/pandas.DataFrame.to_csv.html#pandas.DataFrame.to_csv)"
      ]
    },
    {
      "cell_type": "code",
      "execution_count": null,
      "metadata": {
        "id": "cVJnX0hl8enJ"
      },
      "outputs": [],
      "source": [
        "df.to_csv(\"foo.csv\")"
      ]
    },
    {
      "cell_type": "markdown",
      "metadata": {
        "id": "NmDOwbEy8jT5"
      },
      "source": [
        "[Reading from a csv file](https://pandas.pydata.org/docs/user_guide/io.html#io-read-csv-table): using [`read_csv()`](https://pandas.pydata.org/docs/reference/api/pandas.read_csv.html#pandas.read_csv)"
      ]
    },
    {
      "cell_type": "code",
      "execution_count": null,
      "metadata": {
        "id": "CQIQtl8g8xWx"
      },
      "outputs": [],
      "source": [
        "pd.read_csv(\"foo.csv\")"
      ]
    },
    {
      "cell_type": "markdown",
      "metadata": {
        "id": "EAky-7nK84KU"
      },
      "source": [
        "### HDF5\n",
        "\n",
        "Reading and writing to [HDFStores](https://pandas.pydata.org/docs/user_guide/io.html#io-hdf5).\n",
        "\n",
        "Writing to a HDF5 Store using [`DataFrame.to_hdf()`](https://pandas.pydata.org/docs/reference/api/pandas.DataFrame.to_hdf.html#pandas.DataFrame.to_hdf):"
      ]
    },
    {
      "cell_type": "code",
      "execution_count": null,
      "metadata": {
        "id": "fRNcBUOb9JMU"
      },
      "outputs": [],
      "source": [
        "df.to_hdf(\"foo.h5\", \"df\")"
      ]
    },
    {
      "cell_type": "markdown",
      "metadata": {
        "id": "P-pgFSE09M6-"
      },
      "source": [
        "Reading from a HDF5 Store using [`read_hdf()`](https://pandas.pydata.org/docs/reference/api/pandas.read_hdf.html#pandas.read_hdf):"
      ]
    },
    {
      "cell_type": "code",
      "execution_count": null,
      "metadata": {
        "id": "G5RpQCFL9VuM"
      },
      "outputs": [],
      "source": [
        "pd.read_hdf(\"foo.h5\", \"df\")"
      ]
    },
    {
      "cell_type": "markdown",
      "metadata": {
        "id": "eZwSYwiV9ZAj"
      },
      "source": [
        "### Excel\n",
        "\n",
        "Reading and writing to [Excel](https://pandas.pydata.org/docs/user_guide/io.html#io-excel).\n",
        "\n",
        "Writing to an excel file using [`DataFrame.to_excel()`](https://pandas.pydata.org/docs/reference/api/pandas.DataFrame.to_excel.html#pandas.DataFrame.to_excel):"
      ]
    },
    {
      "cell_type": "code",
      "execution_count": null,
      "metadata": {
        "id": "O0jdwLa89meJ"
      },
      "outputs": [],
      "source": [
        "df.to_excel(\"foo.xlsx\", sheet_name=\"Sheet1\")"
      ]
    },
    {
      "cell_type": "markdown",
      "metadata": {
        "id": "AGyQVEyv9pvD"
      },
      "source": [
        "Reading from an excel file using [`read_excel()`](https://pandas.pydata.org/docs/reference/api/pandas.read_excel.html#pandas.read_excel):"
      ]
    },
    {
      "cell_type": "code",
      "execution_count": null,
      "metadata": {
        "id": "HGo5hOyf9wZA"
      },
      "outputs": [],
      "source": [
        "pd.read_excel(\"foo.xlsx\", \"Sheet1\", index_col=None, na_values=[\"NA\"])"
      ]
    },
    {
      "cell_type": "markdown",
      "metadata": {
        "id": "dxhe_O9h94Q_"
      },
      "source": [
        "## Gotchas\n",
        "\n",
        "If you are attempting to perform a boolean operation on a [`Series`](https://pandas.pydata.org/docs/reference/api/pandas.Series.html#pandas.Series) or [`DataFrame`](https://pandas.pydata.org/docs/reference/api/pandas.DataFrame.html#pandas.DataFrame) you might see an exception like:"
      ]
    },
    {
      "cell_type": "code",
      "execution_count": null,
      "metadata": {
        "id": "vaq5LnyV-Hk4"
      },
      "outputs": [],
      "source": [
        "if pd.Series([False, True, False]):\n",
        "     print(\"I was true\")"
      ]
    },
    {
      "cell_type": "markdown",
      "metadata": {
        "id": "9RLEJJVV-NHL"
      },
      "source": [
        "See [Comparisons](https://pandas.pydata.org/docs/user_guide/basics.html#basics-compare) and [Gotchas](https://pandas.pydata.org/docs/user_guide/gotchas.html#gotchas) for an explanation and what to do."
      ]
    },
    {
      "cell_type": "markdown",
      "metadata": {
        "id": "zHbBeGGujWFy"
      },
      "source": [
        "#### 👉 Save your work here\n",
        "\n",
        "\n"
      ]
    }
  ],
  "metadata": {
    "colab": {
      "provenance": [],
      "toc_visible": true
    },
    "kernelspec": {
      "display_name": "base",
      "language": "python",
      "name": "python3"
    },
    "language_info": {
      "codemirror_mode": {
        "name": "ipython",
        "version": 3
      },
      "file_extension": ".py",
      "mimetype": "text/x-python",
      "name": "python",
      "nbconvert_exporter": "python",
      "pygments_lexer": "ipython3",
      "version": "3.12.4"
    }
  },
  "nbformat": 4,
  "nbformat_minor": 0
}
