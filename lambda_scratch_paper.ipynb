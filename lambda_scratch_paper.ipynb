{
 "cells": [
  {
   "cell_type": "code",
   "execution_count": 8,
   "metadata": {},
   "outputs": [
    {
     "name": "stdout",
     "output_type": "stream",
     "text": [
      "200\n",
      "[10, 20, 30, 10, 20, 30, 10, 20, 30]\n"
     ]
    }
   ],
   "source": [
    "def retlam(value):\n",
    "    return lambda parameter: parameter * value\n",
    "    # you're writing a function that returns a lambda function\n",
    "\n",
    "mylambda = retlam(10) # the 10 here is value \n",
    "print(mylambda(20)) # the 20 is parameter\n",
    "\n",
    "numbers = [10, 20, 30]\n",
    "mylambda2 = retlam(3) #this is the value \n",
    "print(mylambda2(numbers)) # numbers is the parameter"
   ]
  },
  {
   "cell_type": "code",
   "execution_count": 10,
   "metadata": {},
   "outputs": [
    {
     "name": "stdout",
     "output_type": "stream",
     "text": [
      "[17, 27, 37]\n"
     ]
    }
   ],
   "source": [
    "def makeLambda(value):\n",
    "    return lambda parameters: [x + value for x in parameters]\n",
    "\n",
    "numbers = [10, 20, 30]\n",
    "mylambda = makeLambda(7)\n",
    "print(mylambda(numbers))"
   ]
  },
  {
   "cell_type": "code",
   "execution_count": null,
   "metadata": {},
   "outputs": [],
   "source": [
    "# function name as a parameter. takes a function as parameter in a lambda function\n",
    "\n"
   ]
  }
 ],
 "metadata": {
  "kernelspec": {
   "display_name": "base",
   "language": "python",
   "name": "python3"
  },
  "language_info": {
   "codemirror_mode": {
    "name": "ipython",
    "version": 3
   },
   "file_extension": ".py",
   "mimetype": "text/x-python",
   "name": "python",
   "nbconvert_exporter": "python",
   "pygments_lexer": "ipython3",
   "version": "3.12.4"
  }
 },
 "nbformat": 4,
 "nbformat_minor": 2
}
